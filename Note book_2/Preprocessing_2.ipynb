{
 "cells": [
  {
   "cell_type": "markdown",
   "id": "d5ccb764",
   "metadata": {},
   "source": [
    "### read data"
   ]
  },
  {
   "cell_type": "code",
   "execution_count": 1,
   "id": "908163ba",
   "metadata": {},
   "outputs": [],
   "source": [
    "from sklearn.feature_extraction.text import TfidfVectorizer\n",
    "from sklearn.linear_model import LogisticRegression\n",
    "from sklearn.pipeline import Pipeline\n",
    "import pandas as pd\n",
    "from sklearn.model_selection import train_test_split, GridSearchCV, RandomizedSearchCV\n",
    "from sklearn.compose import ColumnTransformer\n",
    "from sklearn.preprocessing import StandardScaler, OneHotEncoder\n",
    "from sklearn.metrics import classification_report, accuracy_score\n",
    "from scipy.stats import uniform\n",
    "import joblib\n",
    "import seaborn as sns\n",
    "import matplotlib.pyplot as plt\n",
    "from sklearn.metrics import f1_score\n",
    "from sklearn.feature_extraction.text import CountVectorizer"
   ]
  },
  {
   "cell_type": "code",
   "execution_count": 2,
   "id": "930f654a",
   "metadata": {},
   "outputs": [],
   "source": [
    "data=pd.read_csv(\"../Data/fake_news_dataset.csv\")"
   ]
  },
  {
   "cell_type": "code",
   "execution_count": 3,
   "id": "aba8a3bb",
   "metadata": {},
   "outputs": [
    {
     "data": {
      "application/vnd.microsoft.datawrangler.viewer.v0+json": {
       "columns": [
        {
         "name": "index",
         "rawType": "int64",
         "type": "integer"
        },
        {
         "name": "title",
         "rawType": "object",
         "type": "string"
        },
        {
         "name": "text",
         "rawType": "object",
         "type": "string"
        },
        {
         "name": "date",
         "rawType": "object",
         "type": "string"
        },
        {
         "name": "source",
         "rawType": "object",
         "type": "string"
        },
        {
         "name": "author",
         "rawType": "object",
         "type": "string"
        },
        {
         "name": "category",
         "rawType": "object",
         "type": "string"
        },
        {
         "name": "label",
         "rawType": "object",
         "type": "string"
        }
       ],
       "ref": "43223262-43e6-4750-85af-28237dbdb3e3",
       "rows": [
        [
         "0",
         "Foreign Democrat final.",
         "more tax development both store agreement lawyer hear outside continue reach difference yeah figure your power fear identify there protect security great national nothing fast story why late nearly bit cost tough since question to power almost future young conference behind ahead building teach million box receive Mrs risk benefit month compare environment class imagine you vote community reason set once idea him answer many how purpose deep training game own true language garden of partner result face military discover discover data glass bed maintain test way development across top culture glass yes decision hope necessary as trade organization talk debate peace stay community development six wide write itself several fight teach billion for common fear we personal church establish store kind hundred debate hotel cut sister audience sound case that stay within information trouble be debate great themselves responsibility force people hundred bar miss others sometimes build room interesting however charge what especially north no especially us travel industry about including face ten behind black series place age soldier early trouble middle would along case what money significant sound song reason poor free want thank cultural range shoulder rest movie political fear hear past leader up edge professor determine law act change middle prove say notice travel open director argue economic seven game matter season",
         "3/10/2023",
         "NY Times",
         "Paula George",
         "Politics",
         "real"
        ],
        [
         "1",
         "To offer down resource great point.",
         "probably guess western behind likely next investment consumer range wrong exactly once attack shoulder movie partner daughter on executive tonight factor push development pass question field firm accept I represent answer computer win fast small character total myself air must difficult green fast writer adult though individual learn interview our available drug against group produce before large wish find even media nature then last computer project story special stand lead build during ball contain road since history customer garden figure kind throw tell discuss remain view morning put mouth while serve great certain free two structure skin yard position suffer fast someone ok mind must something outside position write theory ok letter for debate seat top fall authority bit deep there get man view loss bring friend free certain economic final occur summer similar best discover area real area still scientist social everybody front direction arrive open own down next lawyer baby already size stand put financial sister clear whether save into realize right break quickly music customer price prevent truth effort which probably strong friend everything also body together political interview least research benefit why dog mean near interest unit seek blood leader husband bring teacher age apply fill guess store south woman television worry build young style maybe agreement ability relate amount actually quite whose smile student current mother simply gun store Republican none when shoulder market admit knowledge animal majority product attorney approach on probably",
         "5/25/2022",
         "Fox News",
         "Joseph Hill",
         "Politics",
         "fake"
        ],
        [
         "2",
         "Himself church myself carry.",
         "them identify forward present success risk several front pull blood choose born prove we clear approach language election future plant other those yourself all thing side soon guy vote him should practice dream until find despite less artist minute although teacher social eye top less make back care thus much small act outside college because up travel continue night name military room himself instead many month follow long president community people like attention fall crime history despite fill recently need commercial investment address send religious join opportunity story but idea exactly back difference loss degree whose throughout lead response almost toward themselves card national structure state arm low threat property eat bill public trip bed note hair teach defense citizen my rather believe say level wall short religious theory hair respond town return discussion investment never success entire admit develop south ability television yard daughter while fire modern send suggest skin could outside work office protect determine teach structure door fund ready gun role everyone often father establish majority point set choice meet think treatment animal audience guess hear student other certain inside assume check approach senior body once condition just trial occur foot explain police certain kid into special share deal write southern nature exactly respond kid help cause manager TV ago word nor her care reality daughter find answer affect",
         "9/1/2022",
         "CNN",
         "Julia Robinson",
         "Business",
         "fake"
        ],
        [
         "3",
         "You unit its should.",
         "phone which item yard Republican safe where police identify either once participant not man human tough enough offer high imagine point police woman paper cover many reach service will likely president conference film agree discover moment positive help task share necessary story right finally compare traditional change for reason purpose single crime available point building wear speech about summer why senior couple somebody PM remember push less data hotel authority situation for much visit general society firm positive player play page miss brother window indeed energy lose stage perhaps itself range common story hot strong adult produce next carry guess television travel form meeting industry shoulder market sure certain parent walk husband behind cultural whatever collection difficult we team probably produce quickly health full white laugh represent religious line force I exist admit statement try by front short pattern baby open claim these chance face else way decade sing nature rich white bring employee catch time industry official family million camera some including everybody security wait art vote maybe rich detail sort another let forget product police third evidence end old throughout student discussion office put nature whatever figure sign nature population town team against arm war include need visit would wait small just bed I line school eight might bag official worker television condition so institution information full protect food fight attack include current even per chair accept reflect speak answer bag officer understand good weight money movement main traditional western information account adult even gas",
         "2/7/2023",
         "Reuters",
         "Mr. David Foster DDS",
         "Science",
         "fake"
        ],
        [
         "4",
         "Billion believe employee summer how.",
         "wonder myself fact difficult course forget exactly pattern both sell training understand so ahead single western ago worry direction various agree first remember tonight year building agreement involve effect over even total game look need evidence particularly attorney agency apply produce theory deep ok fund relationship suffer guess put build morning quickly home authority physical choice can environment skin fill cost state force fire again establish recent two world style beyond bad while game memory world what hair anyone simply week try sport animal yeah hundred visit note within value various military laugh politics official between front would upon attack shoulder administration wish space receive less thing with structure produce cultural approach law doctor money interesting lawyer TV each activity however child item space sell movie south make around number camera past process fear wait total city site next party charge father up knowledge compare front attack check watch beat yard knowledge before quality field institution month child actually right become collection camera need include pattern after behind best ability expect possible star girl four radio establish charge budget suggest thousand she base become blood direction middle support fight game foot court reduce single whether or at score anything its sister management at focus machine single husband through free language run want shake goal food",
         "4/3/2023",
         "CNN",
         "Austin Walker",
         "Technology",
         "fake"
        ]
       ],
       "shape": {
        "columns": 7,
        "rows": 5
       }
      },
      "text/html": [
       "<div>\n",
       "<style scoped>\n",
       "    .dataframe tbody tr th:only-of-type {\n",
       "        vertical-align: middle;\n",
       "    }\n",
       "\n",
       "    .dataframe tbody tr th {\n",
       "        vertical-align: top;\n",
       "    }\n",
       "\n",
       "    .dataframe thead th {\n",
       "        text-align: right;\n",
       "    }\n",
       "</style>\n",
       "<table border=\"1\" class=\"dataframe\">\n",
       "  <thead>\n",
       "    <tr style=\"text-align: right;\">\n",
       "      <th></th>\n",
       "      <th>title</th>\n",
       "      <th>text</th>\n",
       "      <th>date</th>\n",
       "      <th>source</th>\n",
       "      <th>author</th>\n",
       "      <th>category</th>\n",
       "      <th>label</th>\n",
       "    </tr>\n",
       "  </thead>\n",
       "  <tbody>\n",
       "    <tr>\n",
       "      <th>0</th>\n",
       "      <td>Foreign Democrat final.</td>\n",
       "      <td>more tax development both store agreement lawy...</td>\n",
       "      <td>3/10/2023</td>\n",
       "      <td>NY Times</td>\n",
       "      <td>Paula George</td>\n",
       "      <td>Politics</td>\n",
       "      <td>real</td>\n",
       "    </tr>\n",
       "    <tr>\n",
       "      <th>1</th>\n",
       "      <td>To offer down resource great point.</td>\n",
       "      <td>probably guess western behind likely next inve...</td>\n",
       "      <td>5/25/2022</td>\n",
       "      <td>Fox News</td>\n",
       "      <td>Joseph Hill</td>\n",
       "      <td>Politics</td>\n",
       "      <td>fake</td>\n",
       "    </tr>\n",
       "    <tr>\n",
       "      <th>2</th>\n",
       "      <td>Himself church myself carry.</td>\n",
       "      <td>them identify forward present success risk sev...</td>\n",
       "      <td>9/1/2022</td>\n",
       "      <td>CNN</td>\n",
       "      <td>Julia Robinson</td>\n",
       "      <td>Business</td>\n",
       "      <td>fake</td>\n",
       "    </tr>\n",
       "    <tr>\n",
       "      <th>3</th>\n",
       "      <td>You unit its should.</td>\n",
       "      <td>phone which item yard Republican safe where po...</td>\n",
       "      <td>2/7/2023</td>\n",
       "      <td>Reuters</td>\n",
       "      <td>Mr. David Foster DDS</td>\n",
       "      <td>Science</td>\n",
       "      <td>fake</td>\n",
       "    </tr>\n",
       "    <tr>\n",
       "      <th>4</th>\n",
       "      <td>Billion believe employee summer how.</td>\n",
       "      <td>wonder myself fact difficult course forget exa...</td>\n",
       "      <td>4/3/2023</td>\n",
       "      <td>CNN</td>\n",
       "      <td>Austin Walker</td>\n",
       "      <td>Technology</td>\n",
       "      <td>fake</td>\n",
       "    </tr>\n",
       "  </tbody>\n",
       "</table>\n",
       "</div>"
      ],
      "text/plain": [
       "                                  title  \\\n",
       "0               Foreign Democrat final.   \n",
       "1   To offer down resource great point.   \n",
       "2          Himself church myself carry.   \n",
       "3                  You unit its should.   \n",
       "4  Billion believe employee summer how.   \n",
       "\n",
       "                                                text       date    source  \\\n",
       "0  more tax development both store agreement lawy...  3/10/2023  NY Times   \n",
       "1  probably guess western behind likely next inve...  5/25/2022  Fox News   \n",
       "2  them identify forward present success risk sev...   9/1/2022       CNN   \n",
       "3  phone which item yard Republican safe where po...   2/7/2023   Reuters   \n",
       "4  wonder myself fact difficult course forget exa...   4/3/2023       CNN   \n",
       "\n",
       "                 author    category label  \n",
       "0          Paula George    Politics  real  \n",
       "1           Joseph Hill    Politics  fake  \n",
       "2        Julia Robinson    Business  fake  \n",
       "3  Mr. David Foster DDS     Science  fake  \n",
       "4         Austin Walker  Technology  fake  "
      ]
     },
     "execution_count": 3,
     "metadata": {},
     "output_type": "execute_result"
    }
   ],
   "source": [
    "data.head()"
   ]
  },
  {
   "cell_type": "code",
   "execution_count": 4,
   "id": "c69cf1cc",
   "metadata": {},
   "outputs": [
    {
     "data": {
      "application/vnd.microsoft.datawrangler.viewer.v0+json": {
       "columns": [
        {
         "name": "label",
         "rawType": "object",
         "type": "string"
        },
        {
         "name": "count",
         "rawType": "int64",
         "type": "integer"
        }
       ],
       "ref": "4784fd86-7da1-4fbe-8c3f-40c4f3b9a601",
       "rows": [
        [
         "fake",
         "10056"
        ],
        [
         "real",
         "9944"
        ]
       ],
       "shape": {
        "columns": 1,
        "rows": 2
       }
      },
      "text/plain": [
       "label\n",
       "fake    10056\n",
       "real     9944\n",
       "Name: count, dtype: int64"
      ]
     },
     "execution_count": 4,
     "metadata": {},
     "output_type": "execute_result"
    }
   ],
   "source": [
    "data[\"label\"].value_counts()"
   ]
  },
  {
   "cell_type": "code",
   "execution_count": 5,
   "id": "9e2710cc",
   "metadata": {},
   "outputs": [
    {
     "data": {
      "text/plain": [
       "<function matplotlib.pyplot.show(close=None, block=None)>"
      ]
     },
     "execution_count": 5,
     "metadata": {},
     "output_type": "execute_result"
    },
    {
     "data": {
      "image/png": "[encoded data removed]",
      "text/plain": [
       "<Figure size 640x480 with 1 Axes>"
      ]
     },
     "metadata": {},
     "output_type": "display_data"
    }
   ],
   "source": [
    "ax = plt.axes()\n",
    "sns.heatmap(data.isna().transpose() , cbar=False , ax=ax)\n",
    "plt.xlabel(\"Columns\")\n",
    "plt.ylabel(\"Missing Values\")\n",
    "plt.show"
   ]
  },
  {
   "cell_type": "code",
   "execution_count": 6,
   "id": "58e05ce6",
   "metadata": {},
   "outputs": [
    {
     "data": {
      "text/plain": [
       "(20000, 7)"
      ]
     },
     "execution_count": 6,
     "metadata": {},
     "output_type": "execute_result"
    }
   ],
   "source": [
    "data.shape"
   ]
  },
  {
   "cell_type": "code",
   "execution_count": 7,
   "id": "9a4b06cb",
   "metadata": {},
   "outputs": [
    {
     "name": "stdout",
     "output_type": "stream",
     "text": [
      "<class 'pandas.core.frame.DataFrame'>\n",
      "RangeIndex: 20000 entries, 0 to 19999\n",
      "Data columns (total 7 columns):\n",
      " #   Column    Non-Null Count  Dtype \n",
      "---  ------    --------------  ----- \n",
      " 0   title     20000 non-null  object\n",
      " 1   text      20000 non-null  object\n",
      " 2   date      20000 non-null  object\n",
      " 3   source    19000 non-null  object\n",
      " 4   author    19000 non-null  object\n",
      " 5   category  20000 non-null  object\n",
      " 6   label     20000 non-null  object\n",
      "dtypes: object(7)\n",
      "memory usage: 1.1+ MB\n"
     ]
    }
   ],
   "source": [
    "data.info()"
   ]
  },
  {
   "cell_type": "markdown",
   "id": "c401912f",
   "metadata": {},
   "source": [
    "### Cheak source    "
   ]
  },
  {
   "cell_type": "code",
   "execution_count": 8,
   "id": "7c73b7ae",
   "metadata": {},
   "outputs": [
    {
     "data": {
      "application/vnd.microsoft.datawrangler.viewer.v0+json": {
       "columns": [
        {
         "name": "source",
         "rawType": "object",
         "type": "string"
        },
        {
         "name": "count",
         "rawType": "int64",
         "type": "integer"
        }
       ],
       "ref": "6e75fb3e-1ebc-43c4-98cd-6703cd3ca91f",
       "rows": [
        [
         "Daily News",
         "2439"
        ],
        [
         "BBC",
         "2393"
        ],
        [
         "The Guardian",
         "2382"
        ],
        [
         "CNN",
         "2375"
        ],
        [
         "NY Times",
         "2372"
        ],
        [
         "Fox News",
         "2362"
        ],
        [
         "Reuters",
         "2360"
        ],
        [
         "Global Times",
         "2317"
        ]
       ],
       "shape": {
        "columns": 1,
        "rows": 8
       }
      },
      "text/plain": [
       "source\n",
       "Daily News      2439\n",
       "BBC             2393\n",
       "The Guardian    2382\n",
       "CNN             2375\n",
       "NY Times        2372\n",
       "Fox News        2362\n",
       "Reuters         2360\n",
       "Global Times    2317\n",
       "Name: count, dtype: int64"
      ]
     },
     "execution_count": 8,
     "metadata": {},
     "output_type": "execute_result"
    }
   ],
   "source": [
    "data[\"source\"].value_counts()"
   ]
  },
  {
   "cell_type": "code",
   "execution_count": 9,
   "id": "d10f9c99",
   "metadata": {},
   "outputs": [
    {
     "data": {
      "text/plain": [
       "Text(0.5, 1.0, 'Count of Real vs Fake per Source')"
      ]
     },
     "execution_count": 9,
     "metadata": {},
     "output_type": "execute_result"
    },
    {
     "data": {
      "image/png": "[encoded data removed]",
      "text/plain": [
       "<Figure size 640x480 with 1 Axes>"
      ]
     },
     "metadata": {},
     "output_type": "display_data"
    }
   ],
   "source": [
    "data[\"source\"].value_counts()\n",
    "sns.countplot(data=data, x=\"source\", hue=\"label\")\n",
    "plt.title(\"Count of Real vs Fake per Source\")"
   ]
  },
  {
   "cell_type": "markdown",
   "id": "5e38c2fb",
   "metadata": {},
   "source": [
    "### Cheak author    "
   ]
  },
  {
   "cell_type": "code",
   "execution_count": 10,
   "id": "829b9c3c",
   "metadata": {},
   "outputs": [
    {
     "data": {
      "application/vnd.microsoft.datawrangler.viewer.v0+json": {
       "columns": [
        {
         "name": "author",
         "rawType": "object",
         "type": "string"
        },
        {
         "name": "count",
         "rawType": "int64",
         "type": "integer"
        }
       ],
       "ref": "5131639d-2b62-46e6-b02c-63c0d7b38eea",
       "rows": [
        [
         "Michael Smith",
         "12"
        ],
        [
         "John Smith",
         "11"
        ],
        [
         "Christopher Johnson",
         "9"
        ],
        [
         "Jennifer Davis",
         "7"
        ],
        [
         "Michael Lee",
         "7"
        ],
        [
         "David Brown",
         "7"
        ],
        [
         "Lisa Williams",
         "7"
        ],
        [
         "John Brown",
         "7"
        ],
        [
         "James Smith",
         "7"
        ],
        [
         "David Johnson",
         "6"
        ],
        [
         "David Garcia",
         "6"
        ],
        [
         "James Johnson",
         "6"
        ],
        [
         "Ashley Smith",
         "6"
        ],
        [
         "Michael Williams",
         "5"
        ],
        [
         "James Taylor",
         "5"
        ],
        [
         "Patricia Smith",
         "5"
        ],
        [
         "Anthony Jones",
         "5"
        ],
        [
         "Stephanie Smith",
         "5"
        ],
        [
         "Jennifer Miller",
         "5"
        ],
        [
         "Matthew Smith",
         "5"
        ],
        [
         "Jeffrey Jones",
         "5"
        ],
        [
         "Jessica Brown",
         "5"
        ],
        [
         "Laura Johnson",
         "5"
        ],
        [
         "Michael Young",
         "5"
        ],
        [
         "James Brown",
         "5"
        ],
        [
         "David Jones",
         "5"
        ],
        [
         "Elizabeth Johnson",
         "5"
        ],
        [
         "Joshua Smith",
         "5"
        ],
        [
         "Sarah Williams",
         "5"
        ],
        [
         "Kimberly Smith",
         "5"
        ],
        [
         "Ashley Davis",
         "5"
        ],
        [
         "Mark Jones",
         "5"
        ],
        [
         "Michael Brown",
         "5"
        ],
        [
         "James Harris",
         "5"
        ],
        [
         "Sarah Johnson",
         "5"
        ],
        [
         "James Jones",
         "5"
        ],
        [
         "Ryan Smith",
         "5"
        ],
        [
         "Jennifer Smith",
         "5"
        ],
        [
         "Michael Morales",
         "5"
        ],
        [
         "Christopher Martinez",
         "4"
        ],
        [
         "William Gonzalez",
         "4"
        ],
        [
         "Kathleen Johnson",
         "4"
        ],
        [
         "Timothy Jimenez",
         "4"
        ],
        [
         "Jessica Johnson",
         "4"
        ],
        [
         "Robert Brown",
         "4"
        ],
        [
         "Mary Williams",
         "4"
        ],
        [
         "John Jones",
         "4"
        ],
        [
         "Cynthia Smith",
         "4"
        ],
        [
         "Robert Johnson",
         "4"
        ],
        [
         "Michael Lewis",
         "4"
        ]
       ],
       "shape": {
        "columns": 1,
        "rows": 17051
       }
      },
      "text/plain": [
       "author\n",
       "Michael Smith          12\n",
       "John Smith             11\n",
       "Christopher Johnson     9\n",
       "Jennifer Davis          7\n",
       "Michael Lee             7\n",
       "                       ..\n",
       "Andrew Stark            1\n",
       "Samuel Gates            1\n",
       "Kristen Buchanan        1\n",
       "Deborah Leon            1\n",
       "David Wise              1\n",
       "Name: count, Length: 17051, dtype: int64"
      ]
     },
     "execution_count": 10,
     "metadata": {},
     "output_type": "execute_result"
    }
   ],
   "source": [
    "data[\"author\"].value_counts()"
   ]
  },
  {
   "cell_type": "markdown",
   "id": "fb54742e",
   "metadata": {},
   "source": [
    "### Cheak category      "
   ]
  },
  {
   "cell_type": "code",
   "execution_count": 11,
   "id": "642accb3",
   "metadata": {},
   "outputs": [],
   "source": [
    "cate_count=data[\"category\"].value_counts()"
   ]
  },
  {
   "cell_type": "code",
   "execution_count": 12,
   "id": "2299bb50",
   "metadata": {},
   "outputs": [
    {
     "data": {
      "image/png": "[encoded data removed]",
      "text/plain": [
       "<Figure size 640x480 with 1 Axes>"
      ]
     },
     "metadata": {},
     "output_type": "display_data"
    }
   ],
   "source": [
    "plt.pie(cate_count, labels=cate_count.index,\n",
    "        autopct='%1.1f%%', startangle=140, counterclock=False)\n",
    "\n",
    "plt.tight_layout()\n",
    "plt.show()"
   ]
  },
  {
   "cell_type": "code",
   "execution_count": 13,
   "id": "55e028fa",
   "metadata": {},
   "outputs": [
    {
     "data": {
      "text/plain": [
       "Text(0.5, 1.0, 'Count of Real vs Fake per category')"
      ]
     },
     "execution_count": 13,
     "metadata": {},
     "output_type": "execute_result"
    },
    {
     "data": {
      "image/png": "[encoded data removed]",
      "text/plain": [
       "<Figure size 640x480 with 1 Axes>"
      ]
     },
     "metadata": {},
     "output_type": "display_data"
    }
   ],
   "source": [
    "sns.countplot(data=data, x=\"category\", hue=\"label\")\n",
    "plt.title(\"Count of Real vs Fake per category\")"
   ]
  },
  {
   "cell_type": "markdown",
   "id": "71c5ccac",
   "metadata": {},
   "source": [
    "### Cheak date   "
   ]
  },
  {
   "cell_type": "code",
   "execution_count": 14,
   "id": "23dc7a0b",
   "metadata": {},
   "outputs": [
    {
     "data": {
      "application/vnd.microsoft.datawrangler.viewer.v0+json": {
       "columns": [
        {
         "name": "date",
         "rawType": "object",
         "type": "string"
        },
        {
         "name": "count",
         "rawType": "int64",
         "type": "integer"
        }
       ],
       "ref": "4203a874-a216-48e4-8f98-417b1aac5737",
       "rows": [
        [
         "8/31/2023",
         "32"
        ],
        [
         "12/20/2022",
         "31"
        ],
        [
         "3/4/2024",
         "30"
        ],
        [
         "2/19/2025",
         "30"
        ],
        [
         "6/21/2022",
         "30"
        ],
        [
         "6/9/2024",
         "30"
        ],
        [
         "11/27/2023",
         "29"
        ],
        [
         "4/29/2024",
         "29"
        ],
        [
         "12/19/2024",
         "29"
        ],
        [
         "6/8/2023",
         "29"
        ],
        [
         "1/15/2024",
         "29"
        ],
        [
         "7/29/2024",
         "29"
        ],
        [
         "10/7/2022",
         "29"
        ],
        [
         "3/15/2025",
         "29"
        ],
        [
         "8/25/2024",
         "28"
        ],
        [
         "12/3/2023",
         "28"
        ],
        [
         "5/25/2022",
         "28"
        ],
        [
         "7/11/2023",
         "28"
        ],
        [
         "9/1/2024",
         "28"
        ],
        [
         "8/12/2023",
         "28"
        ],
        [
         "11/7/2022",
         "28"
        ],
        [
         "2/3/2023",
         "27"
        ],
        [
         "6/13/2023",
         "27"
        ],
        [
         "11/15/2023",
         "27"
        ],
        [
         "2/16/2024",
         "27"
        ],
        [
         "9/23/2022",
         "27"
        ],
        [
         "8/14/2024",
         "27"
        ],
        [
         "5/17/2024",
         "27"
        ],
        [
         "4/21/2023",
         "27"
        ],
        [
         "10/20/2024",
         "27"
        ],
        [
         "3/17/2023",
         "27"
        ],
        [
         "8/17/2024",
         "27"
        ],
        [
         "11/17/2024",
         "27"
        ],
        [
         "8/6/2024",
         "26"
        ],
        [
         "12/25/2023",
         "26"
        ],
        [
         "11/21/2023",
         "26"
        ],
        [
         "1/14/2023",
         "26"
        ],
        [
         "11/17/2022",
         "26"
        ],
        [
         "10/15/2023",
         "26"
        ],
        [
         "10/19/2024",
         "26"
        ],
        [
         "6/7/2022",
         "26"
        ],
        [
         "5/29/2023",
         "26"
        ],
        [
         "8/23/2024",
         "26"
        ],
        [
         "6/2/2023",
         "26"
        ],
        [
         "7/1/2023",
         "26"
        ],
        [
         "10/6/2023",
         "26"
        ],
        [
         "12/13/2023",
         "26"
        ],
        [
         "7/26/2023",
         "26"
        ],
        [
         "12/24/2024",
         "26"
        ],
        [
         "8/29/2023",
         "26"
        ]
       ],
       "shape": {
        "columns": 1,
        "rows": 1096
       }
      },
      "text/plain": [
       "date\n",
       "8/31/2023     32\n",
       "12/20/2022    31\n",
       "3/4/2024      30\n",
       "2/19/2025     30\n",
       "6/21/2022     30\n",
       "              ..\n",
       "10/14/2024     8\n",
       "6/15/2024      8\n",
       "4/17/2023      7\n",
       "4/4/2025       7\n",
       "8/11/2023      6\n",
       "Name: count, Length: 1096, dtype: int64"
      ]
     },
     "execution_count": 14,
     "metadata": {},
     "output_type": "execute_result"
    }
   ],
   "source": [
    "data[\"date\"].value_counts()   "
   ]
  },
  {
   "cell_type": "code",
   "execution_count": 15,
   "id": "8d9c174e",
   "metadata": {},
   "outputs": [],
   "source": [
    "data[\"date_2\"] = pd.to_datetime(data[\"date\"], errors='coerce')"
   ]
  },
  {
   "cell_type": "code",
   "execution_count": 16,
   "id": "b994f7fd",
   "metadata": {},
   "outputs": [],
   "source": [
    "data[\"years\"] = data[\"date_2\"].dt.year\n",
    "data[\"months\"] = data[\"date_2\"].dt.month"
   ]
  },
  {
   "cell_type": "code",
   "execution_count": 17,
   "id": "f3e86d13",
   "metadata": {},
   "outputs": [
    {
     "data": {
      "application/vnd.microsoft.datawrangler.viewer.v0+json": {
       "columns": [
        {
         "name": "index",
         "rawType": "int64",
         "type": "integer"
        },
        {
         "name": "title",
         "rawType": "object",
         "type": "string"
        },
        {
         "name": "text",
         "rawType": "object",
         "type": "string"
        },
        {
         "name": "date",
         "rawType": "object",
         "type": "string"
        },
        {
         "name": "source",
         "rawType": "object",
         "type": "string"
        },
        {
         "name": "author",
         "rawType": "object",
         "type": "string"
        },
        {
         "name": "category",
         "rawType": "object",
         "type": "string"
        },
        {
         "name": "label",
         "rawType": "object",
         "type": "string"
        },
        {
         "name": "date_2",
         "rawType": "datetime64[ns]",
         "type": "datetime"
        },
        {
         "name": "years",
         "rawType": "int32",
         "type": "integer"
        },
        {
         "name": "months",
         "rawType": "int32",
         "type": "integer"
        }
       ],
       "ref": "ee32e1e6-971c-47e0-be62-a2183e022c0f",
       "rows": [
        [
         "0",
         "Foreign Democrat final.",
         "more tax development both store agreement lawyer hear outside continue reach difference yeah figure your power fear identify there protect security great national nothing fast story why late nearly bit cost tough since question to power almost future young conference behind ahead building teach million box receive Mrs risk benefit month compare environment class imagine you vote community reason set once idea him answer many how purpose deep training game own true language garden of partner result face military discover discover data glass bed maintain test way development across top culture glass yes decision hope necessary as trade organization talk debate peace stay community development six wide write itself several fight teach billion for common fear we personal church establish store kind hundred debate hotel cut sister audience sound case that stay within information trouble be debate great themselves responsibility force people hundred bar miss others sometimes build room interesting however charge what especially north no especially us travel industry about including face ten behind black series place age soldier early trouble middle would along case what money significant sound song reason poor free want thank cultural range shoulder rest movie political fear hear past leader up edge professor determine law act change middle prove say notice travel open director argue economic seven game matter season",
         "3/10/2023",
         "NY Times",
         "Paula George",
         "Politics",
         "real",
         "2023-03-10 00:00:00",
         "2023",
         "3"
        ],
        [
         "1",
         "To offer down resource great point.",
         "probably guess western behind likely next investment consumer range wrong exactly once attack shoulder movie partner daughter on executive tonight factor push development pass question field firm accept I represent answer computer win fast small character total myself air must difficult green fast writer adult though individual learn interview our available drug against group produce before large wish find even media nature then last computer project story special stand lead build during ball contain road since history customer garden figure kind throw tell discuss remain view morning put mouth while serve great certain free two structure skin yard position suffer fast someone ok mind must something outside position write theory ok letter for debate seat top fall authority bit deep there get man view loss bring friend free certain economic final occur summer similar best discover area real area still scientist social everybody front direction arrive open own down next lawyer baby already size stand put financial sister clear whether save into realize right break quickly music customer price prevent truth effort which probably strong friend everything also body together political interview least research benefit why dog mean near interest unit seek blood leader husband bring teacher age apply fill guess store south woman television worry build young style maybe agreement ability relate amount actually quite whose smile student current mother simply gun store Republican none when shoulder market admit knowledge animal majority product attorney approach on probably",
         "5/25/2022",
         "Fox News",
         "Joseph Hill",
         "Politics",
         "fake",
         "2022-05-25 00:00:00",
         "2022",
         "5"
        ],
        [
         "2",
         "Himself church myself carry.",
         "them identify forward present success risk several front pull blood choose born prove we clear approach language election future plant other those yourself all thing side soon guy vote him should practice dream until find despite less artist minute although teacher social eye top less make back care thus much small act outside college because up travel continue night name military room himself instead many month follow long president community people like attention fall crime history despite fill recently need commercial investment address send religious join opportunity story but idea exactly back difference loss degree whose throughout lead response almost toward themselves card national structure state arm low threat property eat bill public trip bed note hair teach defense citizen my rather believe say level wall short religious theory hair respond town return discussion investment never success entire admit develop south ability television yard daughter while fire modern send suggest skin could outside work office protect determine teach structure door fund ready gun role everyone often father establish majority point set choice meet think treatment animal audience guess hear student other certain inside assume check approach senior body once condition just trial occur foot explain police certain kid into special share deal write southern nature exactly respond kid help cause manager TV ago word nor her care reality daughter find answer affect",
         "9/1/2022",
         "CNN",
         "Julia Robinson",
         "Business",
         "fake",
         "2022-09-01 00:00:00",
         "2022",
         "9"
        ],
        [
         "3",
         "You unit its should.",
         "phone which item yard Republican safe where police identify either once participant not man human tough enough offer high imagine point police woman paper cover many reach service will likely president conference film agree discover moment positive help task share necessary story right finally compare traditional change for reason purpose single crime available point building wear speech about summer why senior couple somebody PM remember push less data hotel authority situation for much visit general society firm positive player play page miss brother window indeed energy lose stage perhaps itself range common story hot strong adult produce next carry guess television travel form meeting industry shoulder market sure certain parent walk husband behind cultural whatever collection difficult we team probably produce quickly health full white laugh represent religious line force I exist admit statement try by front short pattern baby open claim these chance face else way decade sing nature rich white bring employee catch time industry official family million camera some including everybody security wait art vote maybe rich detail sort another let forget product police third evidence end old throughout student discussion office put nature whatever figure sign nature population town team against arm war include need visit would wait small just bed I line school eight might bag official worker television condition so institution information full protect food fight attack include current even per chair accept reflect speak answer bag officer understand good weight money movement main traditional western information account adult even gas",
         "2/7/2023",
         "Reuters",
         "Mr. David Foster DDS",
         "Science",
         "fake",
         "2023-02-07 00:00:00",
         "2023",
         "2"
        ],
        [
         "4",
         "Billion believe employee summer how.",
         "wonder myself fact difficult course forget exactly pattern both sell training understand so ahead single western ago worry direction various agree first remember tonight year building agreement involve effect over even total game look need evidence particularly attorney agency apply produce theory deep ok fund relationship suffer guess put build morning quickly home authority physical choice can environment skin fill cost state force fire again establish recent two world style beyond bad while game memory world what hair anyone simply week try sport animal yeah hundred visit note within value various military laugh politics official between front would upon attack shoulder administration wish space receive less thing with structure produce cultural approach law doctor money interesting lawyer TV each activity however child item space sell movie south make around number camera past process fear wait total city site next party charge father up knowledge compare front attack check watch beat yard knowledge before quality field institution month child actually right become collection camera need include pattern after behind best ability expect possible star girl four radio establish charge budget suggest thousand she base become blood direction middle support fight game foot court reduce single whether or at score anything its sister management at focus machine single husband through free language run want shake goal food",
         "4/3/2023",
         "CNN",
         "Austin Walker",
         "Technology",
         "fake",
         "2023-04-03 00:00:00",
         "2023",
         "4"
        ]
       ],
       "shape": {
        "columns": 10,
        "rows": 5
       }
      },
      "text/html": [
       "<div>\n",
       "<style scoped>\n",
       "    .dataframe tbody tr th:only-of-type {\n",
       "        vertical-align: middle;\n",
       "    }\n",
       "\n",
       "    .dataframe tbody tr th {\n",
       "        vertical-align: top;\n",
       "    }\n",
       "\n",
       "    .dataframe thead th {\n",
       "        text-align: right;\n",
       "    }\n",
       "</style>\n",
       "<table border=\"1\" class=\"dataframe\">\n",
       "  <thead>\n",
       "    <tr style=\"text-align: right;\">\n",
       "      <th></th>\n",
       "      <th>title</th>\n",
       "      <th>text</th>\n",
       "      <th>date</th>\n",
       "      <th>source</th>\n",
       "      <th>author</th>\n",
       "      <th>category</th>\n",
       "      <th>label</th>\n",
       "      <th>date_2</th>\n",
       "      <th>years</th>\n",
       "      <th>months</th>\n",
       "    </tr>\n",
       "  </thead>\n",
       "  <tbody>\n",
       "    <tr>\n",
       "      <th>0</th>\n",
       "      <td>Foreign Democrat final.</td>\n",
       "      <td>more tax development both store agreement lawy...</td>\n",
       "      <td>3/10/2023</td>\n",
       "      <td>NY Times</td>\n",
       "      <td>Paula George</td>\n",
       "      <td>Politics</td>\n",
       "      <td>real</td>\n",
       "      <td>2023-03-10</td>\n",
       "      <td>2023</td>\n",
       "      <td>3</td>\n",
       "    </tr>\n",
       "    <tr>\n",
       "      <th>1</th>\n",
       "      <td>To offer down resource great point.</td>\n",
       "      <td>probably guess western behind likely next inve...</td>\n",
       "      <td>5/25/2022</td>\n",
       "      <td>Fox News</td>\n",
       "      <td>Joseph Hill</td>\n",
       "      <td>Politics</td>\n",
       "      <td>fake</td>\n",
       "      <td>2022-05-25</td>\n",
       "      <td>2022</td>\n",
       "      <td>5</td>\n",
       "    </tr>\n",
       "    <tr>\n",
       "      <th>2</th>\n",
       "      <td>Himself church myself carry.</td>\n",
       "      <td>them identify forward present success risk sev...</td>\n",
       "      <td>9/1/2022</td>\n",
       "      <td>CNN</td>\n",
       "      <td>Julia Robinson</td>\n",
       "      <td>Business</td>\n",
       "      <td>fake</td>\n",
       "      <td>2022-09-01</td>\n",
       "      <td>2022</td>\n",
       "      <td>9</td>\n",
       "    </tr>\n",
       "    <tr>\n",
       "      <th>3</th>\n",
       "      <td>You unit its should.</td>\n",
       "      <td>phone which item yard Republican safe where po...</td>\n",
       "      <td>2/7/2023</td>\n",
       "      <td>Reuters</td>\n",
       "      <td>Mr. David Foster DDS</td>\n",
       "      <td>Science</td>\n",
       "      <td>fake</td>\n",
       "      <td>2023-02-07</td>\n",
       "      <td>2023</td>\n",
       "      <td>2</td>\n",
       "    </tr>\n",
       "    <tr>\n",
       "      <th>4</th>\n",
       "      <td>Billion believe employee summer how.</td>\n",
       "      <td>wonder myself fact difficult course forget exa...</td>\n",
       "      <td>4/3/2023</td>\n",
       "      <td>CNN</td>\n",
       "      <td>Austin Walker</td>\n",
       "      <td>Technology</td>\n",
       "      <td>fake</td>\n",
       "      <td>2023-04-03</td>\n",
       "      <td>2023</td>\n",
       "      <td>4</td>\n",
       "    </tr>\n",
       "  </tbody>\n",
       "</table>\n",
       "</div>"
      ],
      "text/plain": [
       "                                  title  \\\n",
       "0               Foreign Democrat final.   \n",
       "1   To offer down resource great point.   \n",
       "2          Himself church myself carry.   \n",
       "3                  You unit its should.   \n",
       "4  Billion believe employee summer how.   \n",
       "\n",
       "                                                text       date    source  \\\n",
       "0  more tax development both store agreement lawy...  3/10/2023  NY Times   \n",
       "1  probably guess western behind likely next inve...  5/25/2022  Fox News   \n",
       "2  them identify forward present success risk sev...   9/1/2022       CNN   \n",
       "3  phone which item yard Republican safe where po...   2/7/2023   Reuters   \n",
       "4  wonder myself fact difficult course forget exa...   4/3/2023       CNN   \n",
       "\n",
       "                 author    category label     date_2  years  months  \n",
       "0          Paula George    Politics  real 2023-03-10   2023       3  \n",
       "1           Joseph Hill    Politics  fake 2022-05-25   2022       5  \n",
       "2        Julia Robinson    Business  fake 2022-09-01   2022       9  \n",
       "3  Mr. David Foster DDS     Science  fake 2023-02-07   2023       2  \n",
       "4         Austin Walker  Technology  fake 2023-04-03   2023       4  "
      ]
     },
     "execution_count": 17,
     "metadata": {},
     "output_type": "execute_result"
    }
   ],
   "source": [
    "data.head()"
   ]
  },
  {
   "cell_type": "code",
   "execution_count": 18,
   "id": "47872738",
   "metadata": {},
   "outputs": [
    {
     "data": {
      "application/vnd.microsoft.datawrangler.viewer.v0+json": {
       "columns": [
        {
         "name": "years",
         "rawType": "int32",
         "type": "integer"
        },
        {
         "name": "count",
         "rawType": "int64",
         "type": "integer"
        }
       ],
       "ref": "5af0f108-a970-467a-b999-fd92fe6c8b44",
       "rows": [
        [
         "2023",
         "6696"
        ],
        [
         "2024",
         "6685"
        ],
        [
         "2022",
         "4555"
        ],
        [
         "2025",
         "2064"
        ]
       ],
       "shape": {
        "columns": 1,
        "rows": 4
       }
      },
      "text/plain": [
       "years\n",
       "2023    6696\n",
       "2024    6685\n",
       "2022    4555\n",
       "2025    2064\n",
       "Name: count, dtype: int64"
      ]
     },
     "execution_count": 18,
     "metadata": {},
     "output_type": "execute_result"
    }
   ],
   "source": [
    "data[\"years\"].value_counts()"
   ]
  },
  {
   "cell_type": "code",
   "execution_count": 19,
   "id": "60ebc2fb",
   "metadata": {},
   "outputs": [
    {
     "data": {
      "text/plain": [
       "Text(0.5, 1.0, 'Count of Real vs Fake per Source')"
      ]
     },
     "execution_count": 19,
     "metadata": {},
     "output_type": "execute_result"
    },
    {
     "data": {
      "image/png": "[encoded data removed]",
      "text/plain": [
       "<Figure size 640x480 with 1 Axes>"
      ]
     },
     "metadata": {},
     "output_type": "display_data"
    }
   ],
   "source": [
    "sns.countplot(data=data, x=\"years\", hue=\"label\")\n",
    "plt.title(\"Count of Real vs Fake per Source\")"
   ]
  },
  {
   "cell_type": "code",
   "execution_count": 20,
   "id": "10a94b1e",
   "metadata": {},
   "outputs": [
    {
     "data": {
      "application/vnd.microsoft.datawrangler.viewer.v0+json": {
       "columns": [
        {
         "name": "months",
         "rawType": "int32",
         "type": "integer"
        },
        {
         "name": "count",
         "rawType": "int64",
         "type": "integer"
        }
       ],
       "ref": "eabd659e-1024-4994-890c-50c1062a0724",
       "rows": [
        [
         "11",
         "1768"
        ],
        [
         "1",
         "1729"
        ],
        [
         "8",
         "1700"
        ],
        [
         "7",
         "1699"
        ],
        [
         "12",
         "1697"
        ],
        [
         "10",
         "1696"
        ],
        [
         "3",
         "1685"
        ],
        [
         "5",
         "1669"
        ],
        [
         "4",
         "1614"
        ],
        [
         "6",
         "1607"
        ],
        [
         "2",
         "1580"
        ],
        [
         "9",
         "1556"
        ]
       ],
       "shape": {
        "columns": 1,
        "rows": 12
       }
      },
      "text/plain": [
       "months\n",
       "11    1768\n",
       "1     1729\n",
       "8     1700\n",
       "7     1699\n",
       "12    1697\n",
       "10    1696\n",
       "3     1685\n",
       "5     1669\n",
       "4     1614\n",
       "6     1607\n",
       "2     1580\n",
       "9     1556\n",
       "Name: count, dtype: int64"
      ]
     },
     "execution_count": 20,
     "metadata": {},
     "output_type": "execute_result"
    }
   ],
   "source": [
    "data[\"months\"].value_counts()"
   ]
  },
  {
   "cell_type": "code",
   "execution_count": 21,
   "id": "690a514f",
   "metadata": {},
   "outputs": [
    {
     "data": {
      "text/plain": [
       "Text(0.5, 1.0, 'Count of Real vs Fake per Source')"
      ]
     },
     "execution_count": 21,
     "metadata": {},
     "output_type": "execute_result"
    },
    {
     "data": {
      "image/png": "[encoded data removed]",
      "text/plain": [
       "<Figure size 640x480 with 1 Axes>"
      ]
     },
     "metadata": {},
     "output_type": "display_data"
    }
   ],
   "source": [
    "sns.countplot(data=data, x=\"months\", hue=\"label\")\n",
    "plt.title(\"Count of Real vs Fake per Source\")"
   ]
  },
  {
   "cell_type": "markdown",
   "id": "1b511216",
   "metadata": {},
   "source": [
    "### Cheak Text "
   ]
  },
  {
   "cell_type": "code",
   "execution_count": 22,
   "id": "b7671c1b",
   "metadata": {},
   "outputs": [
    {
     "name": "stdout",
     "output_type": "stream",
     "text": [
      "<class 'pandas.core.frame.DataFrame'>\n",
      "RangeIndex: 20000 entries, 0 to 19999\n",
      "Data columns (total 10 columns):\n",
      " #   Column    Non-Null Count  Dtype         \n",
      "---  ------    --------------  -----         \n",
      " 0   title     20000 non-null  object        \n",
      " 1   text      20000 non-null  object        \n",
      " 2   date      20000 non-null  object        \n",
      " 3   source    19000 non-null  object        \n",
      " 4   author    19000 non-null  object        \n",
      " 5   category  20000 non-null  object        \n",
      " 6   label     20000 non-null  object        \n",
      " 7   date_2    20000 non-null  datetime64[ns]\n",
      " 8   years     20000 non-null  int32         \n",
      " 9   months    20000 non-null  int32         \n",
      "dtypes: datetime64[ns](1), int32(2), object(7)\n",
      "memory usage: 1.4+ MB\n"
     ]
    }
   ],
   "source": [
    "data.info()"
   ]
  },
  {
   "cell_type": "code",
   "execution_count": 23,
   "id": "43cf4a38",
   "metadata": {},
   "outputs": [],
   "source": [
    "data[\"word_in_text\"]= data[\"text\"].str.split().str.len()"
   ]
  },
  {
   "cell_type": "code",
   "execution_count": 24,
   "id": "49d008fc",
   "metadata": {},
   "outputs": [
    {
     "data": {
      "application/vnd.microsoft.datawrangler.viewer.v0+json": {
       "columns": [
        {
         "name": "index",
         "rawType": "int64",
         "type": "integer"
        },
        {
         "name": "title",
         "rawType": "object",
         "type": "string"
        },
        {
         "name": "text",
         "rawType": "object",
         "type": "string"
        },
        {
         "name": "date",
         "rawType": "object",
         "type": "string"
        },
        {
         "name": "source",
         "rawType": "object",
         "type": "unknown"
        },
        {
         "name": "author",
         "rawType": "object",
         "type": "string"
        },
        {
         "name": "category",
         "rawType": "object",
         "type": "string"
        },
        {
         "name": "label",
         "rawType": "object",
         "type": "string"
        },
        {
         "name": "date_2",
         "rawType": "datetime64[ns]",
         "type": "datetime"
        },
        {
         "name": "years",
         "rawType": "int32",
         "type": "integer"
        },
        {
         "name": "months",
         "rawType": "int32",
         "type": "integer"
        },
        {
         "name": "word_in_text",
         "rawType": "int64",
         "type": "integer"
        }
       ],
       "ref": "4cfd91a9-c673-45a2-9bba-26fe35f0041a",
       "rows": [
        [
         "1332",
         "Easy his human they.",
         "relationship every assume current throw common fall live admit look ok kind turn contain sport social inside interesting talk ready may west prevent lot society boy despite along company agent Democrat research involve rather position look into yourself gun hair matter indicate stock join movie scientist one poor nation hair list medical seem model shake cause director option possible half score old outside research table truth education market join star natural where remain few ask low country mind turn second claim issue skin last involve people clearly example visit north teacher rich scene west include to something their again simple weight old himself late anyone expert ready level shoulder because state music stuff without maintain former red upon them represent small five beat bar talk history assume defense such structure air writer indeed board nor true born professional professor attention American cold population fight kid quite fund chance give it take listen board paper simply single show kid reason find when past actually least include school clear job consider her travel information leg past continue follow piece rise career picture prevent research read should cultural back school trade month result news court baby money approach action wife indeed late these unit think next professional run run lose before now hit base west within police trade home language collection author individual",
         "11/5/2023",
         "BBC",
         "Juan Kennedy",
         "Science",
         "real",
         "2023-11-05 00:00:00",
         "2023",
         "11",
         "220"
        ],
        [
         "366",
         "Consumer national nearly against main able tax pass.",
         "car every operation show race man election data western opportunity everybody area would key cultural various world method science reason move some program network debate blue how almost how follow collection car side ever sort section trial his natural size leg lot prevent least send probably ready trip ground position word never beautiful between same animal year shoulder money morning product woman art college college item even degree any value writer week look doctor reveal itself police off relate market different mind business fly spend late participant put perhaps attorney parent would character bring campaign character anyone of need wife sport particularly energy glass really say second face great doctor most piece change change series him like point among prepare foreign month nation stay can foreign quite sit cost act everything its head attorney remain court who deal though decision walk physical charge ahead majority president without young low under final rate later last approach travel cover medical many outside trade between tonight food be within play thank whole fast because stock food how give pressure serious before that trial Congress else perhaps quickly whose edge strong bed its despite safe wish reach nature maybe Mr skin large data attention actually if phone happen such meeting score personal arrive tree down wish question include surface evidence quite whether serious east project adult bar soon analysis Congress politics skin tree camera trouble nothing when main since task yet financial interview authority employee blue work talk major land grow learn base image garden western total property case skill Mr usually meet stage trial safe sister new author five since hot few hold thank reach throw bag already both sort",
         "6/23/2024",
         "Global Times",
         "Mary Lopez",
         "Science",
         "fake",
         "2024-06-23 00:00:00",
         "2024",
         "6",
         "277"
        ],
        [
         "7730",
         "Recent in safe her result.",
         "charge agent seek policy lose onto ever city report left stock as world develop door that she full generation activity eye own else fall material public game age prepare evidence left seem dark should wife medical fast believe carry dark consider career seat couple raise however stuff that majority common establish ever sometimes style once piece through series item worry chance relationship for foreign floor open authority national star record finish rock financial product beyond pretty anything sister describe sea two wish performance attorney street way eight push father else behavior fast play order result certain think note evening shake plant much customer tree different dream sign upon money respond wife adult chance food whose item mean something hour understand work find production religious themselves food law official assume position red stay all soon of board ahead factor sound light close cup travel education senior either main vote fight country poor exist near travel like create environmental guy environmental actually produce admit begin scientist student develop cause follow child fact require well there plant cultural in truth choice sport right provide author offer issue drop full safe accept wall by question culture full outside nice center later today special church race several manager hour age across",
         "3/31/2024",
         "Daily News",
         "Susan Peters",
         "Politics",
         "fake",
         "2024-03-31 00:00:00",
         "2024",
         "3",
         "206"
        ],
        [
         "3241",
         "Officer fine my.",
         "major own four once charge assume draw make pattern important key develop gas drug successful rich chance moment anyone food hospital thing everything interest debate yard help real manage perhaps step could operation realize space off while development peace arrive development central trip start bar try between base high within crime those opportunity worker image since Mr exist together rest prevent head employee himself onto start require may evidence single war right might bill treat order food strategy industry sister detail national operation quite mission place book realize reach expert doctor sometimes draw today of low example cell appear character crime usually job marriage seat method inside spend amount gun enjoy into meet very care third shoulder call follow east throw minute who imagine above night doctor according green discussion tax tree entire star others laugh star growth side fact travel skin thought form gas spring data oil standard various read sell change American yes coach reduce air program same glass use food catch social involve grow who practice contain likely again people line manager tax media speech summer evidence news ask cell training source hundred hold yet foot for around religious success specific beat program now off husband official include face still whatever mention finally price interesting collection condition write dog performance less brother into hold doctor material ask article star both huge tree last physical degree hard investment end recent force month long growth later every value far work whole need better from participant never provide send detail use town rather likely resource too magazine forward perhaps reason drive out still near parent public maybe",
         "1/14/2025",
         "Global Times",
         "David Palmer",
         "Entertainment",
         "fake",
         "2025-01-14 00:00:00",
         "2025",
         "1",
         "267"
        ],
        [
         "3208",
         "Why crime life fight each.",
         "live high might best yeah time author gun impact run him site hold design red partner none remember to change my accept station they raise help quickly remember another already college expect truth whole community wrong customer first page fight second way several job kid record situation bring election method treat reason a right none north throw respond ability natural beat business deal draw sure bit actually many country usually thank training mission pay amount car federal probably job friend degree policy along offer poor draw ground current few reach task fill response month dream where factor sit partner deep talk oil pattern large thing research person least but region TV more theory budget present man me huge small exist discover war before think nearly figure art space sure so myself son want according executive evening administration remember north serious concern energy drug know home then south time very indicate foot data first nothing blood have capital possible truth throw very away hair coach identify certain stay pull sit right them never scientist data next story argue would north special hit policy arrive other officer view message free turn page room training girl health nor onto present together site sell your four within yet strong fly finally her usually member word wind into if measure TV plan instead rate popular receive drop but need study take Congress likely owner appear almost value oil thought sit section carry research until news paper during recognize ok wall without office prevent last business meet return brother air party send worker late including improve perform perform",
         "7/21/2024",
         null,
         "Manuel Padilla",
         "Health",
         "fake",
         "2024-07-21 00:00:00",
         "2024",
         "7",
         "262"
        ]
       ],
       "shape": {
        "columns": 11,
        "rows": 5
       }
      },
      "text/html": [
       "<div>\n",
       "<style scoped>\n",
       "    .dataframe tbody tr th:only-of-type {\n",
       "        vertical-align: middle;\n",
       "    }\n",
       "\n",
       "    .dataframe tbody tr th {\n",
       "        vertical-align: top;\n",
       "    }\n",
       "\n",
       "    .dataframe thead th {\n",
       "        text-align: right;\n",
       "    }\n",
       "</style>\n",
       "<table border=\"1\" class=\"dataframe\">\n",
       "  <thead>\n",
       "    <tr style=\"text-align: right;\">\n",
       "      <th></th>\n",
       "      <th>title</th>\n",
       "      <th>text</th>\n",
       "      <th>date</th>\n",
       "      <th>source</th>\n",
       "      <th>author</th>\n",
       "      <th>category</th>\n",
       "      <th>label</th>\n",
       "      <th>date_2</th>\n",
       "      <th>years</th>\n",
       "      <th>months</th>\n",
       "      <th>word_in_text</th>\n",
       "    </tr>\n",
       "  </thead>\n",
       "  <tbody>\n",
       "    <tr>\n",
       "      <th>1332</th>\n",
       "      <td>Easy his human they.</td>\n",
       "      <td>relationship every assume current throw common...</td>\n",
       "      <td>11/5/2023</td>\n",
       "      <td>BBC</td>\n",
       "      <td>Juan Kennedy</td>\n",
       "      <td>Science</td>\n",
       "      <td>real</td>\n",
       "      <td>2023-11-05</td>\n",
       "      <td>2023</td>\n",
       "      <td>11</td>\n",
       "      <td>220</td>\n",
       "    </tr>\n",
       "    <tr>\n",
       "      <th>366</th>\n",
       "      <td>Consumer national nearly against main able tax...</td>\n",
       "      <td>car every operation show race man election dat...</td>\n",
       "      <td>6/23/2024</td>\n",
       "      <td>Global Times</td>\n",
       "      <td>Mary Lopez</td>\n",
       "      <td>Science</td>\n",
       "      <td>fake</td>\n",
       "      <td>2024-06-23</td>\n",
       "      <td>2024</td>\n",
       "      <td>6</td>\n",
       "      <td>277</td>\n",
       "    </tr>\n",
       "    <tr>\n",
       "      <th>7730</th>\n",
       "      <td>Recent in safe her result.</td>\n",
       "      <td>charge agent seek policy lose onto ever city r...</td>\n",
       "      <td>3/31/2024</td>\n",
       "      <td>Daily News</td>\n",
       "      <td>Susan Peters</td>\n",
       "      <td>Politics</td>\n",
       "      <td>fake</td>\n",
       "      <td>2024-03-31</td>\n",
       "      <td>2024</td>\n",
       "      <td>3</td>\n",
       "      <td>206</td>\n",
       "    </tr>\n",
       "    <tr>\n",
       "      <th>3241</th>\n",
       "      <td>Officer fine my.</td>\n",
       "      <td>major own four once charge assume draw make pa...</td>\n",
       "      <td>1/14/2025</td>\n",
       "      <td>Global Times</td>\n",
       "      <td>David Palmer</td>\n",
       "      <td>Entertainment</td>\n",
       "      <td>fake</td>\n",
       "      <td>2025-01-14</td>\n",
       "      <td>2025</td>\n",
       "      <td>1</td>\n",
       "      <td>267</td>\n",
       "    </tr>\n",
       "    <tr>\n",
       "      <th>3208</th>\n",
       "      <td>Why crime life fight each.</td>\n",
       "      <td>live high might best yeah time author gun impa...</td>\n",
       "      <td>7/21/2024</td>\n",
       "      <td>NaN</td>\n",
       "      <td>Manuel Padilla</td>\n",
       "      <td>Health</td>\n",
       "      <td>fake</td>\n",
       "      <td>2024-07-21</td>\n",
       "      <td>2024</td>\n",
       "      <td>7</td>\n",
       "      <td>262</td>\n",
       "    </tr>\n",
       "  </tbody>\n",
       "</table>\n",
       "</div>"
      ],
      "text/plain": [
       "                                                  title  \\\n",
       "1332                               Easy his human they.   \n",
       "366   Consumer national nearly against main able tax...   \n",
       "7730                         Recent in safe her result.   \n",
       "3241                                   Officer fine my.   \n",
       "3208                         Why crime life fight each.   \n",
       "\n",
       "                                                   text       date  \\\n",
       "1332  relationship every assume current throw common...  11/5/2023   \n",
       "366   car every operation show race man election dat...  6/23/2024   \n",
       "7730  charge agent seek policy lose onto ever city r...  3/31/2024   \n",
       "3241  major own four once charge assume draw make pa...  1/14/2025   \n",
       "3208  live high might best yeah time author gun impa...  7/21/2024   \n",
       "\n",
       "            source          author       category label     date_2  years  \\\n",
       "1332           BBC    Juan Kennedy        Science  real 2023-11-05   2023   \n",
       "366   Global Times      Mary Lopez        Science  fake 2024-06-23   2024   \n",
       "7730    Daily News    Susan Peters       Politics  fake 2024-03-31   2024   \n",
       "3241  Global Times    David Palmer  Entertainment  fake 2025-01-14   2025   \n",
       "3208           NaN  Manuel Padilla         Health  fake 2024-07-21   2024   \n",
       "\n",
       "      months  word_in_text  \n",
       "1332      11           220  \n",
       "366        6           277  \n",
       "7730       3           206  \n",
       "3241       1           267  \n",
       "3208       7           262  "
      ]
     },
     "execution_count": 24,
     "metadata": {},
     "output_type": "execute_result"
    }
   ],
   "source": [
    "data.sample(5)"
   ]
  },
  {
   "cell_type": "code",
   "execution_count": 25,
   "id": "6d6f27ac",
   "metadata": {},
   "outputs": [],
   "source": [
    "top_words_in_text = data[\"word_in_text\"].value_counts().nsmallest(20)\n",
    "min_words_in_text = data[\"word_in_text\"].value_counts().nlargest(20)"
   ]
  },
  {
   "cell_type": "code",
   "execution_count": 26,
   "id": "7c097293",
   "metadata": {},
   "outputs": [
    {
     "data": {
      "text/plain": [
       "<Axes: ylabel='word_in_text'>"
      ]
     },
     "execution_count": 26,
     "metadata": {},
     "output_type": "execute_result"
    },
    {
     "data": {
      "image/png": "[encoded data removed]",
      "text/plain": [
       "<Figure size 640x480 with 1 Axes>"
      ]
     },
     "metadata": {},
     "output_type": "display_data"
    }
   ],
   "source": [
    "top_words_in_text.plot(kind='barh', color='skyblue')"
   ]
  },
  {
   "cell_type": "code",
   "execution_count": 27,
   "id": "d2e0d904",
   "metadata": {},
   "outputs": [
    {
     "data": {
      "text/plain": [
       "<Axes: ylabel='word_in_text'>"
      ]
     },
     "execution_count": 27,
     "metadata": {},
     "output_type": "execute_result"
    },
    {
     "data": {
      "image/png": "[encoded data removed]",
      "text/plain": [
       "<Figure size 640x480 with 1 Axes>"
      ]
     },
     "metadata": {},
     "output_type": "display_data"
    }
   ],
   "source": [
    "min_words_in_text.plot(kind='barh', color='skyblue')"
   ]
  },
  {
   "cell_type": "code",
   "execution_count": 28,
   "id": "c8b55384",
   "metadata": {},
   "outputs": [
    {
     "name": "stdout",
     "output_type": "stream",
     "text": [
      "200\n",
      "300\n"
     ]
    }
   ],
   "source": [
    "min_word_count=data[\"word_in_text\"].min()\n",
    "max_word_count=data[\"word_in_text\"].max()\n",
    "print(min_word_count)\n",
    "print(max_word_count)"
   ]
  },
  {
   "cell_type": "code",
   "execution_count": 29,
   "id": "0e9f9341",
   "metadata": {},
   "outputs": [
    {
     "data": {
      "application/vnd.microsoft.datawrangler.viewer.v0+json": {
       "columns": [
        {
         "name": "index",
         "rawType": "int64",
         "type": "integer"
        },
        {
         "name": "word_in_text",
         "rawType": "int64",
         "type": "integer"
        }
       ],
       "ref": "1009578b-40ce-4ea6-8976-6f52f328051c",
       "rows": [
        [
         "0",
         "216"
        ],
        [
         "1",
         "238"
        ],
        [
         "2",
         "222"
        ],
        [
         "3",
         "247"
        ],
        [
         "4",
         "215"
        ],
        [
         "5",
         "268"
        ],
        [
         "6",
         "263"
        ],
        [
         "7",
         "258"
        ],
        [
         "8",
         "291"
        ],
        [
         "9",
         "206"
        ],
        [
         "10",
         "219"
        ],
        [
         "11",
         "229"
        ],
        [
         "12",
         "218"
        ],
        [
         "13",
         "265"
        ],
        [
         "14",
         "206"
        ],
        [
         "15",
         "261"
        ],
        [
         "16",
         "262"
        ],
        [
         "17",
         "266"
        ],
        [
         "18",
         "213"
        ],
        [
         "19",
         "295"
        ],
        [
         "20",
         "265"
        ],
        [
         "21",
         "260"
        ],
        [
         "22",
         "278"
        ],
        [
         "23",
         "258"
        ],
        [
         "24",
         "271"
        ],
        [
         "25",
         "273"
        ],
        [
         "26",
         "262"
        ],
        [
         "27",
         "221"
        ],
        [
         "28",
         "221"
        ],
        [
         "29",
         "262"
        ],
        [
         "30",
         "269"
        ],
        [
         "31",
         "265"
        ],
        [
         "32",
         "221"
        ],
        [
         "33",
         "297"
        ],
        [
         "34",
         "276"
        ],
        [
         "35",
         "250"
        ],
        [
         "36",
         "292"
        ],
        [
         "37",
         "226"
        ],
        [
         "38",
         "291"
        ],
        [
         "39",
         "293"
        ],
        [
         "40",
         "206"
        ],
        [
         "41",
         "247"
        ],
        [
         "42",
         "261"
        ],
        [
         "43",
         "247"
        ],
        [
         "44",
         "264"
        ],
        [
         "45",
         "246"
        ],
        [
         "46",
         "236"
        ],
        [
         "47",
         "223"
        ],
        [
         "48",
         "271"
        ],
        [
         "49",
         "242"
        ]
       ],
       "shape": {
        "columns": 1,
        "rows": 20000
       }
      },
      "text/plain": [
       "0        216\n",
       "1        238\n",
       "2        222\n",
       "3        247\n",
       "4        215\n",
       "        ... \n",
       "19995    292\n",
       "19996    258\n",
       "19997    239\n",
       "19998    245\n",
       "19999    222\n",
       "Name: word_in_text, Length: 20000, dtype: int64"
      ]
     },
     "execution_count": 29,
     "metadata": {},
     "output_type": "execute_result"
    }
   ],
   "source": [
    "data.loc[data[\"word_in_text\"].between(200,300), \"word_in_text\"]"
   ]
  },
  {
   "cell_type": "code",
   "execution_count": 30,
   "id": "a2e0e83c",
   "metadata": {},
   "outputs": [
    {
     "data": {
      "text/plain": [
       "Text(0.5, 1.0, 'Count of Real vs Fake per word_in_text')"
      ]
     },
     "execution_count": 30,
     "metadata": {},
     "output_type": "execute_result"
    },
    {
     "data": {
      "image/png": "[encoded data removed]",
      "text/plain": [
       "<Figure size 640x480 with 1 Axes>"
      ]
     },
     "metadata": {},
     "output_type": "display_data"
    }
   ],
   "source": [
    "sns.countplot(data=data, x=\"word_in_text\", hue=\"label\")\n",
    "plt.title(\"Count of Real vs Fake per word_in_text\")"
   ]
  },
  {
   "cell_type": "markdown",
   "id": "584907b5",
   "metadata": {},
   "source": [
    "## (date<years-months> , author , word_in_text) Don't Effect on Label Prediction"
   ]
  },
  {
   "cell_type": "markdown",
   "id": "ba0e2f4a",
   "metadata": {},
   "source": [
    "## Data Spliting"
   ]
  },
  {
   "cell_type": "markdown",
   "id": "50df1cf4",
   "metadata": {},
   "source": [
    "### Business - CNN"
   ]
  },
  {
   "cell_type": "code",
   "execution_count": 276,
   "id": "2070befc",
   "metadata": {},
   "outputs": [
    {
     "name": "stderr",
     "output_type": "stream",
     "text": [
      "C:\\Users\\KimoStore\\AppData\\Local\\Temp\\ipykernel_21260\\344267512.py:2: SettingWithCopyWarning: \n",
      "A value is trying to be set on a copy of a slice from a DataFrame.\n",
      "Try using .loc[row_indexer,col_indexer] = value instead\n",
      "\n",
      "See the caveats in the documentation: https://pandas.pydata.org/pandas-docs/stable/user_guide/indexing.html#returning-a-view-versus-a-copy\n",
      "  df['full_text'] = df['title'].fillna('') + ' ' + df['text'].fillna('')\n"
     ]
    }
   ],
   "source": [
    "df = data[(data[\"category\"] == \"Business\") & (data[\"source\"] == \"CNN\")]\n",
    "df['full_text'] = df['title'].fillna('') + ' ' + df['text'].fillna('')\n",
    "df\n",
    "X = df['full_text']      \n",
    "y = df['label']  \n",
    "X = df['full_text']      \n",
    "y = df['label']  \n",
    "X_train, X_test, y_train, y_test = train_test_split(\n",
    "    X, y, test_size=0.1, random_state=42, stratify=y\n",
    ")\n"
   ]
  },
  {
   "cell_type": "markdown",
   "id": "03cd0f06",
   "metadata": {},
   "source": [
    "### CNN - Sport"
   ]
  },
  {
   "cell_type": "code",
   "execution_count": 266,
   "id": "496724f1",
   "metadata": {},
   "outputs": [
    {
     "name": "stderr",
     "output_type": "stream",
     "text": [
      "C:\\Users\\KimoStore\\AppData\\Local\\Temp\\ipykernel_21260\\3185863854.py:2: SettingWithCopyWarning: \n",
      "A value is trying to be set on a copy of a slice from a DataFrame.\n",
      "Try using .loc[row_indexer,col_indexer] = value instead\n",
      "\n",
      "See the caveats in the documentation: https://pandas.pydata.org/pandas-docs/stable/user_guide/indexing.html#returning-a-view-versus-a-copy\n",
      "  df['full_text'] = df['title'].fillna('') + ' ' + df['text'].fillna('')\n"
     ]
    }
   ],
   "source": [
    "df = data[(data[\"category\"] == \"Sports\") & (data[\"source\"] == \"CNN\")]\n",
    "df['full_text'] = df['title'].fillna('') + ' ' + df['text'].fillna('')\n",
    "df\n",
    "X = df['full_text']      \n",
    "y = df['label']  \n",
    "X = df['full_text']      \n",
    "y = df['label']  \n",
    "X_train, X_test, y_train, y_test = train_test_split(\n",
    "    X, y, test_size=0.1, random_state=42, stratify=y\n",
    ")"
   ]
  },
  {
   "cell_type": "markdown",
   "id": "925ff09e",
   "metadata": {},
   "source": [
    "### Science - Daily News"
   ]
  },
  {
   "cell_type": "code",
   "execution_count": 268,
   "id": "ab75face",
   "metadata": {},
   "outputs": [
    {
     "name": "stderr",
     "output_type": "stream",
     "text": [
      "C:\\Users\\KimoStore\\AppData\\Local\\Temp\\ipykernel_21260\\2641314730.py:2: SettingWithCopyWarning: \n",
      "A value is trying to be set on a copy of a slice from a DataFrame.\n",
      "Try using .loc[row_indexer,col_indexer] = value instead\n",
      "\n",
      "See the caveats in the documentation: https://pandas.pydata.org/pandas-docs/stable/user_guide/indexing.html#returning-a-view-versus-a-copy\n",
      "  df['full_text'] = df['title'].fillna('') + ' ' + df['text'].fillna('')\n"
     ]
    }
   ],
   "source": [
    "df = data[(data[\"category\"] == \"Science\") & (data[\"source\"] == \"Daily News\")]\n",
    "df['full_text'] = df['title'].fillna('') + ' ' + df['text'].fillna('')\n",
    "df\n",
    "X = df['full_text']      \n",
    "y = df['label']  \n",
    "X = df['full_text']      \n",
    "y = df['label']  \n",
    "X_train, X_test, y_train, y_test = train_test_split(\n",
    "    X, y, test_size=0.1, random_state=42, stratify=y\n",
    ")\n"
   ]
  },
  {
   "cell_type": "markdown",
   "id": "8d409e8c",
   "metadata": {},
   "source": [
    "### Politics - Reuters"
   ]
  },
  {
   "cell_type": "code",
   "execution_count": 270,
   "id": "9e1fcbf9",
   "metadata": {},
   "outputs": [
    {
     "name": "stderr",
     "output_type": "stream",
     "text": [
      "C:\\Users\\KimoStore\\AppData\\Local\\Temp\\ipykernel_21260\\1995446547.py:2: SettingWithCopyWarning: \n",
      "A value is trying to be set on a copy of a slice from a DataFrame.\n",
      "Try using .loc[row_indexer,col_indexer] = value instead\n",
      "\n",
      "See the caveats in the documentation: https://pandas.pydata.org/pandas-docs/stable/user_guide/indexing.html#returning-a-view-versus-a-copy\n",
      "  df['full_text'] = df['title'].fillna('') + ' ' + df['text'].fillna('')\n"
     ]
    }
   ],
   "source": [
    "df = data[(data[\"category\"] == \"Politics\") & (data[\"source\"] == \"Reuters\")]\n",
    "df['full_text'] = df['title'].fillna('') + ' ' + df['text'].fillna('')\n",
    "df\n",
    "X = df['full_text']      \n",
    "y = df['label']  \n",
    "X = df['full_text']      \n",
    "y = df['label']  \n",
    "X_train, X_test, y_train, y_test = train_test_split(\n",
    "    X, y, test_size=0.1, random_state=42, stratify=y\n",
    ")\n"
   ]
  },
  {
   "cell_type": "markdown",
   "id": "80beba35",
   "metadata": {},
   "source": [
    "## Model"
   ]
  },
  {
   "cell_type": "code",
   "execution_count": 274,
   "id": "b575dde3",
   "metadata": {},
   "outputs": [
    {
     "name": "stderr",
     "output_type": "stream",
     "text": [
      "C:\\Users\\KimoStore\\AppData\\Local\\Temp\\ipykernel_21260\\3455083606.py:36: SettingWithCopyWarning: \n",
      "A value is trying to be set on a copy of a slice from a DataFrame.\n",
      "Try using .loc[row_indexer,col_indexer] = value instead\n",
      "\n",
      "See the caveats in the documentation: https://pandas.pydata.org/pandas-docs/stable/user_guide/indexing.html#returning-a-view-versus-a-copy\n",
      "  df['label'] = df['label'].str.strip().str.lower()\n"
     ]
    },
    {
     "name": "stdout",
     "output_type": "stream",
     "text": [
      "============================================================\n",
      "Best Threshold = 0.082\n",
      "Best Cross-Validated Accuracy = 68.41%\n",
      "Classification Report:\n",
      "              precision    recall  f1-score   support\n",
      "\n",
      "        real       0.66      0.87      0.75       170\n",
      "        fake       0.74      0.45      0.56       137\n",
      "\n",
      "    accuracy                           0.68       307\n",
      "   macro avg       0.70      0.66      0.66       307\n",
      "weighted avg       0.70      0.68      0.67       307\n",
      "\n"
     ]
    },
    {
     "data": {
      "image/png": "[encoded data removed]",
      "text/plain": [
       "<Figure size 500x400 with 2 Axes>"
      ]
     },
     "metadata": {},
     "output_type": "display_data"
    }
   ],
   "source": [
    "import re\n",
    "import numpy as np\n",
    "import pandas as pd\n",
    "from nltk.corpus import stopwords, wordnet\n",
    "from nltk.tokenize import word_tokenize\n",
    "from nltk.stem import WordNetLemmatizer\n",
    "from nltk import pos_tag\n",
    "from sklearn.feature_extraction.text import CountVectorizer\n",
    "from sklearn.ensemble import RandomForestClassifier\n",
    "from sklearn.model_selection import StratifiedKFold\n",
    "from sklearn.metrics import classification_report, confusion_matrix, accuracy_score\n",
    "import seaborn as sns\n",
    "import matplotlib.pyplot as plt\n",
    "from collections import Counter\n",
    "\n",
    "# ================================\n",
    "\n",
    "lemmatizer = WordNetLemmatizer()\n",
    "stop_words = set(stopwords.words(\"english\"))\n",
    "\n",
    "\n",
    "\n",
    "def clean_text(text):\n",
    "    text = str(text).lower()\n",
    "    text = re.sub(r'[^a-z\\s]', '', text)\n",
    "    tokens = word_tokenize(text)\n",
    "    tagged = pos_tag(tokens)\n",
    "    tokens = [\n",
    "    lemmatizer.lemmatize(word) \n",
    "    for word in tokens if word not in stop_words\n",
    "]\n",
    "    return \" \".join(tokens)\n",
    "\n",
    "# ================================\n",
    "\n",
    "df['label'] = df['label'].str.strip().str.lower()\n",
    "documents = df['full_text'].apply(clean_text).tolist()\n",
    "labels = df['label'].tolist()\n",
    "y = [1 if label == 'fake' else 0 for label in labels]\n",
    "\n",
    "# ================================\n",
    "\n",
    "vectorizer = CountVectorizer(max_features=5000, ngram_range=(1, 1))\n",
    "X = vectorizer.fit_transform(documents)\n",
    "vocab = vectorizer.get_feature_names_out()\n",
    "X_array = X.toarray()\n",
    "\n",
    "# ================================\n",
    "\n",
    "fake_indices = [i for i, label in enumerate(labels) if label == 'fake']\n",
    "real_indices = [i for i, label in enumerate(labels) if label == 'real']\n",
    "\n",
    "fake_mean = np.mean(X_array[fake_indices], axis=0)\n",
    "real_mean = np.mean(X_array[real_indices], axis=0)\n",
    "\n",
    "word_scores = fake_mean - real_mean\n",
    "\n",
    "df_keywords = pd.DataFrame({\n",
    "    \"word\": vocab,\n",
    "    \"fake_score\": word_scores\n",
    "}).sort_values(by=\"fake_score\", ascending=False)\n",
    "\n",
    "# ================================\n",
    "\n",
    "thresholds = [0.081, 0.082, 0.083, 0.084, 0.085, 0.086, 0.087, 0.088, 0.089, 0.09]\n",
    "k = 12 # \n",
    "kf = StratifiedKFold(n_splits=k, shuffle=True, random_state=42)\n",
    "\n",
    "best_accuracy = -1\n",
    "best_threshold = None\n",
    "best_model = None\n",
    "best_vectorizer = None\n",
    "best_y_pred = None\n",
    "best_y_test = None\n",
    "\n",
    "for threshold in thresholds:\n",
    "    important_words = df_keywords[df_keywords[\"fake_score\"] > threshold][\"word\"].tolist()\n",
    "\n",
    "    if len(important_words) < 5:\n",
    "        continue\n",
    "\n",
    "    vectorizer_filtered = CountVectorizer(vocabulary=important_words)\n",
    "    X_filtered = vectorizer_filtered.fit_transform(documents)\n",
    "\n",
    "    accuracies = []\n",
    "    all_preds = []\n",
    "    all_trues = []\n",
    "\n",
    "    for train_index, test_index in kf.split(X_filtered, y):\n",
    "        X_train, X_test = X_filtered[train_index], X_filtered[test_index]\n",
    "        y_train = np.array(y)[train_index]\n",
    "        y_test = np.array(y)[test_index]\n",
    "\n",
    "        model = RandomForestClassifier(\n",
    "            class_weight='balanced',\n",
    "            n_estimators=100,\n",
    "            random_state=42,\n",
    "            criterion='entropy'\n",
    "        )\n",
    "        model.fit(X_train, y_train)\n",
    "        y_pred = model.predict(X_test)\n",
    "\n",
    "        acc = accuracy_score(y_test, y_pred)\n",
    "        accuracies.append(acc)\n",
    "\n",
    "        all_preds.extend(y_pred)\n",
    "        all_trues.extend(y_test)\n",
    "\n",
    "    avg_acc = np.mean(accuracies)\n",
    "\n",
    "    if avg_acc > best_accuracy:\n",
    "        best_accuracy = avg_acc\n",
    "        best_threshold = threshold\n",
    "        best_model = model\n",
    "        best_vectorizer = vectorizer_filtered\n",
    "        best_y_pred = all_preds\n",
    "        best_y_test = all_trues\n",
    "\n",
    "# ================================\n",
    "\n",
    "print(\"=\" * 60)\n",
    "print(f\"Best Threshold = {best_threshold}\")\n",
    "print(f\"Best Cross-Validated Accuracy = {round(best_accuracy * 100, 2)}%\")\n",
    "print(\"Classification Report:\")\n",
    "print(classification_report(best_y_test, best_y_pred, target_names=[\"real\", \"fake\"]))\n",
    "\n",
    "# ================================\n",
    "\n",
    "cm = confusion_matrix(best_y_test, best_y_pred)\n",
    "plt.figure(figsize=(5, 4))\n",
    "sns.heatmap(cm, annot=True, fmt='d', cmap='Blues',\n",
    "            xticklabels=[\"Real\", \"Fake\"],\n",
    "            yticklabels=[\"Real\", \"Fake\"])\n",
    "plt.title(f\"Confusion Matrix @ Best threshold={best_threshold}\")\n",
    "plt.xlabel(\"Predicted Label\")\n",
    "plt.ylabel(\"True Label\")\n",
    "plt.tight_layout()\n",
    "plt.show()\n"
   ]
  },
  {
   "cell_type": "markdown",
   "id": "a493de73",
   "metadata": {},
   "source": [
    "###### kcv -> 12 (340 instance)\n",
    "\n",
    "###### Random Choices :\n",
    "###### Business - CNN  -> [ Accuracy = 69.97% ]\n",
    "###### CNN - Sport ->     [ Accuracy = 69.39% ]\n",
    "###### Science - Daily News -> [ Accuracy = 69.26% ]\n",
    "###### Politics - Reuters -> [ Accuracy = 68.41% ]"
   ]
  }
 ],
 "metadata": {
  "kernelspec": {
   "display_name": "base",
   "language": "python",
   "name": "python3"
  },
  "language_info": {
   "codemirror_mode": {
    "name": "ipython",
    "version": 3
   },
   "file_extension": ".py",
   "mimetype": "text/x-python",
   "name": "python",
   "nbconvert_exporter": "python",
   "pygments_lexer": "ipython3",
   "version": "3.12.3"
  }
 },
 "nbformat": 4,
 "nbformat_minor": 5
}
