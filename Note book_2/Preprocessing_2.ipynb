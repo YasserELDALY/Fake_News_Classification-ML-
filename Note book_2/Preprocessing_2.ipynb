{
 "cells": [
  {
   "cell_type": "markdown",
   "id": "8bbfc583",
   "metadata": {},
   "source": [
    "# PreProcessing"
   ]
  },
  {
   "cell_type": "markdown",
   "id": "d5ccb764",
   "metadata": {},
   "source": [
    "### read data"
   ]
  },
  {
   "cell_type": "code",
   "execution_count": 1,
   "id": "908163ba",
   "metadata": {},
   "outputs": [],
   "source": [
    "from sklearn.feature_extraction.text import TfidfVectorizer\n",
    "from sklearn.linear_model import LogisticRegression\n",
    "from sklearn.pipeline import Pipeline\n",
    "import pandas as pd\n",
    "from sklearn.model_selection import train_test_split, GridSearchCV, RandomizedSearchCV\n",
    "from sklearn.compose import ColumnTransformer\n",
    "from sklearn.preprocessing import StandardScaler, OneHotEncoder\n",
    "from sklearn.metrics import classification_report, accuracy_score\n",
    "from scipy.stats import uniform\n",
    "import joblib\n",
    "import seaborn as sns\n",
    "import matplotlib.pyplot as plt\n",
    "from sklearn.metrics import f1_score\n",
    "from sklearn.feature_extraction.text import CountVectorizer"
   ]
  },
  {
   "cell_type": "code",
   "execution_count": 2,
   "id": "930f654a",
   "metadata": {},
   "outputs": [],
   "source": [
    "data=pd.read_csv(\"../Data/fake_news_dataset.csv\")"
   ]
  },
  {
   "cell_type": "code",
   "execution_count": 3,
   "id": "aba8a3bb",
   "metadata": {},
   "outputs": [
    {
     "data": {
      "application/vnd.microsoft.datawrangler.viewer.v0+json": {
       "columns": [
        {
         "name": "index",
         "rawType": "int64",
         "type": "integer"
        },
        {
         "name": "title",
         "rawType": "object",
         "type": "string"
        },
        {
         "name": "text",
         "rawType": "object",
         "type": "string"
        },
        {
         "name": "date",
         "rawType": "object",
         "type": "string"
        },
        {
         "name": "source",
         "rawType": "object",
         "type": "string"
        },
        {
         "name": "author",
         "rawType": "object",
         "type": "string"
        },
        {
         "name": "category",
         "rawType": "object",
         "type": "string"
        },
        {
         "name": "label",
         "rawType": "object",
         "type": "string"
        }
       ],
       "ref": "301509c5-f6ae-4252-acb8-d7aa234e92f6",
       "rows": [
        [
         "0",
         "Foreign Democrat final.",
         "more tax development both store agreement lawyer hear outside continue reach difference yeah figure your power fear identify there protect security great national nothing fast story why late nearly bit cost tough since question to power almost future young conference behind ahead building teach million box receive Mrs risk benefit month compare environment class imagine you vote community reason set once idea him answer many how purpose deep training game own true language garden of partner result face military discover discover data glass bed maintain test way development across top culture glass yes decision hope necessary as trade organization talk debate peace stay community development six wide write itself several fight teach billion for common fear we personal church establish store kind hundred debate hotel cut sister audience sound case that stay within information trouble be debate great themselves responsibility force people hundred bar miss others sometimes build room interesting however charge what especially north no especially us travel industry about including face ten behind black series place age soldier early trouble middle would along case what money significant sound song reason poor free want thank cultural range shoulder rest movie political fear hear past leader up edge professor determine law act change middle prove say notice travel open director argue economic seven game matter season",
         "3/10/2023",
         "NY Times",
         "Paula George",
         "Politics",
         "real"
        ],
        [
         "1",
         "To offer down resource great point.",
         "probably guess western behind likely next investment consumer range wrong exactly once attack shoulder movie partner daughter on executive tonight factor push development pass question field firm accept I represent answer computer win fast small character total myself air must difficult green fast writer adult though individual learn interview our available drug against group produce before large wish find even media nature then last computer project story special stand lead build during ball contain road since history customer garden figure kind throw tell discuss remain view morning put mouth while serve great certain free two structure skin yard position suffer fast someone ok mind must something outside position write theory ok letter for debate seat top fall authority bit deep there get man view loss bring friend free certain economic final occur summer similar best discover area real area still scientist social everybody front direction arrive open own down next lawyer baby already size stand put financial sister clear whether save into realize right break quickly music customer price prevent truth effort which probably strong friend everything also body together political interview least research benefit why dog mean near interest unit seek blood leader husband bring teacher age apply fill guess store south woman television worry build young style maybe agreement ability relate amount actually quite whose smile student current mother simply gun store Republican none when shoulder market admit knowledge animal majority product attorney approach on probably",
         "5/25/2022",
         "Fox News",
         "Joseph Hill",
         "Politics",
         "fake"
        ],
        [
         "2",
         "Himself church myself carry.",
         "them identify forward present success risk several front pull blood choose born prove we clear approach language election future plant other those yourself all thing side soon guy vote him should practice dream until find despite less artist minute although teacher social eye top less make back care thus much small act outside college because up travel continue night name military room himself instead many month follow long president community people like attention fall crime history despite fill recently need commercial investment address send religious join opportunity story but idea exactly back difference loss degree whose throughout lead response almost toward themselves card national structure state arm low threat property eat bill public trip bed note hair teach defense citizen my rather believe say level wall short religious theory hair respond town return discussion investment never success entire admit develop south ability television yard daughter while fire modern send suggest skin could outside work office protect determine teach structure door fund ready gun role everyone often father establish majority point set choice meet think treatment animal audience guess hear student other certain inside assume check approach senior body once condition just trial occur foot explain police certain kid into special share deal write southern nature exactly respond kid help cause manager TV ago word nor her care reality daughter find answer affect",
         "9/1/2022",
         "CNN",
         "Julia Robinson",
         "Business",
         "fake"
        ],
        [
         "3",
         "You unit its should.",
         "phone which item yard Republican safe where police identify either once participant not man human tough enough offer high imagine point police woman paper cover many reach service will likely president conference film agree discover moment positive help task share necessary story right finally compare traditional change for reason purpose single crime available point building wear speech about summer why senior couple somebody PM remember push less data hotel authority situation for much visit general society firm positive player play page miss brother window indeed energy lose stage perhaps itself range common story hot strong adult produce next carry guess television travel form meeting industry shoulder market sure certain parent walk husband behind cultural whatever collection difficult we team probably produce quickly health full white laugh represent religious line force I exist admit statement try by front short pattern baby open claim these chance face else way decade sing nature rich white bring employee catch time industry official family million camera some including everybody security wait art vote maybe rich detail sort another let forget product police third evidence end old throughout student discussion office put nature whatever figure sign nature population town team against arm war include need visit would wait small just bed I line school eight might bag official worker television condition so institution information full protect food fight attack include current even per chair accept reflect speak answer bag officer understand good weight money movement main traditional western information account adult even gas",
         "2/7/2023",
         "Reuters",
         "Mr. David Foster DDS",
         "Science",
         "fake"
        ],
        [
         "4",
         "Billion believe employee summer how.",
         "wonder myself fact difficult course forget exactly pattern both sell training understand so ahead single western ago worry direction various agree first remember tonight year building agreement involve effect over even total game look need evidence particularly attorney agency apply produce theory deep ok fund relationship suffer guess put build morning quickly home authority physical choice can environment skin fill cost state force fire again establish recent two world style beyond bad while game memory world what hair anyone simply week try sport animal yeah hundred visit note within value various military laugh politics official between front would upon attack shoulder administration wish space receive less thing with structure produce cultural approach law doctor money interesting lawyer TV each activity however child item space sell movie south make around number camera past process fear wait total city site next party charge father up knowledge compare front attack check watch beat yard knowledge before quality field institution month child actually right become collection camera need include pattern after behind best ability expect possible star girl four radio establish charge budget suggest thousand she base become blood direction middle support fight game foot court reduce single whether or at score anything its sister management at focus machine single husband through free language run want shake goal food",
         "4/3/2023",
         "CNN",
         "Austin Walker",
         "Technology",
         "fake"
        ]
       ],
       "shape": {
        "columns": 7,
        "rows": 5
       }
      },
      "text/html": [
       "<div>\n",
       "<style scoped>\n",
       "    .dataframe tbody tr th:only-of-type {\n",
       "        vertical-align: middle;\n",
       "    }\n",
       "\n",
       "    .dataframe tbody tr th {\n",
       "        vertical-align: top;\n",
       "    }\n",
       "\n",
       "    .dataframe thead th {\n",
       "        text-align: right;\n",
       "    }\n",
       "</style>\n",
       "<table border=\"1\" class=\"dataframe\">\n",
       "  <thead>\n",
       "    <tr style=\"text-align: right;\">\n",
       "      <th></th>\n",
       "      <th>title</th>\n",
       "      <th>text</th>\n",
       "      <th>date</th>\n",
       "      <th>source</th>\n",
       "      <th>author</th>\n",
       "      <th>category</th>\n",
       "      <th>label</th>\n",
       "    </tr>\n",
       "  </thead>\n",
       "  <tbody>\n",
       "    <tr>\n",
       "      <th>0</th>\n",
       "      <td>Foreign Democrat final.</td>\n",
       "      <td>more tax development both store agreement lawy...</td>\n",
       "      <td>3/10/2023</td>\n",
       "      <td>NY Times</td>\n",
       "      <td>Paula George</td>\n",
       "      <td>Politics</td>\n",
       "      <td>real</td>\n",
       "    </tr>\n",
       "    <tr>\n",
       "      <th>1</th>\n",
       "      <td>To offer down resource great point.</td>\n",
       "      <td>probably guess western behind likely next inve...</td>\n",
       "      <td>5/25/2022</td>\n",
       "      <td>Fox News</td>\n",
       "      <td>Joseph Hill</td>\n",
       "      <td>Politics</td>\n",
       "      <td>fake</td>\n",
       "    </tr>\n",
       "    <tr>\n",
       "      <th>2</th>\n",
       "      <td>Himself church myself carry.</td>\n",
       "      <td>them identify forward present success risk sev...</td>\n",
       "      <td>9/1/2022</td>\n",
       "      <td>CNN</td>\n",
       "      <td>Julia Robinson</td>\n",
       "      <td>Business</td>\n",
       "      <td>fake</td>\n",
       "    </tr>\n",
       "    <tr>\n",
       "      <th>3</th>\n",
       "      <td>You unit its should.</td>\n",
       "      <td>phone which item yard Republican safe where po...</td>\n",
       "      <td>2/7/2023</td>\n",
       "      <td>Reuters</td>\n",
       "      <td>Mr. David Foster DDS</td>\n",
       "      <td>Science</td>\n",
       "      <td>fake</td>\n",
       "    </tr>\n",
       "    <tr>\n",
       "      <th>4</th>\n",
       "      <td>Billion believe employee summer how.</td>\n",
       "      <td>wonder myself fact difficult course forget exa...</td>\n",
       "      <td>4/3/2023</td>\n",
       "      <td>CNN</td>\n",
       "      <td>Austin Walker</td>\n",
       "      <td>Technology</td>\n",
       "      <td>fake</td>\n",
       "    </tr>\n",
       "  </tbody>\n",
       "</table>\n",
       "</div>"
      ],
      "text/plain": [
       "                                  title  \\\n",
       "0               Foreign Democrat final.   \n",
       "1   To offer down resource great point.   \n",
       "2          Himself church myself carry.   \n",
       "3                  You unit its should.   \n",
       "4  Billion believe employee summer how.   \n",
       "\n",
       "                                                text       date    source  \\\n",
       "0  more tax development both store agreement lawy...  3/10/2023  NY Times   \n",
       "1  probably guess western behind likely next inve...  5/25/2022  Fox News   \n",
       "2  them identify forward present success risk sev...   9/1/2022       CNN   \n",
       "3  phone which item yard Republican safe where po...   2/7/2023   Reuters   \n",
       "4  wonder myself fact difficult course forget exa...   4/3/2023       CNN   \n",
       "\n",
       "                 author    category label  \n",
       "0          Paula George    Politics  real  \n",
       "1           Joseph Hill    Politics  fake  \n",
       "2        Julia Robinson    Business  fake  \n",
       "3  Mr. David Foster DDS     Science  fake  \n",
       "4         Austin Walker  Technology  fake  "
      ]
     },
     "execution_count": 3,
     "metadata": {},
     "output_type": "execute_result"
    }
   ],
   "source": [
    "data.head()"
   ]
  },
  {
   "cell_type": "code",
   "execution_count": 4,
   "id": "c69cf1cc",
   "metadata": {},
   "outputs": [
    {
     "data": {
      "application/vnd.microsoft.datawrangler.viewer.v0+json": {
       "columns": [
        {
         "name": "label",
         "rawType": "object",
         "type": "string"
        },
        {
         "name": "count",
         "rawType": "int64",
         "type": "integer"
        }
       ],
       "ref": "79a3d724-981c-4aa1-87a8-c0d2283ec884",
       "rows": [
        [
         "fake",
         "10056"
        ],
        [
         "real",
         "9944"
        ]
       ],
       "shape": {
        "columns": 1,
        "rows": 2
       }
      },
      "text/plain": [
       "label\n",
       "fake    10056\n",
       "real     9944\n",
       "Name: count, dtype: int64"
      ]
     },
     "execution_count": 4,
     "metadata": {},
     "output_type": "execute_result"
    }
   ],
   "source": [
    "data[\"label\"].value_counts()"
   ]
  },
  {
   "cell_type": "code",
   "execution_count": 5,
   "id": "9e2710cc",
   "metadata": {},
   "outputs": [
    {
     "data": {
      "text/plain": [
       "<function matplotlib.pyplot.show(close=None, block=None)>"
      ]
     },
     "execution_count": 5,
     "metadata": {},
     "output_type": "execute_result"
    },
    {
     "data": {
      "image/png": "[encoded data removed]",
      "text/plain": [
       "<Figure size 640x480 with 1 Axes>"
      ]
     },
     "metadata": {},
     "output_type": "display_data"
    }
   ],
   "source": [
    "ax = plt.axes()\n",
    "sns.heatmap(data.isna().transpose() , cbar=False , ax=ax)\n",
    "plt.xlabel(\"Columns\")\n",
    "plt.ylabel(\"Missing Values\")\n",
    "plt.show"
   ]
  },
  {
   "cell_type": "code",
   "execution_count": 6,
   "id": "58e05ce6",
   "metadata": {},
   "outputs": [
    {
     "data": {
      "text/plain": [
       "(20000, 7)"
      ]
     },
     "execution_count": 6,
     "metadata": {},
     "output_type": "execute_result"
    }
   ],
   "source": [
    "data.shape"
   ]
  },
  {
   "cell_type": "code",
   "execution_count": 7,
   "id": "9a4b06cb",
   "metadata": {},
   "outputs": [
    {
     "name": "stdout",
     "output_type": "stream",
     "text": [
      "<class 'pandas.core.frame.DataFrame'>\n",
      "RangeIndex: 20000 entries, 0 to 19999\n",
      "Data columns (total 7 columns):\n",
      " #   Column    Non-Null Count  Dtype \n",
      "---  ------    --------------  ----- \n",
      " 0   title     20000 non-null  object\n",
      " 1   text      20000 non-null  object\n",
      " 2   date      20000 non-null  object\n",
      " 3   source    19000 non-null  object\n",
      " 4   author    19000 non-null  object\n",
      " 5   category  20000 non-null  object\n",
      " 6   label     20000 non-null  object\n",
      "dtypes: object(7)\n",
      "memory usage: 1.1+ MB\n"
     ]
    }
   ],
   "source": [
    "data.info()"
   ]
  },
  {
   "cell_type": "markdown",
   "id": "c401912f",
   "metadata": {},
   "source": [
    "### Cheak source    "
   ]
  },
  {
   "cell_type": "code",
   "execution_count": 8,
   "id": "7c73b7ae",
   "metadata": {},
   "outputs": [
    {
     "data": {
      "application/vnd.microsoft.datawrangler.viewer.v0+json": {
       "columns": [
        {
         "name": "source",
         "rawType": "object",
         "type": "string"
        },
        {
         "name": "count",
         "rawType": "int64",
         "type": "integer"
        }
       ],
       "ref": "2b3a9eb7-64a9-4523-a50b-ba1547da9a13",
       "rows": [
        [
         "Daily News",
         "2439"
        ],
        [
         "BBC",
         "2393"
        ],
        [
         "The Guardian",
         "2382"
        ],
        [
         "CNN",
         "2375"
        ],
        [
         "NY Times",
         "2372"
        ],
        [
         "Fox News",
         "2362"
        ],
        [
         "Reuters",
         "2360"
        ],
        [
         "Global Times",
         "2317"
        ]
       ],
       "shape": {
        "columns": 1,
        "rows": 8
       }
      },
      "text/plain": [
       "source\n",
       "Daily News      2439\n",
       "BBC             2393\n",
       "The Guardian    2382\n",
       "CNN             2375\n",
       "NY Times        2372\n",
       "Fox News        2362\n",
       "Reuters         2360\n",
       "Global Times    2317\n",
       "Name: count, dtype: int64"
      ]
     },
     "execution_count": 8,
     "metadata": {},
     "output_type": "execute_result"
    }
   ],
   "source": [
    "data[\"source\"].value_counts()"
   ]
  },
  {
   "cell_type": "code",
   "execution_count": 9,
   "id": "d10f9c99",
   "metadata": {},
   "outputs": [
    {
     "data": {
      "text/plain": [
       "Text(0.5, 1.0, 'Count of Real vs Fake per Source')"
      ]
     },
     "execution_count": 9,
     "metadata": {},
     "output_type": "execute_result"
    },
    {
     "data": {
      "image/png": "[encoded data removed]",
      "text/plain": [
       "<Figure size 640x480 with 1 Axes>"
      ]
     },
     "metadata": {},
     "output_type": "display_data"
    }
   ],
   "source": [
    "data[\"source\"].value_counts()\n",
    "sns.countplot(data=data, x=\"source\", hue=\"label\")\n",
    "plt.title(\"Count of Real vs Fake per Source\")"
   ]
  },
  {
   "cell_type": "markdown",
   "id": "5e38c2fb",
   "metadata": {},
   "source": [
    "### Cheak author    "
   ]
  },
  {
   "cell_type": "code",
   "execution_count": 10,
   "id": "829b9c3c",
   "metadata": {},
   "outputs": [
    {
     "data": {
      "application/vnd.microsoft.datawrangler.viewer.v0+json": {
       "columns": [
        {
         "name": "author",
         "rawType": "object",
         "type": "string"
        },
        {
         "name": "count",
         "rawType": "int64",
         "type": "integer"
        }
       ],
       "ref": "45526e46-b0ff-47cc-99d0-2d6bd7b4d2c6",
       "rows": [
        [
         "Michael Smith",
         "12"
        ],
        [
         "John Smith",
         "11"
        ],
        [
         "Christopher Johnson",
         "9"
        ],
        [
         "Lisa Williams",
         "7"
        ],
        [
         "Jennifer Davis",
         "7"
        ],
        [
         "David Brown",
         "7"
        ],
        [
         "Michael Lee",
         "7"
        ],
        [
         "John Brown",
         "7"
        ],
        [
         "James Smith",
         "7"
        ],
        [
         "Ashley Smith",
         "6"
        ],
        [
         "David Johnson",
         "6"
        ],
        [
         "David Garcia",
         "6"
        ],
        [
         "James Johnson",
         "6"
        ],
        [
         "Laura Johnson",
         "5"
        ],
        [
         "Anthony Jones",
         "5"
        ],
        [
         "Ashley Davis",
         "5"
        ],
        [
         "Jeffrey Jones",
         "5"
        ],
        [
         "Matthew Smith",
         "5"
        ],
        [
         "Jennifer Miller",
         "5"
        ],
        [
         "Sarah Williams",
         "5"
        ],
        [
         "Michael Morales",
         "5"
        ],
        [
         "James Jones",
         "5"
        ],
        [
         "James Brown",
         "5"
        ],
        [
         "James Taylor",
         "5"
        ],
        [
         "Stephanie Smith",
         "5"
        ],
        [
         "David Jones",
         "5"
        ],
        [
         "Mark Jones",
         "5"
        ],
        [
         "Kimberly Smith",
         "5"
        ],
        [
         "Jessica Brown",
         "5"
        ],
        [
         "Michael Young",
         "5"
        ],
        [
         "Jennifer Smith",
         "5"
        ],
        [
         "Sarah Johnson",
         "5"
        ],
        [
         "Michael Brown",
         "5"
        ],
        [
         "Ryan Smith",
         "5"
        ],
        [
         "Joshua Smith",
         "5"
        ],
        [
         "Michael Williams",
         "5"
        ],
        [
         "James Harris",
         "5"
        ],
        [
         "Elizabeth Johnson",
         "5"
        ],
        [
         "Patricia Smith",
         "5"
        ],
        [
         "Heather Brown",
         "4"
        ],
        [
         "Andrew Miller",
         "4"
        ],
        [
         "William Brown",
         "4"
        ],
        [
         "William Gonzalez",
         "4"
        ],
        [
         "Thomas Hernandez",
         "4"
        ],
        [
         "Michael Harris",
         "4"
        ],
        [
         "Robert Smith",
         "4"
        ],
        [
         "Matthew Jones",
         "4"
        ],
        [
         "Joseph Lee",
         "4"
        ],
        [
         "Jeffrey Johnson",
         "4"
        ],
        [
         "Stephanie Anderson",
         "4"
        ]
       ],
       "shape": {
        "columns": 1,
        "rows": 17051
       }
      },
      "text/plain": [
       "author\n",
       "Michael Smith          12\n",
       "John Smith             11\n",
       "Christopher Johnson     9\n",
       "Lisa Williams           7\n",
       "Jennifer Davis          7\n",
       "                       ..\n",
       "Tonya Anderson          1\n",
       "Matthew Patton          1\n",
       "Stephen Parks           1\n",
       "Desiree Castro          1\n",
       "Sherri Fry              1\n",
       "Name: count, Length: 17051, dtype: int64"
      ]
     },
     "execution_count": 10,
     "metadata": {},
     "output_type": "execute_result"
    }
   ],
   "source": [
    "data[\"author\"].value_counts()"
   ]
  },
  {
   "cell_type": "markdown",
   "id": "fb54742e",
   "metadata": {},
   "source": [
    "### Cheak category      "
   ]
  },
  {
   "cell_type": "code",
   "execution_count": 11,
   "id": "642accb3",
   "metadata": {},
   "outputs": [],
   "source": [
    "cate_count=data[\"category\"].value_counts()"
   ]
  },
  {
   "cell_type": "code",
   "execution_count": 12,
   "id": "2299bb50",
   "metadata": {},
   "outputs": [
    {
     "data": {
      "image/png": "[encoded data removed]",
      "text/plain": [
       "<Figure size 640x480 with 1 Axes>"
      ]
     },
     "metadata": {},
     "output_type": "display_data"
    }
   ],
   "source": [
    "plt.pie(cate_count, labels=cate_count.index,\n",
    "        autopct='%1.1f%%', startangle=140, counterclock=False)\n",
    "\n",
    "plt.tight_layout()\n",
    "plt.show()"
   ]
  },
  {
   "cell_type": "code",
   "execution_count": 13,
   "id": "55e028fa",
   "metadata": {},
   "outputs": [
    {
     "data": {
      "text/plain": [
       "Text(0.5, 1.0, 'Count of Real vs Fake per category')"
      ]
     },
     "execution_count": 13,
     "metadata": {},
     "output_type": "execute_result"
    },
    {
     "data": {
      "image/png": "[encoded data removed]",
      "text/plain": [
       "<Figure size 640x480 with 1 Axes>"
      ]
     },
     "metadata": {},
     "output_type": "display_data"
    }
   ],
   "source": [
    "sns.countplot(data=data, x=\"category\", hue=\"label\")\n",
    "plt.title(\"Count of Real vs Fake per category\")"
   ]
  },
  {
   "cell_type": "markdown",
   "id": "71c5ccac",
   "metadata": {},
   "source": [
    "### Cheak date   "
   ]
  },
  {
   "cell_type": "code",
   "execution_count": 14,
   "id": "23dc7a0b",
   "metadata": {},
   "outputs": [
    {
     "data": {
      "application/vnd.microsoft.datawrangler.viewer.v0+json": {
       "columns": [
        {
         "name": "date",
         "rawType": "object",
         "type": "string"
        },
        {
         "name": "count",
         "rawType": "int64",
         "type": "integer"
        }
       ],
       "ref": "103d9bde-fd3a-4e23-a67e-8155b1f9d185",
       "rows": [
        [
         "8/31/2023",
         "32"
        ],
        [
         "12/20/2022",
         "31"
        ],
        [
         "6/9/2024",
         "30"
        ],
        [
         "3/4/2024",
         "30"
        ],
        [
         "6/21/2022",
         "30"
        ],
        [
         "2/19/2025",
         "30"
        ],
        [
         "7/29/2024",
         "29"
        ],
        [
         "3/15/2025",
         "29"
        ],
        [
         "1/15/2024",
         "29"
        ],
        [
         "6/8/2023",
         "29"
        ],
        [
         "4/29/2024",
         "29"
        ],
        [
         "11/27/2023",
         "29"
        ],
        [
         "10/7/2022",
         "29"
        ],
        [
         "12/19/2024",
         "29"
        ],
        [
         "12/3/2023",
         "28"
        ],
        [
         "5/25/2022",
         "28"
        ],
        [
         "9/1/2024",
         "28"
        ],
        [
         "11/7/2022",
         "28"
        ],
        [
         "8/25/2024",
         "28"
        ],
        [
         "8/12/2023",
         "28"
        ],
        [
         "7/11/2023",
         "28"
        ],
        [
         "4/21/2023",
         "27"
        ],
        [
         "6/13/2023",
         "27"
        ],
        [
         "8/14/2024",
         "27"
        ],
        [
         "11/17/2024",
         "27"
        ],
        [
         "9/23/2022",
         "27"
        ],
        [
         "5/17/2024",
         "27"
        ],
        [
         "2/16/2024",
         "27"
        ],
        [
         "8/17/2024",
         "27"
        ],
        [
         "3/17/2023",
         "27"
        ],
        [
         "2/3/2023",
         "27"
        ],
        [
         "10/20/2024",
         "27"
        ],
        [
         "11/15/2023",
         "27"
        ],
        [
         "11/17/2022",
         "26"
        ],
        [
         "12/25/2023",
         "26"
        ],
        [
         "12/24/2024",
         "26"
        ],
        [
         "7/26/2023",
         "26"
        ],
        [
         "1/14/2023",
         "26"
        ],
        [
         "12/13/2023",
         "26"
        ],
        [
         "5/26/2024",
         "26"
        ],
        [
         "10/7/2023",
         "26"
        ],
        [
         "7/1/2023",
         "26"
        ],
        [
         "6/1/2022",
         "26"
        ],
        [
         "6/2/2023",
         "26"
        ],
        [
         "6/7/2022",
         "26"
        ],
        [
         "11/21/2023",
         "26"
        ],
        [
         "10/5/2022",
         "26"
        ],
        [
         "12/10/2024",
         "26"
        ],
        [
         "4/19/2024",
         "26"
        ],
        [
         "10/15/2023",
         "26"
        ]
       ],
       "shape": {
        "columns": 1,
        "rows": 1096
       }
      },
      "text/plain": [
       "date\n",
       "8/31/2023     32\n",
       "12/20/2022    31\n",
       "6/9/2024      30\n",
       "3/4/2024      30\n",
       "6/21/2022     30\n",
       "              ..\n",
       "1/7/2024       8\n",
       "2/14/2023      8\n",
       "4/4/2025       7\n",
       "4/17/2023      7\n",
       "8/11/2023      6\n",
       "Name: count, Length: 1096, dtype: int64"
      ]
     },
     "execution_count": 14,
     "metadata": {},
     "output_type": "execute_result"
    }
   ],
   "source": [
    "data[\"date\"].value_counts()   "
   ]
  },
  {
   "cell_type": "code",
   "execution_count": 15,
   "id": "8d9c174e",
   "metadata": {},
   "outputs": [],
   "source": [
    "data[\"date_2\"] = pd.to_datetime(data[\"date\"], errors='coerce')"
   ]
  },
  {
   "cell_type": "code",
   "execution_count": 16,
   "id": "b994f7fd",
   "metadata": {},
   "outputs": [],
   "source": [
    "data[\"years\"] = data[\"date_2\"].dt.year\n",
    "data[\"months\"] = data[\"date_2\"].dt.month"
   ]
  },
  {
   "cell_type": "code",
   "execution_count": 17,
   "id": "f3e86d13",
   "metadata": {},
   "outputs": [
    {
     "data": {
      "application/vnd.microsoft.datawrangler.viewer.v0+json": {
       "columns": [
        {
         "name": "index",
         "rawType": "int64",
         "type": "integer"
        },
        {
         "name": "title",
         "rawType": "object",
         "type": "string"
        },
        {
         "name": "text",
         "rawType": "object",
         "type": "string"
        },
        {
         "name": "date",
         "rawType": "object",
         "type": "string"
        },
        {
         "name": "source",
         "rawType": "object",
         "type": "string"
        },
        {
         "name": "author",
         "rawType": "object",
         "type": "string"
        },
        {
         "name": "category",
         "rawType": "object",
         "type": "string"
        },
        {
         "name": "label",
         "rawType": "object",
         "type": "string"
        },
        {
         "name": "date_2",
         "rawType": "datetime64[ns]",
         "type": "datetime"
        },
        {
         "name": "years",
         "rawType": "int32",
         "type": "integer"
        },
        {
         "name": "months",
         "rawType": "int32",
         "type": "integer"
        }
       ],
       "ref": "3511c38d-8c57-497a-8147-e36164723573",
       "rows": [
        [
         "0",
         "Foreign Democrat final.",
         "more tax development both store agreement lawyer hear outside continue reach difference yeah figure your power fear identify there protect security great national nothing fast story why late nearly bit cost tough since question to power almost future young conference behind ahead building teach million box receive Mrs risk benefit month compare environment class imagine you vote community reason set once idea him answer many how purpose deep training game own true language garden of partner result face military discover discover data glass bed maintain test way development across top culture glass yes decision hope necessary as trade organization talk debate peace stay community development six wide write itself several fight teach billion for common fear we personal church establish store kind hundred debate hotel cut sister audience sound case that stay within information trouble be debate great themselves responsibility force people hundred bar miss others sometimes build room interesting however charge what especially north no especially us travel industry about including face ten behind black series place age soldier early trouble middle would along case what money significant sound song reason poor free want thank cultural range shoulder rest movie political fear hear past leader up edge professor determine law act change middle prove say notice travel open director argue economic seven game matter season",
         "3/10/2023",
         "NY Times",
         "Paula George",
         "Politics",
         "real",
         "2023-03-10 00:00:00",
         "2023",
         "3"
        ],
        [
         "1",
         "To offer down resource great point.",
         "probably guess western behind likely next investment consumer range wrong exactly once attack shoulder movie partner daughter on executive tonight factor push development pass question field firm accept I represent answer computer win fast small character total myself air must difficult green fast writer adult though individual learn interview our available drug against group produce before large wish find even media nature then last computer project story special stand lead build during ball contain road since history customer garden figure kind throw tell discuss remain view morning put mouth while serve great certain free two structure skin yard position suffer fast someone ok mind must something outside position write theory ok letter for debate seat top fall authority bit deep there get man view loss bring friend free certain economic final occur summer similar best discover area real area still scientist social everybody front direction arrive open own down next lawyer baby already size stand put financial sister clear whether save into realize right break quickly music customer price prevent truth effort which probably strong friend everything also body together political interview least research benefit why dog mean near interest unit seek blood leader husband bring teacher age apply fill guess store south woman television worry build young style maybe agreement ability relate amount actually quite whose smile student current mother simply gun store Republican none when shoulder market admit knowledge animal majority product attorney approach on probably",
         "5/25/2022",
         "Fox News",
         "Joseph Hill",
         "Politics",
         "fake",
         "2022-05-25 00:00:00",
         "2022",
         "5"
        ],
        [
         "2",
         "Himself church myself carry.",
         "them identify forward present success risk several front pull blood choose born prove we clear approach language election future plant other those yourself all thing side soon guy vote him should practice dream until find despite less artist minute although teacher social eye top less make back care thus much small act outside college because up travel continue night name military room himself instead many month follow long president community people like attention fall crime history despite fill recently need commercial investment address send religious join opportunity story but idea exactly back difference loss degree whose throughout lead response almost toward themselves card national structure state arm low threat property eat bill public trip bed note hair teach defense citizen my rather believe say level wall short religious theory hair respond town return discussion investment never success entire admit develop south ability television yard daughter while fire modern send suggest skin could outside work office protect determine teach structure door fund ready gun role everyone often father establish majority point set choice meet think treatment animal audience guess hear student other certain inside assume check approach senior body once condition just trial occur foot explain police certain kid into special share deal write southern nature exactly respond kid help cause manager TV ago word nor her care reality daughter find answer affect",
         "9/1/2022",
         "CNN",
         "Julia Robinson",
         "Business",
         "fake",
         "2022-09-01 00:00:00",
         "2022",
         "9"
        ],
        [
         "3",
         "You unit its should.",
         "phone which item yard Republican safe where police identify either once participant not man human tough enough offer high imagine point police woman paper cover many reach service will likely president conference film agree discover moment positive help task share necessary story right finally compare traditional change for reason purpose single crime available point building wear speech about summer why senior couple somebody PM remember push less data hotel authority situation for much visit general society firm positive player play page miss brother window indeed energy lose stage perhaps itself range common story hot strong adult produce next carry guess television travel form meeting industry shoulder market sure certain parent walk husband behind cultural whatever collection difficult we team probably produce quickly health full white laugh represent religious line force I exist admit statement try by front short pattern baby open claim these chance face else way decade sing nature rich white bring employee catch time industry official family million camera some including everybody security wait art vote maybe rich detail sort another let forget product police third evidence end old throughout student discussion office put nature whatever figure sign nature population town team against arm war include need visit would wait small just bed I line school eight might bag official worker television condition so institution information full protect food fight attack include current even per chair accept reflect speak answer bag officer understand good weight money movement main traditional western information account adult even gas",
         "2/7/2023",
         "Reuters",
         "Mr. David Foster DDS",
         "Science",
         "fake",
         "2023-02-07 00:00:00",
         "2023",
         "2"
        ],
        [
         "4",
         "Billion believe employee summer how.",
         "wonder myself fact difficult course forget exactly pattern both sell training understand so ahead single western ago worry direction various agree first remember tonight year building agreement involve effect over even total game look need evidence particularly attorney agency apply produce theory deep ok fund relationship suffer guess put build morning quickly home authority physical choice can environment skin fill cost state force fire again establish recent two world style beyond bad while game memory world what hair anyone simply week try sport animal yeah hundred visit note within value various military laugh politics official between front would upon attack shoulder administration wish space receive less thing with structure produce cultural approach law doctor money interesting lawyer TV each activity however child item space sell movie south make around number camera past process fear wait total city site next party charge father up knowledge compare front attack check watch beat yard knowledge before quality field institution month child actually right become collection camera need include pattern after behind best ability expect possible star girl four radio establish charge budget suggest thousand she base become blood direction middle support fight game foot court reduce single whether or at score anything its sister management at focus machine single husband through free language run want shake goal food",
         "4/3/2023",
         "CNN",
         "Austin Walker",
         "Technology",
         "fake",
         "2023-04-03 00:00:00",
         "2023",
         "4"
        ]
       ],
       "shape": {
        "columns": 10,
        "rows": 5
       }
      },
      "text/html": [
       "<div>\n",
       "<style scoped>\n",
       "    .dataframe tbody tr th:only-of-type {\n",
       "        vertical-align: middle;\n",
       "    }\n",
       "\n",
       "    .dataframe tbody tr th {\n",
       "        vertical-align: top;\n",
       "    }\n",
       "\n",
       "    .dataframe thead th {\n",
       "        text-align: right;\n",
       "    }\n",
       "</style>\n",
       "<table border=\"1\" class=\"dataframe\">\n",
       "  <thead>\n",
       "    <tr style=\"text-align: right;\">\n",
       "      <th></th>\n",
       "      <th>title</th>\n",
       "      <th>text</th>\n",
       "      <th>date</th>\n",
       "      <th>source</th>\n",
       "      <th>author</th>\n",
       "      <th>category</th>\n",
       "      <th>label</th>\n",
       "      <th>date_2</th>\n",
       "      <th>years</th>\n",
       "      <th>months</th>\n",
       "    </tr>\n",
       "  </thead>\n",
       "  <tbody>\n",
       "    <tr>\n",
       "      <th>0</th>\n",
       "      <td>Foreign Democrat final.</td>\n",
       "      <td>more tax development both store agreement lawy...</td>\n",
       "      <td>3/10/2023</td>\n",
       "      <td>NY Times</td>\n",
       "      <td>Paula George</td>\n",
       "      <td>Politics</td>\n",
       "      <td>real</td>\n",
       "      <td>2023-03-10</td>\n",
       "      <td>2023</td>\n",
       "      <td>3</td>\n",
       "    </tr>\n",
       "    <tr>\n",
       "      <th>1</th>\n",
       "      <td>To offer down resource great point.</td>\n",
       "      <td>probably guess western behind likely next inve...</td>\n",
       "      <td>5/25/2022</td>\n",
       "      <td>Fox News</td>\n",
       "      <td>Joseph Hill</td>\n",
       "      <td>Politics</td>\n",
       "      <td>fake</td>\n",
       "      <td>2022-05-25</td>\n",
       "      <td>2022</td>\n",
       "      <td>5</td>\n",
       "    </tr>\n",
       "    <tr>\n",
       "      <th>2</th>\n",
       "      <td>Himself church myself carry.</td>\n",
       "      <td>them identify forward present success risk sev...</td>\n",
       "      <td>9/1/2022</td>\n",
       "      <td>CNN</td>\n",
       "      <td>Julia Robinson</td>\n",
       "      <td>Business</td>\n",
       "      <td>fake</td>\n",
       "      <td>2022-09-01</td>\n",
       "      <td>2022</td>\n",
       "      <td>9</td>\n",
       "    </tr>\n",
       "    <tr>\n",
       "      <th>3</th>\n",
       "      <td>You unit its should.</td>\n",
       "      <td>phone which item yard Republican safe where po...</td>\n",
       "      <td>2/7/2023</td>\n",
       "      <td>Reuters</td>\n",
       "      <td>Mr. David Foster DDS</td>\n",
       "      <td>Science</td>\n",
       "      <td>fake</td>\n",
       "      <td>2023-02-07</td>\n",
       "      <td>2023</td>\n",
       "      <td>2</td>\n",
       "    </tr>\n",
       "    <tr>\n",
       "      <th>4</th>\n",
       "      <td>Billion believe employee summer how.</td>\n",
       "      <td>wonder myself fact difficult course forget exa...</td>\n",
       "      <td>4/3/2023</td>\n",
       "      <td>CNN</td>\n",
       "      <td>Austin Walker</td>\n",
       "      <td>Technology</td>\n",
       "      <td>fake</td>\n",
       "      <td>2023-04-03</td>\n",
       "      <td>2023</td>\n",
       "      <td>4</td>\n",
       "    </tr>\n",
       "  </tbody>\n",
       "</table>\n",
       "</div>"
      ],
      "text/plain": [
       "                                  title  \\\n",
       "0               Foreign Democrat final.   \n",
       "1   To offer down resource great point.   \n",
       "2          Himself church myself carry.   \n",
       "3                  You unit its should.   \n",
       "4  Billion believe employee summer how.   \n",
       "\n",
       "                                                text       date    source  \\\n",
       "0  more tax development both store agreement lawy...  3/10/2023  NY Times   \n",
       "1  probably guess western behind likely next inve...  5/25/2022  Fox News   \n",
       "2  them identify forward present success risk sev...   9/1/2022       CNN   \n",
       "3  phone which item yard Republican safe where po...   2/7/2023   Reuters   \n",
       "4  wonder myself fact difficult course forget exa...   4/3/2023       CNN   \n",
       "\n",
       "                 author    category label     date_2  years  months  \n",
       "0          Paula George    Politics  real 2023-03-10   2023       3  \n",
       "1           Joseph Hill    Politics  fake 2022-05-25   2022       5  \n",
       "2        Julia Robinson    Business  fake 2022-09-01   2022       9  \n",
       "3  Mr. David Foster DDS     Science  fake 2023-02-07   2023       2  \n",
       "4         Austin Walker  Technology  fake 2023-04-03   2023       4  "
      ]
     },
     "execution_count": 17,
     "metadata": {},
     "output_type": "execute_result"
    }
   ],
   "source": [
    "data.head()"
   ]
  },
  {
   "cell_type": "code",
   "execution_count": 18,
   "id": "47872738",
   "metadata": {},
   "outputs": [
    {
     "data": {
      "application/vnd.microsoft.datawrangler.viewer.v0+json": {
       "columns": [
        {
         "name": "years",
         "rawType": "int32",
         "type": "integer"
        },
        {
         "name": "count",
         "rawType": "int64",
         "type": "integer"
        }
       ],
       "ref": "b3fb7ab4-f997-4cb4-8ec1-097460fcc5a9",
       "rows": [
        [
         "2023",
         "6696"
        ],
        [
         "2024",
         "6685"
        ],
        [
         "2022",
         "4555"
        ],
        [
         "2025",
         "2064"
        ]
       ],
       "shape": {
        "columns": 1,
        "rows": 4
       }
      },
      "text/plain": [
       "years\n",
       "2023    6696\n",
       "2024    6685\n",
       "2022    4555\n",
       "2025    2064\n",
       "Name: count, dtype: int64"
      ]
     },
     "execution_count": 18,
     "metadata": {},
     "output_type": "execute_result"
    }
   ],
   "source": [
    "data[\"years\"].value_counts()"
   ]
  },
  {
   "cell_type": "code",
   "execution_count": 19,
   "id": "60ebc2fb",
   "metadata": {},
   "outputs": [
    {
     "data": {
      "text/plain": [
       "Text(0.5, 1.0, 'Count of Real vs Fake per Source')"
      ]
     },
     "execution_count": 19,
     "metadata": {},
     "output_type": "execute_result"
    },
    {
     "data": {
      "image/png": "[encoded data removed]",
      "text/plain": [
       "<Figure size 640x480 with 1 Axes>"
      ]
     },
     "metadata": {},
     "output_type": "display_data"
    }
   ],
   "source": [
    "sns.countplot(data=data, x=\"years\", hue=\"label\")\n",
    "plt.title(\"Count of Real vs Fake per Source\")"
   ]
  },
  {
   "cell_type": "code",
   "execution_count": 20,
   "id": "10a94b1e",
   "metadata": {},
   "outputs": [
    {
     "data": {
      "application/vnd.microsoft.datawrangler.viewer.v0+json": {
       "columns": [
        {
         "name": "months",
         "rawType": "int32",
         "type": "integer"
        },
        {
         "name": "count",
         "rawType": "int64",
         "type": "integer"
        }
       ],
       "ref": "ea4453aa-bf6a-41c4-a867-1932d62c1315",
       "rows": [
        [
         "11",
         "1768"
        ],
        [
         "1",
         "1729"
        ],
        [
         "8",
         "1700"
        ],
        [
         "7",
         "1699"
        ],
        [
         "12",
         "1697"
        ],
        [
         "10",
         "1696"
        ],
        [
         "3",
         "1685"
        ],
        [
         "5",
         "1669"
        ],
        [
         "4",
         "1614"
        ],
        [
         "6",
         "1607"
        ],
        [
         "2",
         "1580"
        ],
        [
         "9",
         "1556"
        ]
       ],
       "shape": {
        "columns": 1,
        "rows": 12
       }
      },
      "text/plain": [
       "months\n",
       "11    1768\n",
       "1     1729\n",
       "8     1700\n",
       "7     1699\n",
       "12    1697\n",
       "10    1696\n",
       "3     1685\n",
       "5     1669\n",
       "4     1614\n",
       "6     1607\n",
       "2     1580\n",
       "9     1556\n",
       "Name: count, dtype: int64"
      ]
     },
     "execution_count": 20,
     "metadata": {},
     "output_type": "execute_result"
    }
   ],
   "source": [
    "data[\"months\"].value_counts()"
   ]
  },
  {
   "cell_type": "code",
   "execution_count": 21,
   "id": "690a514f",
   "metadata": {},
   "outputs": [
    {
     "data": {
      "text/plain": [
       "Text(0.5, 1.0, 'Count of Real vs Fake per Source')"
      ]
     },
     "execution_count": 21,
     "metadata": {},
     "output_type": "execute_result"
    },
    {
     "data": {
      "image/png": "[encoded data removed]",
      "text/plain": [
       "<Figure size 640x480 with 1 Axes>"
      ]
     },
     "metadata": {},
     "output_type": "display_data"
    }
   ],
   "source": [
    "sns.countplot(data=data, x=\"months\", hue=\"label\")\n",
    "plt.title(\"Count of Real vs Fake per Source\")"
   ]
  },
  {
   "cell_type": "markdown",
   "id": "1b511216",
   "metadata": {},
   "source": [
    "### Cheak Text "
   ]
  },
  {
   "cell_type": "code",
   "execution_count": 22,
   "id": "b7671c1b",
   "metadata": {},
   "outputs": [
    {
     "name": "stdout",
     "output_type": "stream",
     "text": [
      "<class 'pandas.core.frame.DataFrame'>\n",
      "RangeIndex: 20000 entries, 0 to 19999\n",
      "Data columns (total 10 columns):\n",
      " #   Column    Non-Null Count  Dtype         \n",
      "---  ------    --------------  -----         \n",
      " 0   title     20000 non-null  object        \n",
      " 1   text      20000 non-null  object        \n",
      " 2   date      20000 non-null  object        \n",
      " 3   source    19000 non-null  object        \n",
      " 4   author    19000 non-null  object        \n",
      " 5   category  20000 non-null  object        \n",
      " 6   label     20000 non-null  object        \n",
      " 7   date_2    20000 non-null  datetime64[ns]\n",
      " 8   years     20000 non-null  int32         \n",
      " 9   months    20000 non-null  int32         \n",
      "dtypes: datetime64[ns](1), int32(2), object(7)\n",
      "memory usage: 1.4+ MB\n"
     ]
    }
   ],
   "source": [
    "data.info()"
   ]
  },
  {
   "cell_type": "code",
   "execution_count": 23,
   "id": "43cf4a38",
   "metadata": {},
   "outputs": [],
   "source": [
    "data[\"word_in_text\"]= data[\"text\"].str.split().str.len()"
   ]
  },
  {
   "cell_type": "code",
   "execution_count": 24,
   "id": "49d008fc",
   "metadata": {},
   "outputs": [
    {
     "data": {
      "application/vnd.microsoft.datawrangler.viewer.v0+json": {
       "columns": [
        {
         "name": "index",
         "rawType": "int64",
         "type": "integer"
        },
        {
         "name": "title",
         "rawType": "object",
         "type": "string"
        },
        {
         "name": "text",
         "rawType": "object",
         "type": "string"
        },
        {
         "name": "date",
         "rawType": "object",
         "type": "string"
        },
        {
         "name": "source",
         "rawType": "object",
         "type": "unknown"
        },
        {
         "name": "author",
         "rawType": "object",
         "type": "string"
        },
        {
         "name": "category",
         "rawType": "object",
         "type": "string"
        },
        {
         "name": "label",
         "rawType": "object",
         "type": "string"
        },
        {
         "name": "date_2",
         "rawType": "datetime64[ns]",
         "type": "datetime"
        },
        {
         "name": "years",
         "rawType": "int32",
         "type": "integer"
        },
        {
         "name": "months",
         "rawType": "int32",
         "type": "integer"
        },
        {
         "name": "word_in_text",
         "rawType": "int64",
         "type": "integer"
        }
       ],
       "ref": "851d4a56-f76f-425f-afb5-8f624f9503ee",
       "rows": [
        [
         "14566",
         "Well head professor some yet entire matter.",
         "building none family letter gun little stand especially ground condition one remember choice view debate agree sometimes option quickly me rather surface hope level ready care purpose avoid join half attention hotel foreign support away report move task people town box role view market sing each beat month once organization close during area anyone model modern start soldier accept water democratic within or dream information young happy half but argue inside just term majority anyone speak effort morning apply imagine indeed finally development at scientist far vote manage whose step bar site modern water than page hand money citizen prepare themselves nice nice work finally small spend eye fund kid common during well improve memory wonder woman usually plan partner various sing couple arm new rather hard have believe tell live several effort even let and life raise difficult ever evidence hit hotel bank second successful less particular about score anyone visit option walk reflect affect image movement attorney glass find policy country people pressure always first light law scene political girl attention box his skill style over mouth design some style what myself week unit product conference positive general simple street red air relate owner current main trouble amount difference sign people memory everything test outside under turn voice of mean",
         "4/25/2023",
         "NY Times",
         "Daniel Schaefer",
         "Politics",
         "fake",
         "2023-04-25 00:00:00",
         "2023",
         "4",
         "212"
        ],
        [
         "1440",
         "Chance great age involve those.",
         "other remember big detail moment event west particularly serve box over rock deal whole town each general out watch hair represent others local five firm out market many fish sound girl able human happen pay enter break traditional subject under whatever point industry whole study sit field significant protect large apply organization traditional represent everything us seat issue long leader author yes series very goal expect memory beat executive around arrive land standard want let dinner every structure seem worry size require action middle across none send community of guy how much fly look he arm industry identify window point house we large account especially sport sort foreign happen north state development wear both car turn board west card suffer rest near politics recognize since per level federal perform room country police commercial fight go something perform minute yes would present look recognize worker party north cup arrive against certainly adult project just situation national where focus walk citizen capital religious doctor relationship television court beat blue medical record president administration radio actually pretty education authority decision last step almost TV power boy fall truth reveal part big president across quite join executive positive interview throw attorney throw upon campaign whose subject church effort who score conference direction agent artist price day plant toward able seven body offer worry size relationship reality cover show move senior near section practice free employee back policy southern focus contain example garden PM discussion energy environmental project high rather live foot mother series affect nor official experience job social never range guy song education hospital star approach should bag recent need determine cell more allow thank country true run alone part stuff could campaign",
         "4/12/2023",
         null,
         "Daniel Deleon",
         "Business",
         "real",
         "2023-04-12 00:00:00",
         "2023",
         "4",
         "280"
        ],
        [
         "17348",
         "Boy so manager prevent never performance least.",
         "condition religious system her car effect feeling part conference number race somebody avoid wish pick society why address somebody bad week price back list data wrong fall today lead heavy sort life themselves environment social father person probably day president system base hour much new list road listen usually make small type service trouble six bed any bill author law range vote nearly will music total political owner pull writer spring see claim big follow suggest along most middle ever all last beyond him later set outside century single understand feel black action opportunity nature agent beat occur east plan language political compare writer budget over score family and read her someone hope amount food four relate ability degree eight tend social movement want explain imagine detail forward rate course lay front arrive forward board and any reduce even after likely blue ago parent poor degree will event agreement tree group young body account old assume certainly tonight ready candidate government box sure growth anyone might left look discover movement discussion street very remember her street laugh place necessary person dream everyone describe population job let think hospital partner hundred some help since throw sell country including clear laugh billion rock price expert discussion next include once physical behind line region campaign space official open glass thus wonder can hear laugh six firm generation indicate across away nor believe window fill she cover hear process trial plant accept play base capital test yard",
         "9/2/2022",
         "BBC",
         "Brad Smith",
         "Technology",
         "real",
         "2022-09-02 00:00:00",
         "2022",
         "9",
         "243"
        ],
        [
         "540",
         "Morning deep than former see son thought.",
         "draw these save use ago explain green although else century improve site indicate seven husband customer between technology agent reason civil happy at score agency tree argue herself money over ready when raise young member because bed suggest option international song song occur guess play claim election former wind decide man result sister use south apply as seven compare choice laugh project various even whose range pull reality drop get local practice all main project boy discussion policy store anything but realize firm later claim public report such year color exactly movement set case speech market them affect mother blue media available strategy type moment herself language national join painting or production special project half election occur sport trip kid position it miss population professor glass often hand candidate where lose floor per pay trade hospital play recent news when I central and interesting something foot as against side bad defense walk start network response member face job less pass respond word staff long rate hit shoulder night apply admit her effect culture everything north everyone individual natural analysis gun impact science spend college she others girl record throughout alone design hot born actually prepare senior realize represent father there note clearly list west who town recently section deal near when table reach really police group gun role huge shoulder job medical wall hair seven war appear family man glass place happen training majority reduce table under respond agreement accept mission wear generation arrive wish make television yourself by television page work decide work however discover history range this moment small put several",
         "5/10/2023",
         "Reuters",
         "Emily Rodriguez",
         "Politics",
         "real",
         "2023-05-10 00:00:00",
         "2023",
         "5",
         "263"
        ],
        [
         "648",
         "Fund instead identify color car.",
         "win democratic interesting term budget wall decade campaign simple particularly task material evening professor page enough fund short oil order official guy tax recently item million spend difference either face turn eight team alone can price month some can time short nation mind each front indeed race hard why sure begin maybe house send debate by possible try have memory it natural either career tend trial pay board tough even return future listen peace family throw white baby southern majority fly painting movie especially interest gas season word suggest system boy child magazine show capital song power quite husband medical what but black simple evening candidate us service easy ago single station and set fear ok natural price cover home surface southern him popular change take want eat watch must support task deal stage sit west long factor art day high past air great discuss wrong huge decide effect their decision manager situation action involve group evening know size apply receive paper answer serve other note much five nor guy common fly stop amount it direction attack smile imagine table hour remain various chance probably radio newspaper meeting actually nation in to relationship bag technology few start particularly onto street hope full perhaps and what main husband become blood player start apply animal skill board system seat whether on ask drop agree protect begin design throw produce computer moment its force popular manage bring easy rock need action hotel light notice wife but move management lose source do Democrat some poor bill almost indicate church",
         "2/11/2023",
         "Fox News",
         "Michael Fisher",
         "Sports",
         "fake",
         "2023-02-11 00:00:00",
         "2023",
         "2",
         "255"
        ]
       ],
       "shape": {
        "columns": 11,
        "rows": 5
       }
      },
      "text/html": [
       "<div>\n",
       "<style scoped>\n",
       "    .dataframe tbody tr th:only-of-type {\n",
       "        vertical-align: middle;\n",
       "    }\n",
       "\n",
       "    .dataframe tbody tr th {\n",
       "        vertical-align: top;\n",
       "    }\n",
       "\n",
       "    .dataframe thead th {\n",
       "        text-align: right;\n",
       "    }\n",
       "</style>\n",
       "<table border=\"1\" class=\"dataframe\">\n",
       "  <thead>\n",
       "    <tr style=\"text-align: right;\">\n",
       "      <th></th>\n",
       "      <th>title</th>\n",
       "      <th>text</th>\n",
       "      <th>date</th>\n",
       "      <th>source</th>\n",
       "      <th>author</th>\n",
       "      <th>category</th>\n",
       "      <th>label</th>\n",
       "      <th>date_2</th>\n",
       "      <th>years</th>\n",
       "      <th>months</th>\n",
       "      <th>word_in_text</th>\n",
       "    </tr>\n",
       "  </thead>\n",
       "  <tbody>\n",
       "    <tr>\n",
       "      <th>14566</th>\n",
       "      <td>Well head professor some yet entire matter.</td>\n",
       "      <td>building none family letter gun little stand e...</td>\n",
       "      <td>4/25/2023</td>\n",
       "      <td>NY Times</td>\n",
       "      <td>Daniel Schaefer</td>\n",
       "      <td>Politics</td>\n",
       "      <td>fake</td>\n",
       "      <td>2023-04-25</td>\n",
       "      <td>2023</td>\n",
       "      <td>4</td>\n",
       "      <td>212</td>\n",
       "    </tr>\n",
       "    <tr>\n",
       "      <th>1440</th>\n",
       "      <td>Chance great age involve those.</td>\n",
       "      <td>other remember big detail moment event west pa...</td>\n",
       "      <td>4/12/2023</td>\n",
       "      <td>NaN</td>\n",
       "      <td>Daniel Deleon</td>\n",
       "      <td>Business</td>\n",
       "      <td>real</td>\n",
       "      <td>2023-04-12</td>\n",
       "      <td>2023</td>\n",
       "      <td>4</td>\n",
       "      <td>280</td>\n",
       "    </tr>\n",
       "    <tr>\n",
       "      <th>17348</th>\n",
       "      <td>Boy so manager prevent never performance least.</td>\n",
       "      <td>condition religious system her car effect feel...</td>\n",
       "      <td>9/2/2022</td>\n",
       "      <td>BBC</td>\n",
       "      <td>Brad Smith</td>\n",
       "      <td>Technology</td>\n",
       "      <td>real</td>\n",
       "      <td>2022-09-02</td>\n",
       "      <td>2022</td>\n",
       "      <td>9</td>\n",
       "      <td>243</td>\n",
       "    </tr>\n",
       "    <tr>\n",
       "      <th>540</th>\n",
       "      <td>Morning deep than former see son thought.</td>\n",
       "      <td>draw these save use ago explain green although...</td>\n",
       "      <td>5/10/2023</td>\n",
       "      <td>Reuters</td>\n",
       "      <td>Emily Rodriguez</td>\n",
       "      <td>Politics</td>\n",
       "      <td>real</td>\n",
       "      <td>2023-05-10</td>\n",
       "      <td>2023</td>\n",
       "      <td>5</td>\n",
       "      <td>263</td>\n",
       "    </tr>\n",
       "    <tr>\n",
       "      <th>648</th>\n",
       "      <td>Fund instead identify color car.</td>\n",
       "      <td>win democratic interesting term budget wall de...</td>\n",
       "      <td>2/11/2023</td>\n",
       "      <td>Fox News</td>\n",
       "      <td>Michael Fisher</td>\n",
       "      <td>Sports</td>\n",
       "      <td>fake</td>\n",
       "      <td>2023-02-11</td>\n",
       "      <td>2023</td>\n",
       "      <td>2</td>\n",
       "      <td>255</td>\n",
       "    </tr>\n",
       "  </tbody>\n",
       "</table>\n",
       "</div>"
      ],
      "text/plain": [
       "                                                 title  \\\n",
       "14566      Well head professor some yet entire matter.   \n",
       "1440                   Chance great age involve those.   \n",
       "17348  Boy so manager prevent never performance least.   \n",
       "540          Morning deep than former see son thought.   \n",
       "648                   Fund instead identify color car.   \n",
       "\n",
       "                                                    text       date    source  \\\n",
       "14566  building none family letter gun little stand e...  4/25/2023  NY Times   \n",
       "1440   other remember big detail moment event west pa...  4/12/2023       NaN   \n",
       "17348  condition religious system her car effect feel...   9/2/2022       BBC   \n",
       "540    draw these save use ago explain green although...  5/10/2023   Reuters   \n",
       "648    win democratic interesting term budget wall de...  2/11/2023  Fox News   \n",
       "\n",
       "                author    category label     date_2  years  months  \\\n",
       "14566  Daniel Schaefer    Politics  fake 2023-04-25   2023       4   \n",
       "1440     Daniel Deleon    Business  real 2023-04-12   2023       4   \n",
       "17348       Brad Smith  Technology  real 2022-09-02   2022       9   \n",
       "540    Emily Rodriguez    Politics  real 2023-05-10   2023       5   \n",
       "648     Michael Fisher      Sports  fake 2023-02-11   2023       2   \n",
       "\n",
       "       word_in_text  \n",
       "14566           212  \n",
       "1440            280  \n",
       "17348           243  \n",
       "540             263  \n",
       "648             255  "
      ]
     },
     "execution_count": 24,
     "metadata": {},
     "output_type": "execute_result"
    }
   ],
   "source": [
    "data.sample(5)"
   ]
  },
  {
   "cell_type": "code",
   "execution_count": 25,
   "id": "6d6f27ac",
   "metadata": {},
   "outputs": [],
   "source": [
    "top_words_in_text = data[\"word_in_text\"].value_counts().nsmallest(20)\n",
    "min_words_in_text = data[\"word_in_text\"].value_counts().nlargest(20)"
   ]
  },
  {
   "cell_type": "code",
   "execution_count": 26,
   "id": "7c097293",
   "metadata": {},
   "outputs": [
    {
     "data": {
      "text/plain": [
       "<Axes: ylabel='word_in_text'>"
      ]
     },
     "execution_count": 26,
     "metadata": {},
     "output_type": "execute_result"
    },
    {
     "data": {
      "image/png": "[encoded data removed]",
      "text/plain": [
       "<Figure size 640x480 with 1 Axes>"
      ]
     },
     "metadata": {},
     "output_type": "display_data"
    }
   ],
   "source": [
    "top_words_in_text.plot(kind='barh', color='skyblue')"
   ]
  },
  {
   "cell_type": "code",
   "execution_count": 27,
   "id": "d2e0d904",
   "metadata": {},
   "outputs": [
    {
     "data": {
      "text/plain": [
       "<Axes: ylabel='word_in_text'>"
      ]
     },
     "execution_count": 27,
     "metadata": {},
     "output_type": "execute_result"
    },
    {
     "data": {
      "image/png": "[encoded data removed]",
      "text/plain": [
       "<Figure size 640x480 with 1 Axes>"
      ]
     },
     "metadata": {},
     "output_type": "display_data"
    }
   ],
   "source": [
    "min_words_in_text.plot(kind='barh', color='skyblue')"
   ]
  },
  {
   "cell_type": "code",
   "execution_count": 28,
   "id": "c8b55384",
   "metadata": {},
   "outputs": [
    {
     "name": "stdout",
     "output_type": "stream",
     "text": [
      "200\n",
      "300\n"
     ]
    }
   ],
   "source": [
    "min_word_count=data[\"word_in_text\"].min()\n",
    "max_word_count=data[\"word_in_text\"].max()\n",
    "print(min_word_count)\n",
    "print(max_word_count)"
   ]
  },
  {
   "cell_type": "code",
   "execution_count": 29,
   "id": "0e9f9341",
   "metadata": {},
   "outputs": [
    {
     "data": {
      "application/vnd.microsoft.datawrangler.viewer.v0+json": {
       "columns": [
        {
         "name": "index",
         "rawType": "int64",
         "type": "integer"
        },
        {
         "name": "word_in_text",
         "rawType": "int64",
         "type": "integer"
        }
       ],
       "ref": "87ae4e71-2ad6-4396-8b3b-2c166417d32b",
       "rows": [
        [
         "0",
         "216"
        ],
        [
         "1",
         "238"
        ],
        [
         "2",
         "222"
        ],
        [
         "3",
         "247"
        ],
        [
         "4",
         "215"
        ],
        [
         "5",
         "268"
        ],
        [
         "6",
         "263"
        ],
        [
         "7",
         "258"
        ],
        [
         "8",
         "291"
        ],
        [
         "9",
         "206"
        ],
        [
         "10",
         "219"
        ],
        [
         "11",
         "229"
        ],
        [
         "12",
         "218"
        ],
        [
         "13",
         "265"
        ],
        [
         "14",
         "206"
        ],
        [
         "15",
         "261"
        ],
        [
         "16",
         "262"
        ],
        [
         "17",
         "266"
        ],
        [
         "18",
         "213"
        ],
        [
         "19",
         "295"
        ],
        [
         "20",
         "265"
        ],
        [
         "21",
         "260"
        ],
        [
         "22",
         "278"
        ],
        [
         "23",
         "258"
        ],
        [
         "24",
         "271"
        ],
        [
         "25",
         "273"
        ],
        [
         "26",
         "262"
        ],
        [
         "27",
         "221"
        ],
        [
         "28",
         "221"
        ],
        [
         "29",
         "262"
        ],
        [
         "30",
         "269"
        ],
        [
         "31",
         "265"
        ],
        [
         "32",
         "221"
        ],
        [
         "33",
         "297"
        ],
        [
         "34",
         "276"
        ],
        [
         "35",
         "250"
        ],
        [
         "36",
         "292"
        ],
        [
         "37",
         "226"
        ],
        [
         "38",
         "291"
        ],
        [
         "39",
         "293"
        ],
        [
         "40",
         "206"
        ],
        [
         "41",
         "247"
        ],
        [
         "42",
         "261"
        ],
        [
         "43",
         "247"
        ],
        [
         "44",
         "264"
        ],
        [
         "45",
         "246"
        ],
        [
         "46",
         "236"
        ],
        [
         "47",
         "223"
        ],
        [
         "48",
         "271"
        ],
        [
         "49",
         "242"
        ]
       ],
       "shape": {
        "columns": 1,
        "rows": 20000
       }
      },
      "text/plain": [
       "0        216\n",
       "1        238\n",
       "2        222\n",
       "3        247\n",
       "4        215\n",
       "        ... \n",
       "19995    292\n",
       "19996    258\n",
       "19997    239\n",
       "19998    245\n",
       "19999    222\n",
       "Name: word_in_text, Length: 20000, dtype: int64"
      ]
     },
     "execution_count": 29,
     "metadata": {},
     "output_type": "execute_result"
    }
   ],
   "source": [
    "data.loc[data[\"word_in_text\"].between(200,300), \"word_in_text\"]"
   ]
  },
  {
   "cell_type": "code",
   "execution_count": 30,
   "id": "a2e0e83c",
   "metadata": {},
   "outputs": [
    {
     "data": {
      "text/plain": [
       "Text(0.5, 1.0, 'Count of Real vs Fake per word_in_text')"
      ]
     },
     "execution_count": 30,
     "metadata": {},
     "output_type": "execute_result"
    },
    {
     "data": {
      "image/png": "[encoded data removed]",
      "text/plain": [
       "<Figure size 640x480 with 1 Axes>"
      ]
     },
     "metadata": {},
     "output_type": "display_data"
    }
   ],
   "source": [
    "sns.countplot(data=data, x=\"word_in_text\", hue=\"label\")\n",
    "plt.title(\"Count of Real vs Fake per word_in_text\")"
   ]
  },
  {
   "cell_type": "markdown",
   "id": "584907b5",
   "metadata": {},
   "source": [
    "## (date<years-months> , author , word_in_text) Don't Effect on Label Prediction"
   ]
  },
  {
   "cell_type": "markdown",
   "id": "7d3107fb",
   "metadata": {},
   "source": [
    "# Model insights"
   ]
  },
  {
   "cell_type": "markdown",
   "id": "ba0e2f4a",
   "metadata": {},
   "source": [
    "## Data Spliting"
   ]
  },
  {
   "cell_type": "markdown",
   "id": "50df1cf4",
   "metadata": {},
   "source": [
    "### Business - CNN"
   ]
  },
  {
   "cell_type": "code",
   "execution_count": null,
   "id": "2070befc",
   "metadata": {},
   "outputs": [
    {
     "ename": "NameError",
     "evalue": "name 'data' is not defined",
     "output_type": "error",
     "traceback": [
      "\u001b[31m---------------------------------------------------------------------------\u001b[39m",
      "\u001b[31mNameError\u001b[39m                                 Traceback (most recent call last)",
      "\u001b[36mCell\u001b[39m\u001b[36m \u001b[39m\u001b[32mIn[2]\u001b[39m\u001b[32m, line 1\u001b[39m\n\u001b[32m----> \u001b[39m\u001b[32m1\u001b[39m df = \u001b[43mdata\u001b[49m[(data[\u001b[33m\"\u001b[39m\u001b[33mcategory\u001b[39m\u001b[33m\"\u001b[39m] == \u001b[33m\"\u001b[39m\u001b[33mBusiness\u001b[39m\u001b[33m\"\u001b[39m) & (data[\u001b[33m\"\u001b[39m\u001b[33msource\u001b[39m\u001b[33m\"\u001b[39m] == \u001b[33m\"\u001b[39m\u001b[33mCNN\u001b[39m\u001b[33m\"\u001b[39m)]\n\u001b[32m      2\u001b[39m df[\u001b[33m'\u001b[39m\u001b[33mfull_text\u001b[39m\u001b[33m'\u001b[39m] = df[\u001b[33m'\u001b[39m\u001b[33mtitle\u001b[39m\u001b[33m'\u001b[39m].fillna(\u001b[33m'\u001b[39m\u001b[33m'\u001b[39m) + \u001b[33m'\u001b[39m\u001b[33m \u001b[39m\u001b[33m'\u001b[39m + df[\u001b[33m'\u001b[39m\u001b[33mtext\u001b[39m\u001b[33m'\u001b[39m].fillna(\u001b[33m'\u001b[39m\u001b[33m'\u001b[39m)\n\u001b[32m      3\u001b[39m df\n",
      "\u001b[31mNameError\u001b[39m: name 'data' is not defined"
     ]
    }
   ],
   "source": [
    "df = data[(data[\"category\"] == \"Business\") & (data[\"source\"] == \"CNN\")]\n",
    "df['full_text'] = df['title'].fillna('') + ' ' + df['text'].fillna('')\n",
    "df\n",
    "X = df['full_text']      \n",
    "y = df['label']  \n",
    "X_train, X_test, y_train, y_test = train_test_split(\n",
    "    X, y, test_size=0.1, random_state=42, stratify=y\n",
    ")\n"
   ]
  },
  {
   "cell_type": "markdown",
   "id": "03cd0f06",
   "metadata": {},
   "source": [
    "### CNN - Sport"
   ]
  },
  {
   "cell_type": "code",
   "execution_count": 266,
   "id": "496724f1",
   "metadata": {},
   "outputs": [
    {
     "name": "stderr",
     "output_type": "stream",
     "text": [
      "C:\\Users\\KimoStore\\AppData\\Local\\Temp\\ipykernel_21260\\3185863854.py:2: SettingWithCopyWarning: \n",
      "A value is trying to be set on a copy of a slice from a DataFrame.\n",
      "Try using .loc[row_indexer,col_indexer] = value instead\n",
      "\n",
      "See the caveats in the documentation: https://pandas.pydata.org/pandas-docs/stable/user_guide/indexing.html#returning-a-view-versus-a-copy\n",
      "  df['full_text'] = df['title'].fillna('') + ' ' + df['text'].fillna('')\n"
     ]
    }
   ],
   "source": [
    "df = data[(data[\"category\"] == \"Sports\") & (data[\"source\"] == \"CNN\")]\n",
    "df['full_text'] = df['title'].fillna('') + ' ' + df['text'].fillna('')\n",
    "df\n",
    "X = df['full_text']      \n",
    "y = df['label']  \n",
    "X = df['full_text']      \n",
    "y = df['label']  \n",
    "X_train, X_test, y_train, y_test = train_test_split(\n",
    "    X, y, test_size=0.1, random_state=42, stratify=y\n",
    ")"
   ]
  },
  {
   "cell_type": "markdown",
   "id": "925ff09e",
   "metadata": {},
   "source": [
    "### Science - Daily News"
   ]
  },
  {
   "cell_type": "code",
   "execution_count": 268,
   "id": "ab75face",
   "metadata": {},
   "outputs": [
    {
     "name": "stderr",
     "output_type": "stream",
     "text": [
      "C:\\Users\\KimoStore\\AppData\\Local\\Temp\\ipykernel_21260\\2641314730.py:2: SettingWithCopyWarning: \n",
      "A value is trying to be set on a copy of a slice from a DataFrame.\n",
      "Try using .loc[row_indexer,col_indexer] = value instead\n",
      "\n",
      "See the caveats in the documentation: https://pandas.pydata.org/pandas-docs/stable/user_guide/indexing.html#returning-a-view-versus-a-copy\n",
      "  df['full_text'] = df['title'].fillna('') + ' ' + df['text'].fillna('')\n"
     ]
    }
   ],
   "source": [
    "df = data[(data[\"category\"] == \"Science\") & (data[\"source\"] == \"Daily News\")]\n",
    "df['full_text'] = df['title'].fillna('') + ' ' + df['text'].fillna('')\n",
    "df\n",
    "X = df['full_text']      \n",
    "y = df['label']  \n",
    "X = df['full_text']      \n",
    "y = df['label']  \n",
    "X_train, X_test, y_train, y_test = train_test_split(\n",
    "    X, y, test_size=0.1, random_state=42, stratify=y\n",
    ")\n"
   ]
  },
  {
   "cell_type": "markdown",
   "id": "8d409e8c",
   "metadata": {},
   "source": [
    "### Politics - Reuters"
   ]
  },
  {
   "cell_type": "code",
   "execution_count": 270,
   "id": "9e1fcbf9",
   "metadata": {},
   "outputs": [
    {
     "name": "stderr",
     "output_type": "stream",
     "text": [
      "C:\\Users\\KimoStore\\AppData\\Local\\Temp\\ipykernel_21260\\1995446547.py:2: SettingWithCopyWarning: \n",
      "A value is trying to be set on a copy of a slice from a DataFrame.\n",
      "Try using .loc[row_indexer,col_indexer] = value instead\n",
      "\n",
      "See the caveats in the documentation: https://pandas.pydata.org/pandas-docs/stable/user_guide/indexing.html#returning-a-view-versus-a-copy\n",
      "  df['full_text'] = df['title'].fillna('') + ' ' + df['text'].fillna('')\n"
     ]
    }
   ],
   "source": [
    "df = data[(data[\"category\"] == \"Politics\") & (data[\"source\"] == \"Reuters\")]\n",
    "df['full_text'] = df['title'].fillna('') + ' ' + df['text'].fillna('')\n",
    "df\n",
    "X = df['full_text']      \n",
    "y = df['label']  \n",
    "X = df['full_text']      \n",
    "y = df['label']  \n",
    "X_train, X_test, y_train, y_test = train_test_split(\n",
    "    X, y, test_size=0.1, random_state=42, stratify=y\n",
    ")\n"
   ]
  },
  {
   "cell_type": "markdown",
   "id": "80beba35",
   "metadata": {},
   "source": [
    "## Model with nltk"
   ]
  },
  {
   "cell_type": "code",
   "execution_count": null,
   "id": "b575dde3",
   "metadata": {},
   "outputs": [
    {
     "name": "stderr",
     "output_type": "stream",
     "text": [
      "C:\\Users\\KimoStore\\AppData\\Local\\Temp\\ipykernel_21260\\3455083606.py:36: SettingWithCopyWarning: \n",
      "A value is trying to be set on a copy of a slice from a DataFrame.\n",
      "Try using .loc[row_indexer,col_indexer] = value instead\n",
      "\n",
      "See the caveats in the documentation: https://pandas.pydata.org/pandas-docs/stable/user_guide/indexing.html#returning-a-view-versus-a-copy\n",
      "  df['label'] = df['label'].str.strip().str.lower()\n"
     ]
    },
    {
     "name": "stdout",
     "output_type": "stream",
     "text": [
      "============================================================\n",
      "Best Threshold = 0.082\n",
      "Best Cross-Validated Accuracy = 68.41%\n",
      "Classification Report:\n",
      "              precision    recall  f1-score   support\n",
      "\n",
      "        real       0.66      0.87      0.75       170\n",
      "        fake       0.74      0.45      0.56       137\n",
      "\n",
      "    accuracy                           0.68       307\n",
      "   macro avg       0.70      0.66      0.66       307\n",
      "weighted avg       0.70      0.68      0.67       307\n",
      "\n"
     ]
    },
    {
     "data": {
      "image/png": "[encoded data removed]",
      "text/plain": [
       "<Figure size 500x400 with 2 Axes>"
      ]
     },
     "metadata": {},
     "output_type": "display_data"
    }
   ],
   "source": [
    "import re\n",
    "import numpy as np\n",
    "import pandas as pd\n",
    "from nltk.corpus import stopwords, wordnet\n",
    "from nltk.tokenize import word_tokenize\n",
    "from nltk.stem import WordNetLemmatizer\n",
    "from nltk import pos_tag\n",
    "from sklearn.feature_extraction.text import CountVectorizer\n",
    "from sklearn.ensemble import RandomForestClassifier\n",
    "from sklearn.model_selection import StratifiedKFold\n",
    "from sklearn.metrics import classification_report, confusion_matrix, accuracy_score\n",
    "import seaborn as sns\n",
    "import matplotlib.pyplot as plt\n",
    "from collections import Counter\n",
    "\n",
    "# ================================\n",
    "\n",
    "lemmatizer = WordNetLemmatizer()\n",
    "stop_words = set(stopwords.words(\"english\"))\n",
    "\n",
    "\n",
    "\n",
    "def clean_text(text):\n",
    "    text = str(text).lower()\n",
    "    text = re.sub(r'[^a-z\\s]', '', text)\n",
    "    tokens = word_tokenize(text)\n",
    "    tagged = pos_tag(tokens)\n",
    "    tokens = [\n",
    "    lemmatizer.lemmatize(word) \n",
    "    for word in tokens if word not in stop_words\n",
    "]\n",
    "    return \" \".join(tokens)\n",
    "\n",
    "# ================================\n",
    "\n",
    "df['label'] = df['label'].str.strip().str.lower()\n",
    "train_documents = df['full_text'].apply(clean_text).tolist()\n",
    "labels = df['label'].tolist()\n",
    "y = [1 if label == 'fake' else 0 for label in labels]\n",
    "\n",
    "# ================================\n",
    "\n",
    "vectorizer = CountVectorizer(max_features=5000, ngram_range=(1, 1))\n",
    "X = vectorizer.fit_transform(train_documents) [ 0.004 , 00.442 , ]\n",
    "vocab = vectorizer.get_feature_names_out() -> [ word , i ,am ]\n",
    "X_array = X.toarray()\n",
    "\n",
    "# ================================\n",
    "\n",
    "fake_indices = [i for i, label in enumerate(labels) if label == 'fake'] \n",
    "real_indices = [i for i, label in enumerate(labels) if label == 'real']\n",
    "                                                    340 -> 150 fake  190 real\n",
    "fake_mean = np.mean(X_array[fake_indices], axis=0) \"one\" -> 30 20fake  10real\n",
    "real_mean = np.mean(X_array[real_indices], axis=0)\n",
    "\n",
    "word_scores = fake_mean - real_mean -> 0.004 0.001 -> 0.003\n",
    "\n",
    "df_keywords = pd.DataFrame({\n",
    "    \"word\": vocab,\n",
    "    \"fake_score\": word_scores\n",
    "}).sort_values(by=\"fake_score\", ascending=False)\n",
    "\n",
    "# ================================\n",
    "\n",
    "thresholds = [0.081, 0.082, 0.083, 0.084, 0.085, 0.086, 0.087, 0.088, 0.089, 0.09]\n",
    "k = 12 # \n",
    "kf = StratifiedKFold(n_splits=k, shuffle=True, random_state=42)\n",
    "\n",
    "best_accuracy = -1\n",
    "best_threshold = None\n",
    "best_model = None\n",
    "best_vectorizer = None\n",
    "best_y_pred = None\n",
    "best_y_test = None\n",
    "\n",
    "for threshold in thresholds:\n",
    "    important_words = df_keywords[df_keywords[\"fake_score\"] > threshold][\"word\"].tolist()\n",
    "\n",
    "    if len(important_words) < 5:\n",
    "        continue\n",
    "\n",
    "    vectorizer_filtered = CountVectorizer(vocabulary=important_words)50 word\n",
    "    X_filtered = vectorizer_filtered.fit_transform(train_documents)300 sentect\n",
    "\n",
    "    accuracies = []\n",
    "    all_preds = []\n",
    "    all_trues = []\n",
    "\n",
    "    for train_index, test_index in kf.split(X_filtered, y):320 20\n",
    "        X_train, X_test = X_filtered[train_index], X_filtered[test_index]\n",
    "        y_train = np.array(y)[train_index]\n",
    "        y_test = np.array(y)[test_index]\n",
    "\n",
    "        model = RandomForestClassifier(\n",
    "            class_weight='balanced',\n",
    "            n_estimators=100,\n",
    "            random_state=42,\n",
    "            criterion='entropy'\n",
    "        )\n",
    "        model.fit(X_train, y_train)\n",
    "        y_pred = model.predict(X_test)\n",
    "\n",
    "        acc = accuracy_score(y_test, y_pred)\n",
    "        accuracies.append(acc)[1 2 3 4 ]\n",
    "\n",
    "        all_preds.extend(y_pred)\n",
    "        all_trues.extend(y_test)[ 0.80 , 0.70 ] -> 0.081\n",
    "\n",
    "    avg_acc = np.mean(accuracies)\n",
    "\n",
    "    if avg_acc > best_accuracy:\n",
    "        best_accuracy = avg_acc\n",
    "        best_threshold = threshold\n",
    "        best_model = model\n",
    "        best_vectorizer = vectorizer_filtered\n",
    "        best_y_pred = all_preds\n",
    "        best_y_test = all_trues\n",
    "\n",
    "# ================================\n",
    "\n",
    "print(\"=\" * 60)\n",
    "print(f\"Best Threshold = {best_threshold}\")\n",
    "print(f\"Best Cross-Validated Accuracy = {round(best_accuracy * 100, 2)}%\")\n",
    "print(\"Classification Report:\")\n",
    "print(classification_report(best_y_test, best_y_pred, target_names=[\"real\", \"fake\"]))\n",
    "\n",
    "# ================================\n",
    "\n",
    "cm = confusion_matrix(best_y_test, best_y_pred)\n",
    "plt.figure(figsize=(5, 4))\n",
    "sns.heatmap(cm, annot=True, fmt='d', cmap='Blues',\n",
    "            xticklabels=[\"Real\", \"Fake\"],\n",
    "            yticklabels=[\"Real\", \"Fake\"])\n",
    "plt.title(f\"Confusion Matrix @ Best threshold={best_threshold}\")\n",
    "plt.xlabel(\"Predicted Label\")\n",
    "plt.ylabel(\"True Label\")\n",
    "plt.tight_layout()\n",
    "plt.show()\n"
   ]
  },
  {
   "cell_type": "markdown",
   "id": "a493de73",
   "metadata": {},
   "source": [
    "###### kcv -> 12 (340 instance)\n",
    "\n",
    "###### Random Choices :\n",
    "###### Business - CNN  -> [ Accuracy = 69.97% ]\n",
    "###### CNN - Sport ->     [ Accuracy = 69.39% ]\n",
    "###### Science - Daily News -> [ Accuracy = 69.26% ]\n",
    "###### Politics - Reuters -> [ Accuracy = 68.41% ]"
   ]
  },
  {
   "cell_type": "markdown",
   "id": "4bdf4d8c",
   "metadata": {},
   "source": [
    "## model with spacy"
   ]
  },
  {
   "cell_type": "code",
   "execution_count": null,
   "id": "e127ad6c",
   "metadata": {},
   "outputs": [
    {
     "name": "stderr",
     "output_type": "stream",
     "text": [
      "C:\\Users\\KimoStore\\AppData\\Local\\Temp\\ipykernel_19600\\1482978291.py:32: SettingWithCopyWarning: \n",
      "A value is trying to be set on a copy of a slice from a DataFrame.\n",
      "Try using .loc[row_indexer,col_indexer] = value instead\n",
      "\n",
      "See the caveats in the documentation: https://pandas.pydata.org/pandas-docs/stable/user_guide/indexing.html#returning-a-view-versus-a-copy\n",
      "  df['label'] = df['label'].str.strip().str.lower()\n"
     ]
    },
    {
     "name": "stdout",
     "output_type": "stream",
     "text": [
      "============================================================\n",
      "Best Threshold = 0.084\n",
      "Best Cross-Validated Accuracy = 69.67%\n",
      "Classification Report:\n",
      "              precision    recall  f1-score   support\n",
      "\n",
      "        real       0.66      0.74      0.69       145\n",
      "        fake       0.74      0.66      0.70       165\n",
      "\n",
      "    accuracy                           0.70       310\n",
      "   macro avg       0.70      0.70      0.70       310\n",
      "weighted avg       0.70      0.70      0.70       310\n",
      "\n"
     ]
    },
    {
     "data": {
      "image/png": "[encoded data removed]",
      "text/plain": [
       "<Figure size 500x400 with 2 Axes>"
      ]
     },
     "metadata": {},
     "output_type": "display_data"
    }
   ],
   "source": [
    "import re\n",
    "import numpy as np\n",
    "import pandas as pd\n",
    "import spacy\n",
    "from sklearn.feature_extraction.text import CountVectorizer\n",
    "from sklearn.ensemble import RandomForestClassifier\n",
    "from sklearn.model_selection import StratifiedKFold\n",
    "from sklearn.metrics import classification_report, confusion_matrix, accuracy_score\n",
    "import seaborn as sns\n",
    "import matplotlib.pyplot as plt\n",
    "from collections import Counter\n",
    "\n",
    "# ================================\n",
    "\n",
    "# Load the English pipeline from spaCy\n",
    "nlp = spacy.load(\"en_core_web_sm\", disable=[\"ner\", \"parser\"])  # we only need tagger and lemmatizer\n",
    "\n",
    "def clean_text(text):\n",
    "    text = str(text).lower()\n",
    "    text = re.sub(r'[^a-z\\s]', '', text)  # remove non-letters\n",
    "    doc = nlp(text)\n",
    "\n",
    "    tokens = [\n",
    "        token.lemma_ \n",
    "        for token in doc\n",
    "        if not token.is_stop and token.is_alpha\n",
    "    ]\n",
    "    return \" \".join(tokens)\n",
    "\n",
    "# ================================\n",
    "\n",
    "df['label'] = df['label'].str.strip().str.lower()\n",
    "train_documents = df['full_text'].apply(clean_text).tolist()\n",
    "labels = df['label'].tolist()\n",
    "y = [1 if label == 'fake' else 0 for label in labels]\n",
    "\n",
    "# ================================\n",
    "\n",
    "vectorizer = CountVectorizer(max_features=5000, ngram_range=(1, 1))\n",
    "X = vectorizer.fit_transform(train_documents)\n",
    "vocab = vectorizer.get_feature_names_out()\n",
    "X_array = X.toarray()\n",
    "\n",
    "# ================================\n",
    "\n",
    "fake_indices = [i for i, label in enumerate(labels) if label == 'fake']\n",
    "real_indices = [i for i, label in enumerate(labels) if label == 'real']\n",
    "\n",
    "fake_mean = np.mean(X_array[fake_indices], axis=0)\n",
    "real_mean = np.mean(X_array[real_indices], axis=0)\n",
    "\n",
    "word_scores = fake_mean - real_mean\n",
    "\n",
    "df_keywords = pd.DataFrame({\n",
    "    \"word\": vocab,\n",
    "    \"fake_score\": word_scores\n",
    "}).sort_values(by=\"fake_score\", ascending=False)\n",
    "\n",
    "# ================================\n",
    "\n",
    "thresholds = [0.081, 0.082, 0.083, 0.084, 0.085, 0.086, 0.087, 0.088, 0.089, 0.09]\n",
    "k = 12\n",
    "kf = StratifiedKFold(n_splits=k, shuffle=True, random_state=42)\n",
    "\n",
    "best_accuracy = -1\n",
    "best_threshold = None\n",
    "best_model = None\n",
    "best_vectorizer = None\n",
    "best_y_pred = None\n",
    "best_y_test = None\n",
    "\n",
    "for threshold in thresholds:\n",
    "    important_words = df_keywords[df_keywords[\"fake_score\"] > threshold][\"word\"].tolist()\n",
    "\n",
    "    if len(important_words) < 5:\n",
    "        continue\n",
    "\n",
    "    vectorizer_filtered = CountVectorizer(vocabulary=important_words)\n",
    "    X_filtered = vectorizer_filtered.fit_transform(train_documents)\n",
    "\n",
    "    accuracies = []\n",
    "    all_preds = []\n",
    "    all_trues = []\n",
    "\n",
    "    for train_index, test_index in kf.split(X_filtered, y):\n",
    "        X_train, X_test = X_filtered[train_index], X_filtered[test_index]\n",
    "        y_train = np.array(y)[train_index]\n",
    "        y_test = np.array(y)[test_index]\n",
    "\n",
    "        model = RandomForestClassifier(\n",
    "            class_weight='balanced',\n",
    "            n_estimators=100,\n",
    "            random_state=42,\n",
    "            criterion='entropy'\n",
    "        )\n",
    "        model.fit(X_train, y_train)\n",
    "        y_pred = model.predict(X_test)\n",
    "\n",
    "        acc = accuracy_score(y_test, y_pred)\n",
    "        accuracies.append(acc)\n",
    "\n",
    "        all_preds.extend(y_pred)\n",
    "        all_trues.extend(y_test)\n",
    "\n",
    "    avg_acc = np.mean(accuracies)\n",
    "\n",
    "    if avg_acc > best_accuracy:\n",
    "        best_accuracy = avg_acc\n",
    "        best_threshold = threshold\n",
    "        best_model = model\n",
    "        best_vectorizer = vectorizer_filtered\n",
    "        best_y_pred = all_preds\n",
    "        best_y_test = all_trues\n",
    "\n",
    "# ================================\n",
    "\n",
    "print(\"=\" * 60)\n",
    "print(f\"Best Threshold = {best_threshold}\")\n",
    "print(f\"Best Cross-Validated Accuracy = {round(best_accuracy * 100, 2)}%\")\n",
    "print(\"Classification Report:\")\n",
    "print(classification_report(best_y_test, best_y_pred, target_names=[\"real\", \"fake\"]))\n",
    "\n",
    "# ================================\n",
    "\n",
    "cm = confusion_matrix(best_y_test, best_y_pred)\n",
    "plt.figure(figsize=(5, 4))\n",
    "sns.heatmap(cm, annot=True, fmt='d', cmap='Blues',\n",
    "            xticklabels=[\"Real\", \"Fake\"],\n",
    "            yticklabels=[\"Real\", \"Fake\"])\n",
    "plt.title(f\"Confusion Matrix @ Best threshold={best_threshold}\")\n",
    "plt.xlabel(\"Predicted Label\")\n",
    "plt.ylabel(\"True Label\")\n",
    "plt.tight_layout()\n",
    "plt.show()\n"
   ]
  },
  {
   "cell_type": "markdown",
   "id": "2d21daad",
   "metadata": {},
   "source": [
    "# Full Data Predictor"
   ]
  },
  {
   "cell_type": "markdown",
   "id": "2e685f70",
   "metadata": {},
   "source": [
    "## preprocessing on text"
   ]
  },
  {
   "cell_type": "code",
   "execution_count": null,
   "id": "6470baf0",
   "metadata": {},
   "outputs": [],
   "source": [
    "import spacy\n",
    "import re\n",
    "\n",
    "data['full_text'] = data['title'].fillna('') + ' ' + data['text'].fillna('')\n",
    "nlp = spacy.load(\"en_core_web_sm\", disable=[\"ner\", \"parser\"]) \n",
    "\n",
    "def clean_text(text):\n",
    "        text = str(text).lower()\n",
    "        text = re.sub(r'[^a-z\\s]', '', text) \n",
    "        doc = nlp(text)\n",
    "\n",
    "        tokens = [\n",
    "            token.lemma_ \n",
    "            for token in doc\n",
    "            if not token.is_stop and token.is_alpha\n",
    "        ]\n",
    "        return \" \".join(tokens)\n",
    "\n",
    "data[\"full_text\"]=data[\"full_text\"].apply(clean_text)"
   ]
  },
  {
   "cell_type": "code",
   "execution_count": 8,
   "id": "f3b6177f",
   "metadata": {},
   "outputs": [],
   "source": [
    "data['label'] = data['label'].str.strip().str.lower()\n",
    "data['label'] = data['label'].apply(lambda x: 1 if x == 'fake' else 0)"
   ]
  },
  {
   "cell_type": "code",
   "execution_count": null,
   "id": "2d31aaa6",
   "metadata": {},
   "outputs": [],
   "source": [
    "y = data[\"label\"]\n",
    "\n",
    "X_train, X_test= train_test_split(\n",
    "    data,\n",
    "    test_size=0.1,\n",
    "    stratify=y,\n",
    "    random_state=42\n",
    ")\n"
   ]
  },
  {
   "cell_type": "code",
   "execution_count": 11,
   "id": "e3780ae6",
   "metadata": {},
   "outputs": [
    {
     "data": {
      "application/vnd.microsoft.datawrangler.viewer.v0+json": {
       "columns": [
        {
         "name": "index",
         "rawType": "int64",
         "type": "integer"
        },
        {
         "name": "title",
         "rawType": "object",
         "type": "string"
        },
        {
         "name": "text",
         "rawType": "object",
         "type": "string"
        },
        {
         "name": "date",
         "rawType": "object",
         "type": "string"
        },
        {
         "name": "source",
         "rawType": "object",
         "type": "unknown"
        },
        {
         "name": "author",
         "rawType": "object",
         "type": "unknown"
        },
        {
         "name": "category",
         "rawType": "object",
         "type": "string"
        },
        {
         "name": "label",
         "rawType": "int64",
         "type": "integer"
        }
       ],
       "ref": "aa3cd49d-73f5-4470-b42d-c02143ff3f27",
       "rows": [
        [
         "5554",
         "Voice enter series exactly president kind.",
         "defense land time indeed close left yard challenge a put me night less floor company culture possible hour fine drug opportunity effect someone provide fine than hair appear similar woman family fire wait from tax area most wife try leader focus top letter candidate final his simply peace speech condition early follow break concern your food far total impact eat feel stop how at too few city manage front although year front professional hold yet image budget land reveal company decision image spring move entire shoulder sea institution talk night side theory religious structure agent option option less fly system still either figure return data cover painting quickly least despite still hard sort teach weight new technology make eye program herself far protect sound community hotel court write option grow site eight end bank else out wide shake help capital radio score suggest themselves deep if country give key something car face mention her political thus color notice size road themselves role miss each wife read common strong animal positive public military thing car bad scientist question worry station dream its before reason three act grow put for account clear third service during surface radio than place resource cause attorney everybody identify health carry between play color which long animal artist who best many pattern near opportunity where have process watch song modern still summer phone social art fast real beyond affect seven letter together bag few when return across because which move answer explain represent account energy write college dinner second save western Democrat with increase record tend baby public behind suggest pass run station amount must consumer attention sign quality hand physical opportunity middle computer cost tell him alone possible toward less herself study long partner month heavy already end issue statement",
         "5/14/2023",
         "NY Times",
         "Katherine Vega",
         "Politics",
         "0"
        ],
        [
         "7065",
         "Government across crime important world.",
         "up sound avoid less bad different catch star never too during by stuff technology sound money toward standard purpose while assume old analysis sea relationship type building admit under police bed power popular factor write but teacher indicate sell where rule fly share also receive find serve night care marriage along defense project choose major bit so decide it size part point media so available finish quite reach reflect tonight herself health manage fact action hour author be serve still soldier management church hard role another push state if responsibility example to responsibility significant magazine poor she reason economic major treat hotel get station him popular somebody clear piece identify quality street hard there ever article piece western issue budget clearly kitchen treatment hot write control half career fund example price present accept staff choose talk quite task term onto yeah see hit discover attention recent defense run sure investment federal country word article half no city near claim material factor how again key religious control trip anything determine performance per step air already civil collection role nice among represent investment enough despite with plant act learn car piece dark skill drug management several at side modern right upon leg form respond improve cell since seat serve tell control bad event great save that agency nothing task community firm",
         "6/18/2023",
         "Fox News",
         "Sherry Andrews",
         "Science",
         "1"
        ],
        [
         "2267",
         "Seven board science reduce most benefit music thank.",
         "natural last open room material range camera teacher necessary realize movement word same lose create clear issue nothing just strong mean home marriage music most rule home general television now free decision road travel remember over music sport strategy glass mention I only film keep you analysis class above art level light growth newspaper data she catch executive reason gun show artist would have always improve do fly question deal Mrs another many report half production father save full rest notice white everyone later leg international listen describe anyone form hard and just own sense feeling understand scientist show feeling talk site environment stuff explain minute toward senior wall these various until another hour learn cultural book decade attention rise detail contain article type better apply back good deal wish fall return almost try network bed mind dream matter attack staff listen heavy half issue pressure where paper if its history high radio clear meet list suggest goal plan risk democratic require president discuss up cause process nature factor they experience unit house write doctor play buy word perhaps affect young serve wall campaign around forget soon range either out thank challenge always respond eight pick way economic protect range score always soldier station assume imagine senior use strong enter ahead knowledge front kid all professor art help own bit former affect he mouth will arrive skin dinner participant onto leader opportunity across study relate true benefit specific door either form south baby wait significant effort hope in include enter personal per several clearly mouth great back something whose check team indeed begin stop sign which suggest listen difficult interview mother house nor shoulder investment heavy woman son try issue good firm happy draw might work lot condition suggest",
         "4/5/2024",
         "Daily News",
         "Cody Mccann",
         "Health",
         "1"
        ],
        [
         "18995",
         "High health against staff decade cold.",
         "whose nearly tough wife government how machine without represent trial whose charge professional true up support unit second ball agent happy guess list economic choose wonder yard surface lead guess act charge organization term recent board something then various career professor fine cell enter where happen difficult sister without enter order Mrs rule prove development note beautiful raise together next past place smile without decision deal kitchen and happen next price make animal hotel course property yeah pass only bring month drug pattern some yourself camera recent model do popular garden learn exactly western son several sign song data meet interesting stand middle name five over feel participant experience fight reality pressure information economy simply book land couple agent direction table actually game huge listen reason home north respond religious because avoid huge serve yeah six live it event none responsibility return or degree idea crime view away those left miss feel get activity down arrive former newspaper idea ball might large see hear trip space child machine news generation on role tend read strategy system box I among sit wife identify opportunity than drop statement recently war you letter indicate according impact pattern between whole agent issue authority term nor learn anything network who special and single exactly crime side indeed use really will so allow consumer hotel number growth radio trip stage price guess miss someone group bank consumer wife father soon health important American thought mouth air just activity radio seem",
         "1/30/2025",
         "Fox News",
         "Laura Bennett",
         "Science",
         "0"
        ],
        [
         "10976",
         "Read about member affect according.",
         "population also street imagine morning information last see nation tell face edge from at to project which scientist among into industry fish maintain poor local front all thing police front hear enjoy close nature doctor natural our interview attack sort rise serve message its number leg trial agent low few reality the serious simple as inside key would page current eye not give pressure set lose hold across fight current employee itself medical because such test nor job marriage trip address national free with specific far suffer yeah wife option act player might card daughter billion when agree policy dinner democratic artist local she field serve government enjoy sister sign continue discussion reduce huge road suffer hotel voice account water out yourself over late dream whole drive pass long police hot sell poor sing sea seek system guy consider leader admit himself whom management most certainly idea same campaign cut idea can back tree future you because ground investment different so explain yard local customer within little protect conference draw close become way many free develop seven capital spring again fight foot what similar actually TV build so sport operation radio decision political view rock poor gun as simple sound sound they common something new court begin skin experience affect another thought billion live get agency price listen level pick anyone indicate weight understand page shake usually street film film year under oil whom middle big inside south occur rest site significant consumer approach wide challenge professional effect reflect PM once who break change who among audience eat course tree room officer though yes seat wrong for our ball billion measure certain see",
         "12/23/2023",
         "Reuters",
         "Christopher Conner",
         "Politics",
         "1"
        ],
        [
         "2382",
         "On all hand catch.",
         "every best game stage how movie describe decision say someone statement family stuff son law against set should executive message keep item democratic democratic individual skill station full us truth writer physical understand whom support should similar suggest never theory media both science right candidate may million unit personal action pretty different red affect national let girl ahead any quickly like hand guy politics fine less exist nice pick leader operation they first entire now present final large I care example speech leg behind scene guy wear least score news car ground sound community call central bit factor might owner adult lot head require increase rate training travel American wall particular I another relate rate fast high message dream wall player camera become economic could assume green color site middle take win finish south agent recognize house Mrs coach medical office us sit themselves behavior kid magazine stage image particular anything nation skin green assume owner leader since few soldier item trial truth truth difference adult mean or weight these around soldier her will sea research job spend free you often rate free throw specific drug take compare draw shoulder people whether during task manager or young sort political after relate tonight but form become special throw yourself prove hand none paper seat letter front control join explain method memory program drive drug many former join real politics guess history fire bed politics computer design part next worry believe evening very for responsibility decide analysis class around kitchen century true money yeah go tough fact scene American head least area before much serious participant understand",
         "6/3/2023",
         "Fox News",
         "Brian Thompson",
         "Politics",
         "0"
        ],
        [
         "11687",
         "Candidate share prepare claim smile president.",
         "reflect begin under material claim story open share cup determine allow writer artist than popular law great she media might bank trip then him past notice TV article health public for computer wish identify first point worker everyone high beautiful that wrong officer maintain toward what no billion few various stage husband stage board enter campaign late catch fly hotel system sort ready win four wear democratic sound really question hear hour response your management available instead reflect kind plan nor ever man require step run also blood garden nice meeting entire best only head increase not message boy reality past health arrive save part area either today contain soldier method they table that serve put study suggest time throughout certain reduce return down determine people bring want public night fish attention institution as station send two instead defense stand full activity head food letter short agency during behavior first mind near beautiful they series address section security anyone simply heart since represent serious tree off debate low own another be already southern usually avoid stuff window have fish move share test collection bar community together our feeling practice who stock person discuss north show increase measure federal though any whatever find moment staff my myself husband lose after surface enter wear executive because around after firm rate still where laugh usually seek first health take test person here day cultural key else community today although lot character arm bag lay friend call participant all than do already onto view treatment artist newspaper experience surface guy what Democrat provide material just turn usually decade to window possible nice or bring improve best itself many method sometimes change international physical try choice through opportunity",
         "9/27/2024",
         "The Guardian",
         "Jared Deleon",
         "Technology",
         "1"
        ],
        [
         "3059",
         "American decision peace race.",
         "enter contain clearly increase great character college public author sea close well agency this then lose artist artist town able single interesting task war event activity suffer rich pay bit stage wear foreign skin kind word value fly commercial bring rest heavy reason program future sense such significant guy professional try TV build born accept small plan husband authority word article large bad opportunity apply whatever box magazine want approach rock establish certainly to surface know benefit exactly lead success exactly president how at democratic instead national out along decision care check two point computer lose science life population magazine least oil shake someone think lawyer yeah chair sort painting child we story run question entire perform ball mind six best film stay growth play buy meet least research crime throw open great specific fall wonder where answer wear kitchen hour clearly standard ever off size all course way good positive especially defense military nothing receive although mouth attorney deep pick law tell finish national respond coach local shoulder building ground everyone either officer security gun point bill born daughter home three true political attention vote community quickly create world season certain I eight yes personal situation choice good forget former court truth understand fear election blue foot reveal meeting require read term to myself art question every feeling throughout adult board present point follow bill add item early bad bad heavy develop may the detail director individual occur five table job loss serious expert bag animal analysis thought address agent throughout suddenly want five south travel tell our",
         "6/2/2023",
         "BBC",
         "Chelsea Paul",
         "Business",
         "0"
        ],
        [
         "13575",
         "Fear spring process laugh race.",
         "when budget during past city become product third attention interesting person with federal write Mrs material paper until professional reduce important condition participant address early why rather spend agency easy score across we tree administration show central responsibility positive grow list third pull five yard find support case collection small because relate deal from figure raise ok check also across company business floor positive Republican organization tax huge civil anything star today it ever usually culture just father charge impact smile manage fly soon buy century song outside middle simply decide program read capital detail respond him three anyone word them represent recognize think follow population mission consumer consider option market change way attorney these forward class wall often medical trade reason close attention reduce century matter success future card concern total purpose quickly financial and leg move especially maybe interest cover key girl pretty government effort establish cell police exactly mother partner call impact form couple mention rest care reason knowledge born past rise gas report require back hit others low trial loss long step hand while price meet sense simply seat herself far cell commercial result free effort you not reduce mission board billion near sit nothing fact eye laugh care last right chair social summer minute sell body study body pass would scene senior political hold score it opportunity place meeting theory direction notice point serve weight change maybe action energy teach garden we carry audience receive dinner financial race night statement set style center war recently investment him doctor develop test walk offer decide capital wait almost street kitchen blood receive full action season project plant ask there necessary operation weight see before western put down without sure material adult else cultural day itself despite offer doctor letter space song medical recently guess behind",
         "7/16/2023",
         "Reuters",
         "Jeanne Vargas",
         "Entertainment",
         "0"
        ],
        [
         "12464",
         "Station commercial toward mean senior prevent true.",
         "practice order must summer smile strategy through above safe dinner deep usually thank teach price clearly often spend they customer moment understand common west southern see reflect either see commercial station southern from writer them agreement debate record pass former every instead time beat around middle improve during no machine run stage stand drive she news its listen big tax sing include family his natural glass side director institution every small build drop talk defense despite raise among professional major system goal main speech official often society describe church direction would oil fact save test drop stand collection recent pattern air third alone civil Mr east avoid front want home you writer you impact teacher direction technology system last series how phone others you recognize particularly record degree subject behind work many administration member western television manager administration know product building happy suggest speech say manage coach true any Republican water site simple worry summer rich she challenge appear condition often wear support reach nice back family inside meeting not writer whose note note finally mention he wall whom important price yet present administration camera reveal kitchen road win professor step maintain increase wide too increase involve same business choose material safe friend however lay figure and group Democrat once allow girl word capital strong over top seek though",
         "7/24/2024",
         "Reuters",
         "Raymond Bishop",
         "Politics",
         "1"
        ],
        [
         "11682",
         "Get pattern hear couple.",
         "huge significant boy share group modern worry more career identify finish table road school statement do now hear perhaps property particularly these perform detail south character simply soldier happen suffer magazine consumer term stock knowledge window whatever ball tough according evening from stage by both already mission know raise service political enter water they always large who the pretty run have than month behavior need fast level certain itself nor open wife although there major career place hot close drug someone compare affect beyond improve for until myself apply hot understand difference memory senior appear medical our use last technology figure sort hour base notice nice seven take Mr adult big second finally lay sense make very whole weight seat who long these value hold partner unit social wish worker tonight above tend movie where number couple religious evening little second person officer company end enough product nice him teacher child will point citizen price lay can relate election television information should military throughout head group scientist board drive perform challenge thing wish maintain television yet country do alone rather build woman now travel mother social court southern natural include movie recently recent realize western election dinner trouble shoulder board movement including no cost or still try meet discover hotel what television defense occur management blue its carry west late form stand nearly expect hard movement service word authority including model trip blood six eight son police manager manage important situation letter child able prove condition no fish stuff job analysis local skill song human win care affect degree hot message moment seem during trade produce debate lawyer agency table unit skill moment campaign measure person book political smile alone every author trip travel radio who officer full which forget blood fast pattern",
         "2/21/2024",
         "CNN",
         "Jeffrey Miller",
         "Politics",
         "1"
        ],
        [
         "12527",
         "Such onto well different item.",
         "why chance remember agent forget along consumer sell writer brother performance method mean role right serve must hear vote old wall administration manage occur senior on cup happen clearly same wonder issue stock statement blood meeting car must particularly note off song crime nothing floor person that others decide than hear feeling week grow onto reach enjoy so positive PM friend job reveal standard me several push me man fly agree ability big full quickly child whether reach production nation Democrat option which certainly interest child yet only if enjoy task picture method talk speak production carry yard watch exactly design whole itself may add wrong American eye right food character animal little baby statement morning table seat network store single morning network arm east wear better official citizen alone anything per information toward there believe argue industry throughout be cost many hope similar would born south job expect important room result seat for result recently third fear real how go very mother special whole sure ball alone evidence indicate determine mind economic much field ten impact large among choose police her agreement amount answer call across describe you station interesting indicate middle somebody put clearly necessary view company coach majority expect author might you focus receive stop politics thing spring new mother hair mother particular miss determine about new discussion south meet feel work interesting this cup do moment read method property edge term wind teacher expect series black movie hair seven kitchen old nor capital present deal bag floor home black parent anything add employee everything agree drive buy option our assume fall more phone stock instead international cover policy magazine for strategy this a leader key appear range ever material seven successful value change feeling talk various hope education",
         "6/17/2023",
         null,
         "Gerald Warner",
         "Health",
         "1"
        ],
        [
         "10954",
         "Identify space nature far.",
         "baby apply maintain such them buy admit study PM type program economic job school act through couple finish teach she bit debate man strong four teach woman official turn address structure while read station true amount gas meet late argue firm language give throw billion product lead want key around magazine quickly explain school school hear Republican yourself research field author environmental technology natural point record thing model mother amount minute born forward recognize study stage meet well admit east cup large hundred impact politics personal learn far at thank recently middle need plant support skill political radio little individual glass summer feel deal feel term show billion practice act cell arm hospital event author what third guy reveal rule light actually form purpose ago sister fine hard rise hard he their last three new security foot number anything onto stop everyone forget trip question major list according whom minute southern TV analysis try office skill notice nor seem person eight garden general stuff prove another offer school option great prevent remember special staff walk tree family director together instead miss training cup fill main admit but manager there foreign administration drug since beyond long stop south policy create miss them region past book parent place five thing country expert election common color address test six may Congress standard others weight truth artist us sometimes blood almost future manage side though radio financial game room moment common common issue usually Republican value quickly should decision toward information charge into painting wonder quite fund mean time seek or successful whom apply forward military bring blood there window type safe expert Congress total reduce future you sort whatever structure drive him interesting law pattern particularly which whose gas safe school long by pretty",
         "6/19/2024",
         "Fox News",
         "Jason Meyer",
         "Technology",
         "1"
        ],
        [
         "14772",
         "Space he cause.",
         "song whatever factor common better assume indicate her money action able discussion measure surface maintain among station everything hit month stand perhaps move situation full say central sing surface member speech break pull avoid deal be forget role star personal ever sport image Democrat show behind myself boy offer of red not professor source perform money food night on idea serve put tell financial forward among source day room buy arm too beautiful set man challenge crime minute surface western candidate control represent reason reason of he relate crime the power cup pay level make road side talk sometimes where floor movie race film job smile short hold allow design start just event single score upon near culture player while along final seat official sometimes one clearly rather system heavy single provide common carry address population audience unit safe capital including performance card option order consumer deep population a goal total reflect interest western stage inside student war baby yes finish PM language conference all green training several her but attack store type bag scene international little sport early daughter enter concern rather when loss staff order support listen machine daughter contain education skin order car individual reality man partner democratic during run particularly use trial nation reason win care season sort dog weight show democratic model top together late relationship bit nothing join situation politics debate national there my medical senior debate strategy relate without financial beat speech pretty learn remember but friend study become employee something operation big increase father under music remember movie wonder star art capital we next man play go bad arrive idea exist yet man now within company somebody though physical teach relationship similar mouth similar war answer billion",
         "6/27/2022",
         null,
         "Robert Miles",
         "Science",
         "0"
        ],
        [
         "439",
         "Policy specific both something happen.",
         "still page response future start lawyer relationship behind international street process man send begin reality seek here rest guy he into own behind interesting everyone southern nearly action give police though manage effort degree blood item along reveal station picture hair study land continue probably the wonder special country deal give approach product social she case feeling only work add nothing son oil window pretty crime sell fast term writer well arrive important bill interest but leave particularly others argue consumer way should trip late story theory discover from author TV let likely north open by take explain than financial cut chair marriage table recognize anyone around campaign century other four dream card population participant dream woman tell word father wall field again imagine use image us future debate site deal compare sell address foreign drive account job lose safe really military example myself one bed common easy bring meeting shake treat minute question dark approach dark far possible current TV just will protect since challenge management baby research play simple black fly billion process between able interview yes price they current run religious trouble since office away probably head but would especially energy trouble various style western six thing attention mission sit material task week only challenge brother last walk include long letter because explain nature television important president bill keep poor probably some real carry federal today stage mean entire campaign example end author fight meet benefit state movie drop similar value notice spring yet show design human model step activity including factor her cultural may tend else lose main cut coach far identify next movie provide serve ever why pretty party she start area man recently seek fast large local maybe enjoy put water little before boy best case study nation probably wrong nature subject",
         "12/5/2022",
         "Fox News",
         "Mark Daniels",
         "Business",
         "0"
        ],
        [
         "11596",
         "Street behavior respond room.",
         "particularly several talk eat pretty focus wait leader into second provide subject product seek young probably build staff none who eat clearly bad spend standard morning year he understand term develop her wear become defense financial especially son save nothing church throughout he summer however if tend media purpose collection kind child their seven age know significant same free small site moment beyond similar clear military game western thing law mother similar instead indeed direction since marriage go range local model thus institution by whether lawyer north since near someone appear class feel bar help society everyone senior offer onto wait yard necessary artist girl around decide issue author thing trade onto like common true could no fish least onto task yourself half strategy people any late party seven skin environmental event system behavior goal total moment actually positive build event now make call add husband water building increase customer star free lot particularly from approach meeting suggest five point our college measure bag once western turn race share tree ask start walk authority statement positive source commercial water hundred price surface risk mention support deep stand commercial seven effect serve across husband mention head explain point lawyer per knowledge exist executive address including dinner who itself run when plan much industry future language economy high general major writer long decision ability mind write even doctor main appear mean democratic age prepare public consider pay throw nor catch employee pay real since form risk stop office account room lay business be fish",
         "8/23/2024",
         "BBC",
         "Crystal Norris",
         "Entertainment",
         "0"
        ],
        [
         "17482",
         "Against house important grow top impact within.",
         "democratic card explain ten morning realize include work to nearly woman fill statement color environment own black draw peace fire who most him identify spring teacher newspaper just attention science art follow alone make become wrong land with within everything must kid know against science but degree stock not research knowledge however their class mouth whatever record particularly different again future major message personal area everyone leg however relate term dog group past wide field dark common try long live which way blue wonder entire ok history reveal individual all debate debate with onto save determine those blood camera site training where throughout discover participant list during face control conference hour performance medical get standard try third guess newspaper like seat western then chair they soon certain report throw yet economy provide let first get issue interesting door letter indeed ten it truth fall machine money much physical pass Democrat professional difference tonight cost build unit sound something summer eat attorney book television real certain improve each west easy least thing these feeling begin sit see during important PM identify certainly involve you mention sell social pretty office ask mouth whole response so enough clearly top before wall this each plan Mr lay school wish movement could sign hour debate send decide clearly between type chance nice mention hold explain listen use personal herself clear century daughter despite blood region bank rise back improve option",
         "7/29/2022",
         "BBC",
         "Mr. Carl Cruz",
         "Sports",
         "1"
        ],
        [
         "4907",
         "Successful source including movement.",
         "full she American blue room surface indicate push up method hope drive around more feeling it time college though direction end firm growth source its kind apply body everything painting eight size unit public TV thousand ok anything service bring beautiful perform former agree consumer business couple another need long economic admit job brother than similar finish class manage free president effort list nothing indicate stock treatment letter history article community increase science pressure push kind relationship dog wear war truth reduce bar marriage need six successful seven know dinner suddenly produce four water center director from prove blood start blue threat daughter care action general establish war you wear talk field talk difficult feeling college area citizen sometimes determine attention notice never to pick tend happen professional during war condition upon growth less find skin staff child economic land father keep commercial part yeah position ever program public last four particularly truth loss tell truth before recently also usually sometimes physical mouth main different resource board must effort agreement run future attorney happen agent shoulder leader pretty important certain design cell force something feeling himself rest success nice address determine lead natural stand threat account fall start figure follow simply million well detail eye finish three if respond wear as official leg force cost blue become window real way Mrs tonight buy threat sit future line answer great democratic eye trade remember meeting many involve head century deep eight miss project sport least call source way people within memory three tax dinner environment paper reveal school develop generation nor lot between hot maintain fight charge management address if sort house detail",
         "9/28/2024",
         "BBC",
         "Daniel Newton",
         "Politics",
         "0"
        ],
        [
         "13601",
         "Four official general best.",
         "cup most according participant possible country order arm can service employee almost food important country cell answer mother cover law week plant field Republican garden authority still result son trouble now go both air court pattern stand industry wait area service understand poor time top sure smile from clearly move wrong stay once point put between time truth it fire owner sport step very room cut thus late star work through religious election before newspaper age their wonder kitchen morning dream woman read former edge quickly give information bag size of view eat office environment down fine fight training lead bank though forget source special perhaps accept four fly drug break play central each answer wide provide and law former expect whole thousand performance main yet line would student how whom long order real part decision have reveal brother public three option significant any trade partner program option yourself yourself value force happy trial difficult once doctor smile ok government walk environment month important political again ahead manager ok but social upon poor drug both appear yeah weight billion third key a provide whom different girl sell Republican site movement doctor speech Mr theory simply religious soldier wind product actually pay do and improve quite off rise nothing attack beautiful foot trade least trade trip successful gas continue appear sure vote happen along gas move better relate sound present young program ground exist into them form its onto service leg include protect national receive production here purpose forget strategy since staff television prove nearly have most into religious certainly wear deal it speak white several game senior third whole need ground difficult difference enjoy never ask accept wind gun interesting",
         "7/11/2024",
         "The Guardian",
         "Rebecca Huynh",
         "Technology",
         "0"
        ],
        [
         "18233",
         "But spend town ask military at himself.",
         "yard drop president skin commercial image level common without drive apply necessary interest action company listen really with street child specific tree structure thing understand wrong exist strategy watch small hope bit fall base natural authority property moment stand change probably source you campaign finally name else cause factor list town TV help today tough citizen seek officer down discover leg price organization PM can peace evening nearly pay sport thing citizen despite seat reduce program want enter indicate food through case people him part hand office experience cultural our music land affect day lawyer every stock gas thing rule then seven animal environmental write reveal sister some skin risk consider political show he mean option mission under ground trouble let once simple picture do than eye list again to through leave myself game step claim few candidate group often however sign assume bank current create city station relate company respond every leader professor play its career federal ground role PM morning shake remain against carry simply finish believe wear measure foreign they stop but else important together whom could nation view own particularly case figure reflect sit area leave letter reason hold property pull economy good place article car wall wrong sell think white PM must set film common available whom ten amount across him his democratic option suggest full little ok dark mouth",
         "3/5/2025",
         "Global Times",
         "Catherine Hernandez MD",
         "Science",
         "0"
        ],
        [
         "1662",
         "Southern government color attack.",
         "prevent lay practice grow them well eight break expert her hit huge degree week audience size so us industry establish than movie for task store brother provide exist her couple our whatever care shoulder or consumer relate note enjoy enjoy yard fall product those politics forward among by thus less watch present true by church deep conference federal number expect article plan anything government discuss interesting never present interest baby spring out when miss most citizen clearly usually hot military ground big world city hand each control reach result Democrat cultural travel cold win program often later important black mother her another hour decide such city trial along participant everybody thank trade before standard bank difference paper walk project notice young institution weight seem future picture exist something exactly popular smile position run machine big knowledge paper sign public control significant then cause later city church cultural window stand nearly set address clear even this box consumer address require office collection man east three call operation man under early article cultural option day painting system source college analysis sure water do yet decade every about space hundred dream later finally former firm high range him shoulder big week listen involve loss home method parent manager say me quite entire edge stay always somebody authority bank major stand open movie up admit country relationship such sure up visit design message much half their determine official ever better bar instead market conference above organization company official security way threat image teach car on where young late democratic seven whom value drop treat major manage break table since full matter though law worker there author save former before near wonder name shake start me section event walk light despite little radio specific because investment",
         "11/17/2024",
         "The Guardian",
         "Linda Myers",
         "Business",
         "0"
        ],
        [
         "10062",
         "Bring election ten present blue discover war.",
         "oil create make which movement sport player total record young real close subject to knowledge as result training without but if garden model beat treat also up force dinner want age manage democratic part fall store deal majority follow far always economic player late already appear western film majority so story answer myself election good arrive keep word skill page itself three customer off sometimes study stop strategy spend choice listen condition music bar leader person term beautiful although street front standard process natural water decide human party for never social above series person owner floor customer leg condition church with establish window board religious standard public company discuss name step accept air group themselves foot lead partner firm far I who notice economic he week save million her middle member entire cut about training discover someone dream receive machine free window quickly huge call yes beautiful example call resource town week else direction performance treatment season five throughout big almost color policy wear summer floor focus majority world give he I develop type must form western red young particularly maybe front read item culture message subject meeting quickly view despite authority field when culture his successful attack relate pay others too smile form social south should cold movie establish lay make serve develop make apply",
         "6/25/2023",
         "Global Times",
         "Amber Clark",
         "Business",
         "1"
        ],
        [
         "4649",
         "Maybe land stop item citizen give.",
         "require decide treatment man administration minute job take between happen stock kitchen too article never agree agent body environmental store total blood inside degree law local much according admit knowledge black return to note office everything raise understand public fight spend change impact clearly professor religious also management strategy upon various will name capital big trial amount foot life feeling about way debate little born fund mean tonight Congress radio doctor many former actually toward often increase none good capital significant red campaign two sure shoulder action book fast animal carry outside amount fish not head specific situation radio federal certain know all collection it toward group hundred north amount white religious majority break address no discuss cold soon me visit member sort front picture executive space wish style before gun method opportunity your area structure them commercial capital source son that long matter surface structure argue understand explain above eye character entire themselves young out talk foreign community task chance wait apply high color finish in no cause several herself crime too mention move financial body green imagine walk service too ago radio material sister expert human everyone position less mind red spring television stop wrong Mrs official information set president by mention new middle it contain customer do small medical president reduce agreement serve suggest ok beyond measure name wife central how day book suggest old run minute part decide or worker step state between teacher process blue effect too bed huge take enough six determine machine contain heart let fall operation church when interview late blood evidence loss beat near true eight laugh charge most politics once have front picture various major fish address do blood want",
         "8/19/2022",
         "NY Times",
         "Kathy Estrada",
         "Sports",
         "0"
        ],
        [
         "14945",
         "Major share but sometimes front site.",
         "name return assume thousand treatment law who real hundred final week law many whole product near hundred quickly plant score among treatment happen up these beyond positive pretty election thought enough newspaper off state feeling clearly social despite big rule rather environment ground realize hear thank work Republican quickly board theory how weight get which box sea wife she produce kind explain citizen stuff national someone natural hot thought Democrat beat but enough various next get game popular result continue television effect bed magazine recent bar with hotel check memory direction face recognize traditional himself president nature kid pick pattern who both inside bank interview example fish decade ability approach movement east interview agree brother power cup both may generation force personal within coach oil reason and laugh especially north compare between social ball range score character blood enjoy general condition animal up mention help value future live again show stuff question put who once add fish language message value order walk check thus inside decision catch miss idea yet word computer hospital industry community realize policy expert break much safe town bill bar detail month serious best consider positive reflect audience receive provide difference approach arm key among during Mrs concern home mother three walk point country dark focus sound weight now camera his early party almost education discuss miss south federal few move fact hit stuff guess standard one member well stage take lose industry send receive challenge guy woman hospital against yourself evidence call arrive operation dog but officer these",
         "2/15/2023",
         "The Guardian",
         "Shelley Howell",
         "Science",
         "0"
        ],
        [
         "12458",
         "Choice agent same main strategy.",
         "what modern spend future magazine too marriage draw several letter science might wait director sister decision impact hear final exactly room some reach black may apply federal hotel increase national create accept people protect us white service writer level because century part guess after exist second foreign address at huge least where arm left modern the property street most important for nice reveal report small live thus behavior finish stop resource start task account page lose born shake rock key here more book behavior great ahead speech even I million two little foot real enough choose free free difference develop TV teacher find travel quite same animal son evidence job involve senior section push Mr lot situation almost safe the seem at account paper year situation lead near check month she by front choose least east ability professor central behavior again conference grow agency century explain without responsibility third material civil number factor run accept agency I worker practice only very policy seek thank own event total up try compare your wall manager one those democratic wife trial space picture sense someone improve name once somebody moment such however door dark member sense ready hit pass know just rise life themselves artist old determine take sing have there hour early since region future likely case perhaps bag last find apply side writer leader next keep event inside share three any base against thus matter standard your situation in direction receive enough center seem whose risk conference final opportunity woman already generation reach once day reason indicate provide training respond direction east night low more increase child friend develop modern",
         "4/9/2024",
         "BBC",
         "Alex Kim",
         "Science",
         "1"
        ],
        [
         "7196",
         "Thousand case candidate decide time choose no what.",
         "design toward which thought per baby amount treatment section plan office our role picture couple market near term grow three front Republican difference capital shake yeah official position evening likely herself whose chair foot plant at wonder receive travel note candidate institution process place on performance house news none smile special campaign lay policy man protect artist second mouth social use effect old let four cut who because thing huge become need per pretty board four somebody listen present decade situation data reason somebody sea modern media order other interesting loss threat something increase trial particularly news hour head like third but seek above customer level set yard structure film student decade central scene during TV consumer around four history read government Mr feeling because age listen she strategy task leader who dog four its rate hear the big service parent civil peace morning sport radio new result often call election serve energy instead stay share always fall civil himself rule walk lay before eight kitchen east letter option store campaign how miss speak shake put various move skill wind carry have general environment husband want health whom way art method action first develop box stand world even certainly perform decision eight discuss over analysis present issue also something far high piece sell action move across son design their voice ball book others myself feeling loss might these before student expect as avoid",
         "2/5/2024",
         null,
         "Shelly Johnson",
         "Health",
         "1"
        ],
        [
         "14014",
         "Rather there but this his.",
         "difficult six first medical realize how local deal full effort now address former commercial free soldier great book dinner federal listen focus might box expect rate very item college week must provide represent under wait kind cold someone improve mission local clear if PM recently imagine she single message key cup run hair something number article yourself huge how station real former field current ready community hundred low law world manager majority inside idea age evening enough thing determine cause quickly common paper raise crime agent not find again letter image whether risk someone research simply work perhaps citizen energy place admit life series significant seat actually letter one growth south inside story again total together physical many feeling next quite town them at pull green music road consumer door relate yet city old similar lot choose later inside act thousand with consumer increase activity discover ten coach raise toward show consumer save make over often hard life require for animal practice perhaps material skin condition remain understand add whatever into administration final feel drive case site difference population large western participant space eight bill must individual find after difficult mission across instead know image conference reveal wonder house between simple receive see goal nothing nature various guy night interesting history born beautiful nice center plan skin physical prevent partner future both true whole meeting establish light wait",
         "4/30/2022",
         "NY Times",
         "Duane Sloan",
         "Sports",
         "0"
        ],
        [
         "15426",
         "Sister building discussion risk role middle task.",
         "meet development paper police level section enough place go source also accept total state discuss art article scientist you financial number anything technology a start actually prevent same usually authority feeling it common stage behind actually behavior effort society truth allow food land table lawyer message rich individual recognize answer teach act court civil real power work very make upon spend manage street last tough less you alone tree here body source seem class since region truth class rise drug realize and phone during world team spring first necessary catch feeling often arrive quality product join leader tree onto one Congress pressure record drive relationship class individual process heavy book create factor general seem method great song event drive fact only listen personal drive perform heavy coach involve science serious reality lot glass time discuss any store wonder serve Congress education up anything position office whether factor whole husband store enter off doctor technology technology price standard view run soon imagine wrong own car field movie might nice size begin computer upon attention learn form stay probably space future sure rich quite bad become standard Democrat outside behavior eat task consider because article work middle mind herself region best past their these each whatever difference my mind among where discussion compare particular college create call game interesting bag main old development hair idea race successful join sister where page test at put fall treat serious determine nothing somebody which out position safe quite seek ability capital site determine rock by child remain again through sure fish you TV young use new course maybe far environmental group send will eight significant score area source stuff cover personal may free whole throw within likely series method let executive should energy",
         "8/3/2024",
         "NY Times",
         "Katherine Bush",
         "Health",
         "1"
        ],
        [
         "8180",
         "Story particular service direction.",
         "show nor suggest much interesting born claim first fear forward point picture approach rate blood movement area task sport movie answer light ten new street deep sell age suddenly study not threat imagine particularly my building politics public city president decision because attention service factor whether nation age amount claim happen very anyone could try sing add situation professor yet foot race degree early financial information order me might collection inside son quickly strong pick they of hope including risk computer poor sea director key entire dream hundred matter worry but get investment participant within different trouble development black fund mention tax with account focus official thus parent crime environmental catch which subject year reach again pick require include accept law become voice letter politics shoulder position lawyer art nature hotel attack box thing probably be radio well us eight tree morning pattern threat high produce generation account edge might charge home avoid late including information science determine boy value relationship culture suddenly blue coach simple about state top wish boy only training still short minute miss plant type couple clearly believe administration let believe power senior strategy who author really billion have sit night evening door environmental into attorney across now network act hour bag never term road indicate radio admit discover one require rise reason thing garden tonight coach section worker always research summer material year outside officer second nor such family Republican its yet enter development role everyone stay whether tough case official hand address instead local country training over thought fear month region hard drop",
         "12/9/2024",
         "The Guardian",
         "Joseph Mahoney",
         "Business",
         "1"
        ],
        [
         "12866",
         "Trouble could something ok president.",
         "free office require water make court west foreign performance out later necessary career find talk industry article local much sing theory citizen crime determine station a reflect exactly loss future particular executive near western fine west conference race foot clearly ball network now environmental certainly thousand compare town step either red room produce nothing radio create drop mission here actually quite look yourself base their age phone air student south kid service themselves possible project result information hair concern return enough also against probably house trouble eat new hotel argue imagine increase indeed despite still end month election ball short edge people call worry beautiful Mr best mother understand investment particularly contain hard along from fire fine result five consumer ball respond believe method discuss force your forward effect listen whole American include ten focus cup add speak who sea not see bit company economic easy language party particularly if people physical everyone fund finally establish clearly fly enjoy traditional sell case enjoy best pressure drop attorney start executive run for should candidate left such foreign side science over Democrat box provide minute inside million somebody simply usually true sometimes act help drug material thank brother know market fine high control final hold mission manager people any such direction various magazine create important spring if parent design impact",
         "3/5/2023",
         "Reuters",
         "Heather Krause",
         "Health",
         "0"
        ],
        [
         "1179",
         "Ready card big various.",
         "leave address else hotel his again red worker more recently he their bed the return consumer short item change skin until arrive beautiful number support network subject power themselves north how miss result stuff hospital threat believe memory understand strong wind argue put too can tonight guy writer child beautiful four since prepare majority better military create rather national medical carry yourself brother between price like hear possible network officer treat development according side activity modern support side language ground simply present media back adult go cost direction site strong really reduce few ok most above interview record gas quickly chair wait sense get listen employee fact whether major him real smile still father wind south go child no notice design affect find race throw yard reality white writer quite require great here moment month me baby list to me wide increase yes figure heavy full fund know case threat establish daughter our size parent nor energy mother hour manage store me Congress of expect determine set option prevent major chance through right water bill clear center treatment cultural quickly gun per education indeed government benefit identify kid should participant outside carry call maybe allow once next charge magazine skin end north new clear information nation along but call study approach blue keep first morning treatment think item fast magazine establish receive himself consider executive smile test story kitchen book college student kitchen admit born civil out student always instead collection hear economy stand beyond effect best small tonight drive activity community size sound drop outside idea say quickly social leave technology notice different later game side hit very others kitchen easy above relate have establish religious card add suddenly force myself how send all every understand financial game region kid term policy",
         "8/20/2022",
         "BBC",
         "Morgan Allison",
         "Business",
         "1"
        ],
        [
         "12900",
         "Similar what sit small quality right project quality.",
         "good thing story wonder thousand firm rock PM simple go democratic tough friend between military door quickly once will still of despite capital Democrat might man daughter majority show best year attack us cost relationship room price decision inside mean admit ahead us traditional federal all large open recent police red compare president usually however go consumer cut mention discuss develop cut natural consider skill either administration industry peace sometimes everything eat environment ever thing dog east physical else continue also picture anyone most policy perform particularly writer almost dream environment ahead international matter them such chance growth study research professional wonder help third mother close ever short treatment will report expert throw himself want event street trouble red maybe themselves beat lose try bar happy bag design available run attack must yeah anything opportunity eight age above thousand through however reason seat majority find thing information seven plant spring lead number page lay gun decide sister marriage father film edge of former choose blood name clear home true fall they strategy create consumer present two wait still rise letter themselves kid prevent really item head piece though event car force sell plan specific themselves serve well something fish wall industry rule ability appear know whether believe north if skin probably her shoulder couple them need peace game lot either her strategy student rule certainly world personal series believe head someone agent green opportunity attention cultural service system age nor movement share ground voice price anyone as structure itself hundred rate like information parent my teach resource cultural east hear book great a perform policy rise rule matter own",
         "3/6/2024",
         "CNN",
         "Riley Maldonado",
         "Health",
         "0"
        ],
        [
         "16108",
         "Ask occur country father as respond feeling purpose.",
         "on dark our page offer industry base phone think cause house central drop exactly relate region book prevent mean more population health by admit happy administration return matter such west important police hospital however happy short fear while talk whether our fund north in everyone church increase foot cause gun wide system easy great new white summer few east similar customer most people share carry military science attack available industry world the soldier Mrs commercial mind senior one long chance catch determine end garden sign vote run later local production policy against prepare book available smile gas state become get large but town board need structure adult garden site candidate management choice position material item hear matter believe full claim water civil small even stop can carry arrive offer avoid station laugh say hand feel him rich near trouble tree if visit least wide cell coach present small include themselves institution politics put improve political manager analysis night day specific high later factor like trouble spend series wall avoid care today process trade along mention include indicate reduce capital company rule involve your record fine skill source author meeting rise painting either nearly exist local medical morning media price how memory that personal foot maybe recently ahead now specific seven every table choose one simple adult size pay very cell concern small TV think woman social boy that man fact movie me though source treat voice performance whole school economy his about number summer appear television that employee ground in executive computer glass peace sea yet body establish nor material simple conference easy physical if each accept direction great clear today dark still",
         "9/28/2024",
         "Daily News",
         "Robert Roberts",
         "Business",
         "1"
        ],
        [
         "10221",
         "Despite authority her baby.",
         "artist herself explain unit short rise add beautiful American wall under newspaper decision hotel analysis believe catch act treat produce this change our game question watch color least card relate door tell parent teacher professional school forget glass yourself method account book writer story development upon call through kid let shoulder cover here bank state include seven station watch already professor get century spend phone mission because everybody art minute only difficult police I least moment start station medical morning cultural high always fish rest interview focus pretty professor economy high film role security recent heavy firm rate beautiful of listen example against billion sometimes oil yourself wide economic together knowledge main herself book central newspaper police public campaign contain kid lawyer behind like have mission yard color tell miss Mrs market cut prepare cultural fund wind building across rest party several over hope sport charge option society window start some consider each participant condition seat college child support then myself rock fish thank without to meet type really town manage white product tonight north authority economy share big consumer cause must power every level short one later peace order player decide kid himself four but buy live miss stuff hotel treatment spring lawyer number society power statement culture box television hot such get lawyer check suddenly street of issue charge tend not clearly call discover daughter cell most its foot year I vote phone cultural thought name serve material",
         "6/7/2024",
         "Fox News",
         "Steven Nunez",
         "Politics",
         "0"
        ],
        [
         "6293",
         "Population buy high civil week society.",
         "Mr them summer cell catch here while note cold which participant lose follow role exactly of significant character several surface cost big color window glass adult finally sell leader standard role house along although perhaps push pretty difficult visit range daughter fish join new one teach in under to factor budget design check single guy amount them night beat particularly of approach bring father lose party me decide institution knowledge attack than business meeting radio gas tonight commercial first later travel stage nothing guess billion inside manage employee simply everything whatever budget leave sure second decide others best improve possible skin institution activity many back box spring road offer whom international loss especially where sort last firm case she project trial crime computer also century blue a beautiful treatment drive nothing population office issue foreign she similar drop general sing similar design worry attack among drop continue lot media suggest color pull music take size safe seven goal movie section appear history training accept grow easy clearly around turn plant trial north here food dog majority population a develop part field improve above view manage operation first above land get billion bit skin research base memory key feeling teach prevent other offer sense effort alone candidate record fall serve also involve card start federal just parent somebody yourself test artist mother prove blood ago myself rich during will decision fly actually attorney church all sit military within bar stock election smile garden perhaps page approach gun charge statement always quickly strategy analysis necessary interest or spend",
         "5/3/2024",
         "NY Times",
         "Michael Smith",
         "Technology",
         "0"
        ],
        [
         "9079",
         "Edge run change project training art.",
         "cold strategy understand personal various between range attention store room specific lawyer between vote politics while important Mrs condition teach spend lead since although left no month to beyond between almost admit guy prove that beat future yes forward piece student condition only without I major activity artist court why technology animal phone while would week interesting way fish well group science benefit sport apply style instead down bar space human PM option state space live true laugh there reality degree on suddenly time help use force recent choose model how off picture whether her between particularly laugh there up material make senior there remember wish work including popular lay parent program forward policy crime enjoy base amount artist pick open kid really artist cover response image guess remain spend expert camera cold must travel together drop vote church school discover down organization such probably cup camera kid four several report vote down stock energy enter reduce decide beat half nature listen good capital action around guess community risk various school film eight product senior able against little trip everyone southern with film sing practice task soon single garden of will pull character surface hotel heart return traditional quality people small west turn turn option outside move common open baby system hand grow car some study court return message and it child",
         "5/22/2023",
         "BBC",
         "Cathy Rivera",
         "Technology",
         "1"
        ],
        [
         "12598",
         "Son election mean just hospital very fact student.",
         "report he cultural recognize pick cultural couple several while sound indicate whom simply wrong clearly study increase camera take area situation in capital box across whole imagine after anything most strategy law protect me stage exactly bar citizen near doctor particular nor audience clearly class owner far personal level item yeah involve note throughout look audience walk mission own staff medical according within resource sense on rest indeed evening government card four take those job religious hold program mention decade bill shake the example edge cost benefit development how charge traditional blue culture it attack west real police individual someone month recently assume real base value discover start require since mother outside man law against three involve yourself seem matter organization who author morning throw concern visit hold phone under author government girl degree site she plan traditional career front give American task rate pay effort foot act else upon else tough forward show hair page understand individual manage speak world kitchen visit people over face inside operation knowledge center door worker him leave must in administration ability standard both answer air strong player perhaps boy common only modern night economy consumer bill allow indeed like spring star put stage also manager page chair interview prevent rule keep analysis sell hundred painting president light table hear move dark weight of then serious teach offer here whom hotel level occur plant fly now occur loss lot speak news born nothing hard enough staff expert research nothing recent food standard product address anything",
         "3/22/2024",
         "Reuters",
         "Amber Horn",
         "Sports",
         "1"
        ],
        [
         "1693",
         "Lot think protect interview age thus.",
         "level significant you fight never bill nor leader bank foreign daughter news thought policy art beautiful respond old behind fine school movement space official garden them laugh worry nature east boy authority nor character free line special old place dinner yourself go others effect quite many clear environmental southern create upon art know four clearly perhaps the world less remain night artist fall any door letter behind air structure skin whether visit fight tough set everyone allow company already wear benefit scene land family activity idea campaign service provide bad tell three our nature window offer follow learn rich choice home budget wrong carry his stay contain treatment indicate we sure magazine blood president alone oil have after will class step around daughter resource hotel yard education around strategy data blood pay book this term decision future show power indicate wall politics help well blue say such among prepare everything into catch friend focus market town condition opportunity among receive career allow doctor ask begin thus expert how business phone least agency career box boy why into investment model role choose agent usually including election thus first security national stuff western fire mother religious owner floor present summer same lay nature week culture year toward add wish situation hard quality cultural teach heart forget ground hit we customer option suddenly south individual magazine order training participant teacher partner simple bed decision since through dream politics",
         "11/24/2024",
         "CNN",
         "Julie Graves",
         "Technology",
         "0"
        ],
        [
         "12746",
         "Build hand indeed degree girl class worry paper.",
         "happy record that consumer investment quality could bank wish size development home money lawyer gun water they according idea situation next south take nation expect south fine statement stock single finally federal personal product response finally fine family computer notice attack point remember she require power carry number letter information something capital weight news growth buy tell grow modern meet world recognize western without hit nearly lawyer land throw tough similar spring message light federal big side money check until tough support federal all radio oil student full lay degree walk increase indeed score real husband area south stop evening public future born force always stage late only station force fly your bag half myself two plan entire religious approach example go necessary good officer try loss number window really financial maintain body see land factor usually affect citizen off turn consider investment few by ask manager six music reach son institution him eight plan fact hold measure degree likely administration he sister data reality paper government mind there in list decade tree want its official win treat tonight carry huge listen few action foot customer your training hand name center late information suffer half agent page fill station range reflect nor rise college car do hot protect color practice away benefit value somebody will reduce vote some form sort anyone over race phone treat today moment common bit marriage",
         "11/15/2023",
         "Fox News",
         "Deborah Smith",
         "Health",
         "0"
        ],
        [
         "15049",
         "Real option a everyone message.",
         "player month west today offer phone together remember family tend for decade record interesting guess fund trouble at he pattern these maintain everything stop drop product culture bag civil effort measure maybe learn where human upon best better parent worker leave stage ball current during hold however pick make fill spring agent very brother once brother money economy guy chance former reach sign security hour sea whose crime tree husband break detail eight discussion phone world religious away seek no citizen growth certainly share fly property government lot investment certainly grow pretty article thus tonight bar decade few information involve relationship clear specific set business part drop town management Congress ago treat learn different exactly despite low such government place great economy boy maintain return high customer field important cup such admit certainly identify language foot unit true explain hospital consumer official maintain leave show single action person road maintain economic skin away series hundred hit or anything pass various at customer pick could right heavy game authority so through quality need at positive receive prepare artist until since ask page test defense movie main think left clearly resource institution bit upon capital water opportunity town top they traditional might similar social local deal serve per box full few treatment particularly perhaps soldier let miss mother direction religious",
         "6/14/2022",
         "The Guardian",
         "Kathleen Hobbs",
         "Entertainment",
         "1"
        ],
        [
         "13035",
         "Safe foreign arrive so now learn yeah.",
         "bill enjoy stay begin always the he draw each pass prevent focus near player very special thing letter successful executive spend she meet shoulder live answer management feeling wait pressure north treat improve young meet company second common business activity unit person moment bad win character agreement support near cut agreement show soldier watch direction message business take throughout art line like size debate he future find throw total some realize easy ready simply structure remain visit hair thing eat religious one edge strategy style measure upon behavior central company draw painting message and great fact Republican eight woman support politics join there onto four officer challenge kitchen music experience half wish exist class international while dog page successful second old imagine upon expect building manage customer school thousand alone message exactly major themselves ball management plant medical drop significant Democrat here to charge speech common different grow they sit well move character appear measure remember show respond police hear address hour maybe huge guess yet last order price ten wrong right mind computer east leg those him manager fly drop service she evening identify the others red simple ok newspaper southern low ok economic reveal side court protect decide indicate green project skin record idea work what service certainly large degree girl name rise program think beat final model section ask hair pass record claim machine impact eight specific win great certainly which hair travel benefit statement test cold community ten establish section day mean then risk fact happy push happen cover laugh whole suffer cell try happy suffer green central check foreign mind citizen teach exactly owner involve activity include political food",
         "1/4/2023",
         "Daily News",
         "Lori Wagner",
         "Entertainment",
         "1"
        ],
        [
         "16710",
         "Trade free improve clearly cold success fall key.",
         "professor other cultural process like mention citizen see a property toward letter position part garden movement finish fast present staff tough mention by office approach from animal young owner marriage machine type page view parent court quite whatever four now perform foreign everyone likely leave side fine west three dark instead detail interest energy pick above sport story hair sit evening stop Congress song third response spend director show which government reason fill training language environmental decision process treatment huge ask tend series other outside store to question goal happy during through score management itself author stop skill seven authority stand protect continue threat pretty try camera agreement director step pressure everyone wonder expect career could recently black prevent bank mention ahead condition page to will perform blood technology important movie scientist system personal light industry card put wind so here describe Democrat media entire shoulder listen pretty huge society young upon contain social sit kitchen local energy court son station several lay different dark foreign its why to general certain sort send factor chance attorney oil some movie reason compare name care major real choice black front interest still scientist work find whether strong keep interview possible image law design experience various artist share along foreign choice lawyer kind seven color vote challenge phone Mrs director response bank seven anything employee outside figure court where require rock key stuff seek stage five power picture five treatment then record notice lose join beautiful million method education yet put start type institution lead of them president around measure purpose power including simply across director range us like city hour treat shoulder activity who expect worry its yes tonight thousand ground",
         "7/17/2024",
         "Reuters",
         "Brooke Li",
         "Technology",
         "1"
        ],
        [
         "17702",
         "Join many goal concern police.",
         "no cause visit military executive first increase change main foot represent movement fly rather everything serve white much everyone they what collection begin everyone begin generation summer usually sell line major memory industry day fast safe near treatment card think interest project term road window learn try man still continue soldier wish standard assume Republican memory kind future black upon goal increase hair task skin nearly sport enjoy no skill dog use meeting yeah case practice go soldier issue wait new until international leave special doctor season art model alone game unit must power history us picture put school note name run difference cold rest machine reflect indicate until others significant then hold week daughter box teach help six management win student other generation go everybody talk discussion television hand couple morning identify figure look between available reach respond home mission civil where natural good its value thought marriage season claim child him quickly seat box the movie yard wonder third herself thing tax sense career buy close bag attorney owner oil care baby entire light finally fund bad for little sometimes police fact above too general head yourself make energy thousand consider manage college travel effort interest physical economy outside eight five field build threat strong notice agreement adult recognize food hope key single research share chance fight so sort sort mother writer be west most find station feeling behavior line close seem source himself no serious practice different peace material allow notice race carry event recognize bring visit",
         "1/31/2023",
         "BBC",
         "Angela Mueller",
         "Business",
         "1"
        ],
        [
         "7850",
         "Arrive agent draw happy pattern open.",
         "not college figure senior join chair identify check stop minute game smile area floor stand if happy provide charge debate model best network avoid ground a radio why mother while weight and top until star young consider sometimes force medical ready play next to several offer own personal itself detail black nor industry chance billion PM industry thought environment keep employee evidence treat surface movement major production its her Democrat voice nice mean strong different physical local practice outside receive leg low keep southern our today base specific really behavior call after language require heavy explain outside modern time back wish course rise news today at have choose page since exist whether us less cover box admit reflect production place near large assume order live save report participant simply measure specific husband worker street manager prepare nice morning whether we none body city station beat increase risk political shoulder start determine low particularly with social happy student experience remain size build since develop reflect recently establish pick physical style people memory indeed region partner back appear win whatever explain visit nice cell scene stand guess tree situation around financial space could institution conference look race newspaper significant focus any example old event bed future case official reach wear later size court stop agreement husband month nice likely center wife arm sport stand Mrs up star yard their sign three then control matter authority I likely road least wait successful along into stage network",
         "5/28/2022",
         "NY Times",
         "Juan Hays",
         "Sports",
         "0"
        ],
        [
         "17559",
         "Light ready fear voice start probably part.",
         "heavy professor economic to later administration civil else certainly affect answer across carry grow business realize college money drop east suddenly drive cut cell product range treatment population reason test southern how protect color again everybody discuss ground including knowledge detail development life authority season than hundred order sing structure difference former tell include deep see scientist age gun behavior which approach claim what wear student each result continue instead somebody push executive offer war trip democratic level live mean how night interesting be agreement send pull piece able child hope perhaps generation media away mention structure draw education education real measure federal table deal job pick nor remain area character color join according stock item worker expert federal school guess reach miss standard feel decide among human goal born rather statement weight story brother past forward seven culture detail challenge yes size here after evidence peace sound official position market political that forget position arm player personal family hour always little cover view into pay nice fall us when site close here city charge range still institution minute treat design down least state can story think perform ok truth significant require bring south skin so population wall reality mother necessary mother crime operation catch our ask employee maybe improve under local imagine could arm",
         "1/15/2023",
         "CNN",
         "Steven Booth",
         "Science",
         "1"
        ],
        [
         "15278",
         "Field black hand color.",
         "coach free sea over force well enter day just when want I yeah fire over woman middle adult follow author fly too create example add less light court quality baby certain and upon success page say alone every summer heart interview whose wonder Mrs perform subject end artist your vote thus Republican force finish office hard someone who drop cost can outside artist order own upon until energy fast hot green best fact ahead be hear almost heart music manager interview increase result join crime stop Congress leader discover realize city break really oil your apply garden bit world enough drug dinner office often budget surface professor until whether agree yes grow center cover mean represent night cut final line moment whom from subject if our role represent television woman most develop sing management relationship almost but main account there get able alone gun rather per early free bring age rock democratic blue class however end its because reality work main final item imagine bit often can both hotel order meeting tell alone so picture long seven unit parent six above value or be it whose democratic stay always myself expert choose thank site discussion model phone or economy join these red table road by number ago child discussion class consumer human city computer table others score nice life argue arrive then station cold people lot bank hear she first relationship check reason physical region large begin early possible rock clear pay institution key side perform heavy green today ten understand occur idea control chance arrive away work stop choose ball deal people hard both wait executive drop newspaper news visit senior official campaign develop partner charge others fear prepare especially people stock occur itself rise appear half",
         "9/11/2024",
         "CNN",
         "Mr. Matthew Conway MD",
         "Science",
         "0"
        ],
        [
         "10628",
         "Hotel however clear simple five professional exist.",
         "well amount six drug kind center professor or soldier defense police pass reach front together media others different gas seek end very still recent a sure determine play one yeah son early approach spend whether financial fund respond life reflect apply answer indeed according several every final stop or likely floor push improve investment positive everyone model respond bring something ever response east series trip much end seem most deep while despite him yard moment middle carry hospital hour claim about page forget time according individual several high manage room would expert me rich increase south help project event region scene money question treat knowledge rise program child establish agreement person side threat large whole least main cell public however defense site Mr administration loss base its research machine door keep born door stock in matter man score imagine impact size people when room resource through personal information bed rock Democrat car ready talk record win discussion power simply event fine yourself although ready language season talk maintain development prevent article police sit industry people instead common him measure second bring father manager line me interesting office your politics chair explain data policy role everybody own hotel without hair body very more knowledge final chair know today business administration himself ok maybe head perform fall seven company north argue the",
         "9/7/2022",
         "NY Times",
         "Michael Mcdonald",
         "Sports",
         "1"
        ],
        [
         "17693",
         "Type about their their big manage.",
         "way challenge try information official end face anyone community risk writer board wonder democratic practice cup enter power race to idea sport development growth later where space whose gun material billion artist Republican cover include create spend happy each heavy hear organization look start and mention development question sing affect treat performance meeting middle member pass practice million money anything try story painting continue gas see process computer level end hot west population say community site training fear shoulder art mention add one hair benefit surface very about wind book people south benefit father might bar table perform ability whole candidate front oil institution power land paper determine hope value movie language west write laugh student approach Congress I again wife couple worker speech education million can lay energy leg similar read base past start energy activity letter food feel no nature inside catch their to begin member able central cost thus instead use enjoy easy as go dark southern report certainly when chair recent store important wind some take green why government hot specific look attack fine good style expert evidence paper TV resource pay great prevent lay light interest finish education film whole could great most pattern pull alone boy stand movement model forward test city up measure edge international purpose vote behavior office magazine audience look sport culture letter hair hit behavior something top ball owner rise ever public remember reach accept current method there when difficult yes nice down read positive prevent mother stop recent term look tell sea right tell effort dream sound by",
         "6/25/2022",
         "NY Times",
         "Erin Kim",
         "Technology",
         "1"
        ],
        [
         "15534",
         "Option sport opportunity movie.",
         "question story car audience participant executive low child so then expect spring order activity enough thank form western stock north main fire police alone her method health fine must view even guy add when enter treatment game drive success build or image join past itself fly everything account hope central one new likely onto word lay poor truth knowledge leg national site image position often meet base prepare occur my them indeed defense any food book positive ago ago board lot fly own heart popular project always especially whose forget property knowledge adult official message few catch social simple she institution exactly officer according current other movie peace year expect help now value official history behavior way against discuss training fund give choose force company wind bar subject his dark little suffer remember above cell or rate experience deal note your a health business employee score discover dream morning fight indicate practice above crime else every our easy then lawyer us blood all society yet education check treat inside perhaps fall past book begin standard respond hold Congress middle lead all small challenge you view put that finish result above discover few then production speak commercial size have especially score option form year edge relate explain parent mission enter they material improve figure develop establish safe Mr long",
         "12/4/2022",
         "NY Times",
         "Cameron Woods",
         "Business",
         "1"
        ],
        [
         "1887",
         "Cell fish table.",
         "apply responsibility also production marriage hair strong top bad small result visit new herself bar collection keep include grow human difficult mouth same brother beyond box foreign after despite oil friend remain public change south spring camera spring ball condition human growth under well none sea likely six production time mean there floor television his boy strategy start night next sort inside whether magazine turn blue race prepare sure note day appear total season single myself cut they discussion turn hundred important stay young billion wait something site list truth make early star respond room rock see forget form society natural research Republican on many Congress whether share deep chance life cup wind maintain degree north real own take sea will floor ask draw some operation size eight break there whose note federal treat important various item might well theory admit order between first want water chance candidate learn find card nature fire look amount base choose north continue center detail security live too score half body office strong job surface physical pass go middle use finally up change in adult community plan condition eat PM name continue image upon benefit political free yeah science just today always pay police will writer report bar feeling indeed him outside reach purpose watch old become position probably too policy subject land talk attorney Mrs heavy within edge set should assume never decade figure million international wonder eye sign agency system himself movement heavy table soon teach protect indeed letter machine popular color ten much three easy church his much quite avoid life paper another country catch myself central fly actually tonight on front science represent develop assume spend government baby like himself couple green drug soldier early truth body buy research cultural foot style news current man movement purpose half federal answer",
         "4/16/2024",
         "Reuters",
         "Heather Martin",
         "Entertainment",
         "0"
        ]
       ],
       "shape": {
        "columns": 7,
        "rows": 19000
       }
      },
      "text/html": [
       "<div>\n",
       "<style scoped>\n",
       "    .dataframe tbody tr th:only-of-type {\n",
       "        vertical-align: middle;\n",
       "    }\n",
       "\n",
       "    .dataframe tbody tr th {\n",
       "        vertical-align: top;\n",
       "    }\n",
       "\n",
       "    .dataframe thead th {\n",
       "        text-align: right;\n",
       "    }\n",
       "</style>\n",
       "<table border=\"1\" class=\"dataframe\">\n",
       "  <thead>\n",
       "    <tr style=\"text-align: right;\">\n",
       "      <th></th>\n",
       "      <th>title</th>\n",
       "      <th>text</th>\n",
       "      <th>date</th>\n",
       "      <th>source</th>\n",
       "      <th>author</th>\n",
       "      <th>category</th>\n",
       "      <th>label</th>\n",
       "    </tr>\n",
       "  </thead>\n",
       "  <tbody>\n",
       "    <tr>\n",
       "      <th>5554</th>\n",
       "      <td>Voice enter series exactly president kind.</td>\n",
       "      <td>defense land time indeed close left yard chall...</td>\n",
       "      <td>5/14/2023</td>\n",
       "      <td>NY Times</td>\n",
       "      <td>Katherine Vega</td>\n",
       "      <td>Politics</td>\n",
       "      <td>0</td>\n",
       "    </tr>\n",
       "    <tr>\n",
       "      <th>7065</th>\n",
       "      <td>Government across crime important world.</td>\n",
       "      <td>up sound avoid less bad different catch star n...</td>\n",
       "      <td>6/18/2023</td>\n",
       "      <td>Fox News</td>\n",
       "      <td>Sherry Andrews</td>\n",
       "      <td>Science</td>\n",
       "      <td>1</td>\n",
       "    </tr>\n",
       "    <tr>\n",
       "      <th>2267</th>\n",
       "      <td>Seven board science reduce most benefit music ...</td>\n",
       "      <td>natural last open room material range camera t...</td>\n",
       "      <td>4/5/2024</td>\n",
       "      <td>Daily News</td>\n",
       "      <td>Cody Mccann</td>\n",
       "      <td>Health</td>\n",
       "      <td>1</td>\n",
       "    </tr>\n",
       "    <tr>\n",
       "      <th>18995</th>\n",
       "      <td>High health against staff decade cold.</td>\n",
       "      <td>whose nearly tough wife government how machine...</td>\n",
       "      <td>1/30/2025</td>\n",
       "      <td>Fox News</td>\n",
       "      <td>Laura Bennett</td>\n",
       "      <td>Science</td>\n",
       "      <td>0</td>\n",
       "    </tr>\n",
       "    <tr>\n",
       "      <th>10976</th>\n",
       "      <td>Read about member affect according.</td>\n",
       "      <td>population also street imagine morning informa...</td>\n",
       "      <td>12/23/2023</td>\n",
       "      <td>Reuters</td>\n",
       "      <td>Christopher Conner</td>\n",
       "      <td>Politics</td>\n",
       "      <td>1</td>\n",
       "    </tr>\n",
       "    <tr>\n",
       "      <th>...</th>\n",
       "      <td>...</td>\n",
       "      <td>...</td>\n",
       "      <td>...</td>\n",
       "      <td>...</td>\n",
       "      <td>...</td>\n",
       "      <td>...</td>\n",
       "      <td>...</td>\n",
       "    </tr>\n",
       "    <tr>\n",
       "      <th>9622</th>\n",
       "      <td>Add age magazine above find price my.</td>\n",
       "      <td>treat customer economy wall work if pass prese...</td>\n",
       "      <td>8/15/2023</td>\n",
       "      <td>NaN</td>\n",
       "      <td>Zachary English</td>\n",
       "      <td>Health</td>\n",
       "      <td>1</td>\n",
       "    </tr>\n",
       "    <tr>\n",
       "      <th>18049</th>\n",
       "      <td>Sea exist win language nature newspaper born.</td>\n",
       "      <td>thought dog knowledge law down write particula...</td>\n",
       "      <td>2/16/2023</td>\n",
       "      <td>Daily News</td>\n",
       "      <td>Brett Walker</td>\n",
       "      <td>Politics</td>\n",
       "      <td>1</td>\n",
       "    </tr>\n",
       "    <tr>\n",
       "      <th>15084</th>\n",
       "      <td>Region nearly research most red environment po...</td>\n",
       "      <td>have executive someone environment foreign mov...</td>\n",
       "      <td>1/8/2025</td>\n",
       "      <td>Global Times</td>\n",
       "      <td>Amy Fisher</td>\n",
       "      <td>Technology</td>\n",
       "      <td>1</td>\n",
       "    </tr>\n",
       "    <tr>\n",
       "      <th>18085</th>\n",
       "      <td>Everyone voice painting discuss.</td>\n",
       "      <td>fall very last charge candidate partner discus...</td>\n",
       "      <td>1/27/2024</td>\n",
       "      <td>NY Times</td>\n",
       "      <td>Ronnie Gonzales</td>\n",
       "      <td>Sports</td>\n",
       "      <td>0</td>\n",
       "    </tr>\n",
       "    <tr>\n",
       "      <th>1278</th>\n",
       "      <td>Not need either political wide.</td>\n",
       "      <td>anything it action property movie machine must...</td>\n",
       "      <td>5/22/2023</td>\n",
       "      <td>NY Times</td>\n",
       "      <td>Patricia Huffman</td>\n",
       "      <td>Sports</td>\n",
       "      <td>1</td>\n",
       "    </tr>\n",
       "  </tbody>\n",
       "</table>\n",
       "<p>19000 rows × 7 columns</p>\n",
       "</div>"
      ],
      "text/plain": [
       "                                                   title  \\\n",
       "5554          Voice enter series exactly president kind.   \n",
       "7065            Government across crime important world.   \n",
       "2267   Seven board science reduce most benefit music ...   \n",
       "18995             High health against staff decade cold.   \n",
       "10976                Read about member affect according.   \n",
       "...                                                  ...   \n",
       "9622               Add age magazine above find price my.   \n",
       "18049      Sea exist win language nature newspaper born.   \n",
       "15084  Region nearly research most red environment po...   \n",
       "18085                   Everyone voice painting discuss.   \n",
       "1278                     Not need either political wide.   \n",
       "\n",
       "                                                    text        date  \\\n",
       "5554   defense land time indeed close left yard chall...   5/14/2023   \n",
       "7065   up sound avoid less bad different catch star n...   6/18/2023   \n",
       "2267   natural last open room material range camera t...    4/5/2024   \n",
       "18995  whose nearly tough wife government how machine...   1/30/2025   \n",
       "10976  population also street imagine morning informa...  12/23/2023   \n",
       "...                                                  ...         ...   \n",
       "9622   treat customer economy wall work if pass prese...   8/15/2023   \n",
       "18049  thought dog knowledge law down write particula...   2/16/2023   \n",
       "15084  have executive someone environment foreign mov...    1/8/2025   \n",
       "18085  fall very last charge candidate partner discus...   1/27/2024   \n",
       "1278   anything it action property movie machine must...   5/22/2023   \n",
       "\n",
       "             source              author    category  label  \n",
       "5554       NY Times      Katherine Vega    Politics      0  \n",
       "7065       Fox News      Sherry Andrews     Science      1  \n",
       "2267     Daily News         Cody Mccann      Health      1  \n",
       "18995      Fox News       Laura Bennett     Science      0  \n",
       "10976       Reuters  Christopher Conner    Politics      1  \n",
       "...             ...                 ...         ...    ...  \n",
       "9622            NaN     Zachary English      Health      1  \n",
       "18049    Daily News        Brett Walker    Politics      1  \n",
       "15084  Global Times          Amy Fisher  Technology      1  \n",
       "18085      NY Times     Ronnie Gonzales      Sports      0  \n",
       "1278       NY Times    Patricia Huffman      Sports      1  \n",
       "\n",
       "[19000 rows x 7 columns]"
      ]
     },
     "execution_count": 11,
     "metadata": {},
     "output_type": "execute_result"
    }
   ],
   "source": [
    "X_train"
   ]
  },
  {
   "cell_type": "code",
   "execution_count": null,
   "id": "39152444",
   "metadata": {},
   "outputs": [],
   "source": [
    "#delay_per_day= data.groupby(['source' , 'category'])"
   ]
  },
  {
   "cell_type": "code",
   "execution_count": null,
   "id": "8c5cdaab",
   "metadata": {},
   "outputs": [],
   "source": [
    "# pivot = X_train.drop_duplicates().sort_values([\"category\", \"source\"])\n",
    "# w=pivot[[\"source\",\"category\"]].value_counts().reset_index()\n",
    "\n",
    "# dic = {}\n",
    "\n",
    "# for i in range(w.shape[0]):\n",
    "#     cate = w.loc[i, \"category\"]\n",
    "#     src = w.loc[i, \"source\"]\n",
    "#     label_id = f\"{src}_{cate}\"\n",
    "#     dic[label_id] = 0\n"
   ]
  },
  {
   "cell_type": "code",
   "execution_count": null,
   "id": "4f2a5962",
   "metadata": {},
   "outputs": [],
   "source": [
    "dic{ b_cnn : m1 , health_fo:  } -> 57"
   ]
  },
  {
   "cell_type": "code",
   "execution_count": null,
   "id": "f9282ecb",
   "metadata": {},
   "outputs": [],
   "source": [
    "# for i in dic.keys():\n",
    "#   text=i.split(\"_\")\n",
    "#   src = text[0]\n",
    "#   cate = text[1]\n",
    "\n",
    "#   itr_X_train= X_train[(X_train[\"source\"]== src)&(X_train[\"category\"]==cate)]"
   ]
  },
  {
   "cell_type": "code",
   "execution_count": null,
   "id": "b895de9c",
   "metadata": {},
   "outputs": [
    {
     "data": {
      "text/plain": [
       "'Global Times'"
      ]
     },
     "execution_count": 171,
     "metadata": {},
     "output_type": "execute_result"
    }
   ],
   "source": [
    "#cate"
   ]
  },
  {
   "cell_type": "code",
   "execution_count": null,
   "id": "2c531497",
   "metadata": {},
   "outputs": [
    {
     "data": {
      "text/plain": [
       "'Global Times'"
      ]
     },
     "execution_count": 172,
     "metadata": {},
     "output_type": "execute_result"
    }
   ],
   "source": [
    "#src"
   ]
  },
  {
   "cell_type": "markdown",
   "id": "409f5a6b",
   "metadata": {},
   "source": [
    "## Model"
   ]
  },
  {
   "cell_type": "code",
   "execution_count": null,
   "id": "8fa93f8a",
   "metadata": {},
   "outputs": [],
   "source": [
    "def fake_detections(train ,  test ):\n",
    "  \n",
    "#========== Dic ==========\n",
    "    copy_train=train\n",
    "    pivot = copy_train.drop_duplicates().sort_values([\"category\", \"source\"])\n",
    "    w=pivot[[\"source\",\"category\"]].value_counts().reset_index()\n",
    "    \n",
    "    dic = {}\n",
    "\n",
    "    for i in range(w.shape[0]):\n",
    "        cate = w.loc[i, \"category\"]\n",
    "        src = w.loc[i, \"source\"]\n",
    "        label_id = f\"{src}_{cate}\"\n",
    "        dic[label_id] = 0\n",
    "\n",
    "\n",
    "\n",
    "#========== imports ==========\n",
    "    import numpy as np\n",
    "    import pandas as pd\n",
    "    from sklearn.feature_extraction.text import CountVectorizer\n",
    "    from sklearn.ensemble import RandomForestClassifier\n",
    "    from sklearn.model_selection import StratifiedKFold\n",
    "    from sklearn.metrics import classification_report, confusion_matrix, accuracy_score\n",
    "    import seaborn as sns\n",
    "    import matplotlib.pyplot as plt\n",
    "    from collections import Counter\n",
    "\n",
    "\n",
    "\n",
    "    model_accs = []\n",
    "    e=2\n",
    "    for i in dic.keys():\n",
    "        q = i.split(\"_\")\n",
    "        src = q[0]\n",
    "        cate = q[1]\n",
    "\n",
    "\n",
    "        itr_train = train[(train[\"source\"] == src) & (train[\"category\"] == cate)]\n",
    "        itr_train_X = itr_train.drop(\"label\", axis=1)\n",
    "        itr_train_y = itr_train[\"label\"]\n",
    "\n",
    "        itr_test = test[(test[\"source\"] == src) & (test[\"category\"] == cate)]\n",
    "        itr_test_X = itr_test.drop(\"label\", axis=1)\n",
    "        itr_test_y = itr_test[\"label\"]\n",
    "\n",
    "\n",
    "        train_documents = itr_train_X[\"text\"]\n",
    "        test_documents = itr_test_X[\"text\"]\n",
    "\n",
    "\n",
    "        vectorizer = CountVectorizer(max_features=5000, ngram_range=(1, 1))\n",
    "        X = vectorizer.fit_transform(train_documents)\n",
    "        vocab = vectorizer.get_feature_names_out()\n",
    "        X_array = X.toarray()\n",
    "\n",
    "        train_labels = itr_train_y.tolist()\n",
    "        test_labels = itr_test_y.tolist()\n",
    "\n",
    "\n",
    "        train_fake_indices = [i for i, label in enumerate(train_labels) if label == 1]\n",
    "        train_real_indices = [i for i, label in enumerate(train_labels) if label == 0]\n",
    "\n",
    "\n",
    "        if len(train_fake_indices) == 0 or len(train_real_indices) == 0:\n",
    "            model_accs.append(0)\n",
    "            continue\n",
    "\n",
    "        fake_mean = np.mean(X_array[train_fake_indices], axis=0)\n",
    "        real_mean = np.mean(X_array[train_real_indices], axis=0)\n",
    "\n",
    "        word_scores = fake_mean - real_mean\n",
    "\n",
    "        df_keywords = pd.DataFrame({\n",
    "            \"word\": vocab,\n",
    "            \"fake_score\": word_scores\n",
    "        }).sort_values(by=\"fake_score\", ascending=False)\n",
    "\n",
    "        thresholds = [0.1,0.14]\n",
    "\n",
    "        best_accuracy = 0\n",
    "        accuracies = []\n",
    "        \n",
    "        for threshold in thresholds:\n",
    "            important_words = df_keywords[df_keywords[\"fake_score\"] > threshold][\"word\"].tolist()\n",
    "\n",
    "            if len(important_words) < 5:\n",
    "                continue\n",
    "\n",
    "            vectorizer_filtered = CountVectorizer(vocabulary=important_words)\n",
    "\n",
    "            X_filtered_train = vectorizer_filtered.fit_transform(train_documents)\n",
    "            X_filtered_test = vectorizer_filtered.transform(test_documents)\n",
    "\n",
    "            model = RandomForestClassifier(\n",
    "                class_weight='balanced',\n",
    "                n_estimators=100,\n",
    "                random_state=42,\n",
    "                criterion='entropy'\n",
    "            )\n",
    "\n",
    "            model.fit(X_filtered_train, train_labels)\n",
    "            y_pred = model.predict(X_filtered_test)\n",
    "\n",
    "            acc = accuracy_score(test_labels, y_pred)\n",
    "            accuracies.append(acc)\n",
    "           # print(acc)\n",
    "        best_accuracy = np.max(accuracies)\n",
    "        model_accs.append(best_accuracy)\n",
    "        dic[i]=best_accuracy\n",
    "\n",
    "            \n",
    "    return dic"
   ]
  },
  {
   "cell_type": "code",
   "execution_count": 126,
   "id": "d49c3ff3",
   "metadata": {},
   "outputs": [],
   "source": [
    "models_acc=fake_detections(X_train, X_test)"
   ]
  },
  {
   "cell_type": "code",
   "execution_count": 142,
   "id": "ce5e4cea",
   "metadata": {},
   "outputs": [],
   "source": [
    "df = pd.DataFrame(list(models_acc.items()), columns=[\"source_category\", \"accuracy\"])"
   ]
  },
  {
   "cell_type": "code",
   "execution_count": 144,
   "id": "3912f164",
   "metadata": {},
   "outputs": [
    {
     "data": {
      "application/vnd.microsoft.datawrangler.viewer.v0+json": {
       "columns": [
        {
         "name": "index",
         "rawType": "int64",
         "type": "integer"
        },
        {
         "name": "source_category",
         "rawType": "object",
         "type": "string"
        },
        {
         "name": "accuracy",
         "rawType": "float64",
         "type": "float"
        }
       ],
       "ref": "7b1c6baa-08bf-4da4-9388-6e1b9c5e4e54",
       "rows": [
        [
         "0",
         "Daily News_Health",
         "0.6666666666666666"
        ],
        [
         "1",
         "Fox News_Health",
         "0.5384615384615384"
        ],
        [
         "2",
         "BBC_Sports",
         "0.6428571428571429"
        ],
        [
         "3",
         "Daily News_Technology",
         "0.5789473684210527"
        ],
        [
         "4",
         "Daily News_Entertainment",
         "0.631578947368421"
        ]
       ],
       "shape": {
        "columns": 2,
        "rows": 5
       }
      },
      "text/html": [
       "<div>\n",
       "<style scoped>\n",
       "    .dataframe tbody tr th:only-of-type {\n",
       "        vertical-align: middle;\n",
       "    }\n",
       "\n",
       "    .dataframe tbody tr th {\n",
       "        vertical-align: top;\n",
       "    }\n",
       "\n",
       "    .dataframe thead th {\n",
       "        text-align: right;\n",
       "    }\n",
       "</style>\n",
       "<table border=\"1\" class=\"dataframe\">\n",
       "  <thead>\n",
       "    <tr style=\"text-align: right;\">\n",
       "      <th></th>\n",
       "      <th>source_category</th>\n",
       "      <th>accuracy</th>\n",
       "    </tr>\n",
       "  </thead>\n",
       "  <tbody>\n",
       "    <tr>\n",
       "      <th>0</th>\n",
       "      <td>Daily News_Health</td>\n",
       "      <td>0.666667</td>\n",
       "    </tr>\n",
       "    <tr>\n",
       "      <th>1</th>\n",
       "      <td>Fox News_Health</td>\n",
       "      <td>0.538462</td>\n",
       "    </tr>\n",
       "    <tr>\n",
       "      <th>2</th>\n",
       "      <td>BBC_Sports</td>\n",
       "      <td>0.642857</td>\n",
       "    </tr>\n",
       "    <tr>\n",
       "      <th>3</th>\n",
       "      <td>Daily News_Technology</td>\n",
       "      <td>0.578947</td>\n",
       "    </tr>\n",
       "    <tr>\n",
       "      <th>4</th>\n",
       "      <td>Daily News_Entertainment</td>\n",
       "      <td>0.631579</td>\n",
       "    </tr>\n",
       "  </tbody>\n",
       "</table>\n",
       "</div>"
      ],
      "text/plain": [
       "            source_category  accuracy\n",
       "0         Daily News_Health  0.666667\n",
       "1           Fox News_Health  0.538462\n",
       "2                BBC_Sports  0.642857\n",
       "3     Daily News_Technology  0.578947\n",
       "4  Daily News_Entertainment  0.631579"
      ]
     },
     "execution_count": 144,
     "metadata": {},
     "output_type": "execute_result"
    }
   ],
   "source": [
    "df.head()"
   ]
  },
  {
   "cell_type": "markdown",
   "id": "3c52b498",
   "metadata": {},
   "source": [
    "## project information"
   ]
  }
 ],
 "metadata": {
  "kernelspec": {
   "display_name": "Python 3",
   "language": "python",
   "name": "python3"
  },
  "language_info": {
   "codemirror_mode": {
    "name": "ipython",
    "version": 3
   },
   "file_extension": ".py",
   "mimetype": "text/x-python",
   "name": "python",
   "nbconvert_exporter": "python",
   "pygments_lexer": "ipython3",
   "version": "3.11.9"
  }
 },
 "nbformat": 4,
 "nbformat_minor": 5
}
